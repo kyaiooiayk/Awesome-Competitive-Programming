{
 "cells": [
  {
   "cell_type": "markdown",
   "id": "2459ed2a",
   "metadata": {
    "toc": true
   },
   "source": [
    "<h1>Table of Contents<span class=\"tocSkip\"></span></h1>\n",
    "<div class=\"toc\"><ul class=\"toc-item\"><li><span><a href=\"#Description\" data-toc-modified-id=\"Description-1\"><span class=\"toc-item-num\">1&nbsp;&nbsp;</span>Description</a></span></li><li><span><a href=\"#Constraints\" data-toc-modified-id=\"Constraints-2\"><span class=\"toc-item-num\">2&nbsp;&nbsp;</span>Constraints</a></span></li><li><span><a href=\"#Start-up-code\" data-toc-modified-id=\"Start-up-code-3\"><span class=\"toc-item-num\">3&nbsp;&nbsp;</span>Start-up code</a></span></li><li><span><a href=\"#Comment---think-before-coding!\" data-toc-modified-id=\"Comment---think-before-coding!-4\"><span class=\"toc-item-num\">4&nbsp;&nbsp;</span>Comment - think before coding!</a></span></li><li><span><a href=\"#Solution-#1\" data-toc-modified-id=\"Solution-#1-5\"><span class=\"toc-item-num\">5&nbsp;&nbsp;</span>Solution #1</a></span></li><li><span><a href=\"#Solution-#2\" data-toc-modified-id=\"Solution-#2-6\"><span class=\"toc-item-num\">6&nbsp;&nbsp;</span>Solution #2</a></span></li><li><span><a href=\"#Solution-#3\" data-toc-modified-id=\"Solution-#3-7\"><span class=\"toc-item-num\">7&nbsp;&nbsp;</span>Solution #3</a></span></li><li><span><a href=\"#References\" data-toc-modified-id=\"References-8\"><span class=\"toc-item-num\">8&nbsp;&nbsp;</span>References</a></span></li></ul></div>"
   ]
  },
  {
   "cell_type": "markdown",
   "id": "40965ce3",
   "metadata": {},
   "source": [
    "# Description\n",
    "<hr style = \"border:2px solid black\" ></hr>"
   ]
  },
  {
   "cell_type": "markdown",
   "id": "7bc7852a",
   "metadata": {
    "ExecuteTime": {
     "end_time": "2023-02-27T09:59:15.825890Z",
     "start_time": "2023-02-27T09:59:15.822105Z"
    }
   },
   "source": [
    "<div class=\"alert alert-warning\">\n",
    "<font color=black>\n",
    "\n",
    "- You have n coins and you want to build a staircase with these coins. \n",
    "- The staircase consists of `k` rows where the `ith` row has exactly `i` coins. The last row of the staircase may be incomplete.\n",
    "- Given the integer `n`, return the number of complete rows of the staircase you will build.\n",
    "\n",
    "```\n",
    "Example #1\n",
    "|\n",
    "||\n",
    "||\n",
    "Input: n = 5\n",
    "Output: 2\n",
    "Explanation: Because the 3rd row is incomplete, we return 2.\n",
    "\n",
    "Example #2\n",
    "|\n",
    "||\n",
    "|||\n",
    "||\n",
    "Input: n = 8\n",
    "Output: 3\n",
    "Explanation: Because the 4th row is incomplete, we return 3.\n",
    "```\n",
    "\n",
    "</font>\n",
    "</div>"
   ]
  },
  {
   "cell_type": "markdown",
   "id": "5a99aaba",
   "metadata": {},
   "source": [
    "# Constraints\n",
    "<hr style = \"border:2px solid black\" ></hr>"
   ]
  },
  {
   "cell_type": "markdown",
   "id": "01bf5828",
   "metadata": {},
   "source": [
    "<div class=\"alert alert-warning\">\n",
    "<font color=black>\n",
    "\n",
    "- `1 <= n <= 231 - 1`\n",
    "    \n",
    "</font>\n",
    "</div>"
   ]
  },
  {
   "cell_type": "markdown",
   "id": "f1daac75",
   "metadata": {},
   "source": [
    "# Start-up code\n",
    "<hr style = \"border:2px solid black\" ></hr>"
   ]
  },
  {
   "cell_type": "code",
   "execution_count": 2,
   "id": "cf0c5e3e",
   "metadata": {
    "ExecuteTime": {
     "end_time": "2023-03-02T14:45:47.027428Z",
     "start_time": "2023-03-02T14:45:47.023758Z"
    }
   },
   "outputs": [
    {
     "name": "stdout",
     "output_type": "stream",
     "text": [
      "None =2\n",
      "None =3\n"
     ]
    }
   ],
   "source": [
    "def arrangeCoins(n: int) -> int:\n",
    "    return None\n",
    "\n",
    "print(arrangeCoins(5), \"=2\")\n",
    "print(arrangeCoins(8), \"=3\")"
   ]
  },
  {
   "cell_type": "markdown",
   "id": "9c423446",
   "metadata": {},
   "source": [
    "# Comment - think before coding!\n",
    "<hr style = \"border:2px solid black\" ></hr>"
   ]
  },
  {
   "cell_type": "markdown",
   "id": "f208f584",
   "metadata": {},
   "source": [
    "<div class=\"alert alert-info\">\n",
    "<font color=black>\n",
    "\n",
    "- Three strategies can be implemented:\n",
    "    - Math -> study the series and turn it into a quadratic equation with known root\n",
    "    - Simple while loop\n",
    "    - Binary search\n",
    "\n",
    "</font>\n",
    "</div>"
   ]
  },
  {
   "cell_type": "markdown",
   "id": "df100eae",
   "metadata": {},
   "source": [
    "# Solution #1\n",
    "<hr style = \"border:2px solid black\" ></hr>"
   ]
  },
  {
   "cell_type": "code",
   "execution_count": 193,
   "id": "c76c4e4b",
   "metadata": {
    "ExecuteTime": {
     "end_time": "2023-03-02T15:24:58.791861Z",
     "start_time": "2023-03-02T15:24:58.788608Z"
    }
   },
   "outputs": [],
   "source": [
    "def arrangeCoins(n: int) -> int:\n",
    "\n",
    "    rows = 0\n",
    "    i = 1\n",
    "\n",
    "    while n >= i:\n",
    "        n -= i\n",
    "        rows += 1\n",
    "        i += 1\n",
    "\n",
    "    return rows"
   ]
  },
  {
   "cell_type": "code",
   "execution_count": 195,
   "id": "ee83d8c4",
   "metadata": {
    "ExecuteTime": {
     "end_time": "2023-03-02T15:25:05.116826Z",
     "start_time": "2023-03-02T15:25:05.112398Z"
    }
   },
   "outputs": [
    {
     "name": "stdout",
     "output_type": "stream",
     "text": [
      "1 =1\n",
      "1 =1\n",
      "2 =2\n",
      "3 =3\n",
      "3 =3\n",
      "4 =4\n"
     ]
    }
   ],
   "source": [
    "print(arrangeCoins(1), \"=1\")\n",
    "print(arrangeCoins(2), \"=1\")\n",
    "print(arrangeCoins(5), \"=2\")\n",
    "print(arrangeCoins(8), \"=3\")\n",
    "print(arrangeCoins(6), \"=3\")\n",
    "print(arrangeCoins(10), \"=4\")"
   ]
  },
  {
   "cell_type": "markdown",
   "id": "9314de41",
   "metadata": {},
   "source": [
    "# Solution #2\n",
    "<hr style = \"border:2px solid black\" ></hr>"
   ]
  },
  {
   "cell_type": "markdown",
   "id": "9c6fe2fb",
   "metadata": {},
   "source": [
    "<div class=\"alert alert-info\">\n",
    "<font color=black>\n",
    "    \n",
    "- According to sum of arithmetic series formula: 1 + 2 + 3 + ... + k = (1 + k) * k/ 2\n",
    "- We can make quadratic equation out of it: (1 + k) * k/ 2 = n\n",
    "- Meaning: k^2 + k - 2 * n = 0\n",
    "- Which corresponds to general quadratic equation form: `ax^2 + bx + c = 0`\n",
    "- By quadratic formula we can find: `k = -b + sqrt(b^2 - 4ac)/2a`\n",
    "- Which in our case is: `k = -1 + sqrt(1 + 8n)/2`\n",
    "- Answer is the solution of the equation taking the floor int value.\n",
    "\n",
    "</font>\n",
    "</div>"
   ]
  },
  {
   "cell_type": "code",
   "execution_count": 196,
   "id": "77ca6370",
   "metadata": {
    "ExecuteTime": {
     "end_time": "2023-03-02T15:29:00.383559Z",
     "start_time": "2023-03-02T15:29:00.380568Z"
    }
   },
   "outputs": [],
   "source": [
    "def arrangeCoins(n: int) -> int:\n",
    "    return int((-1 + (1 + 8*n) ** 0.5) // 2)"
   ]
  },
  {
   "cell_type": "code",
   "execution_count": 197,
   "id": "725426e8",
   "metadata": {
    "ExecuteTime": {
     "end_time": "2023-03-02T15:29:05.332587Z",
     "start_time": "2023-03-02T15:29:05.328116Z"
    }
   },
   "outputs": [
    {
     "name": "stdout",
     "output_type": "stream",
     "text": [
      "1 =1\n",
      "1 =1\n",
      "2 =2\n",
      "3 =3\n",
      "3 =3\n",
      "4 =4\n"
     ]
    }
   ],
   "source": [
    "print(arrangeCoins(1), \"=1\")\n",
    "print(arrangeCoins(2), \"=1\")\n",
    "print(arrangeCoins(5), \"=2\")\n",
    "print(arrangeCoins(8), \"=3\")\n",
    "print(arrangeCoins(6), \"=3\")\n",
    "print(arrangeCoins(10), \"=4\")"
   ]
  },
  {
   "cell_type": "markdown",
   "id": "10aa9f81",
   "metadata": {},
   "source": [
    "# Solution #3\n",
    "<hr style = \"border:2px solid black\" ></hr>"
   ]
  },
  {
   "cell_type": "code",
   "execution_count": 199,
   "id": "65c591bc",
   "metadata": {
    "ExecuteTime": {
     "end_time": "2023-03-02T15:31:31.471073Z",
     "start_time": "2023-03-02T15:31:31.466433Z"
    }
   },
   "outputs": [],
   "source": [
    "def arrangeCoins(n: int) -> int:\n",
    "    # binary search\n",
    "    lft, rght = 0, n\n",
    "    while lft <= rght:\n",
    "        mid = lft+(rght-lft)//2\n",
    "        tillMid = mid*(mid+1)//2\n",
    "        if tillMid == n:\n",
    "            return mid\n",
    "        elif tillMid < n:\n",
    "            lft = mid+1\n",
    "        else:\n",
    "            rght = mid-1\n",
    "    return rght"
   ]
  },
  {
   "cell_type": "code",
   "execution_count": 200,
   "id": "ef15122f",
   "metadata": {
    "ExecuteTime": {
     "end_time": "2023-03-02T15:31:31.718873Z",
     "start_time": "2023-03-02T15:31:31.714196Z"
    }
   },
   "outputs": [
    {
     "name": "stdout",
     "output_type": "stream",
     "text": [
      "1 =1\n",
      "1 =1\n",
      "2 =2\n",
      "3 =3\n",
      "3 =3\n",
      "4 =4\n"
     ]
    }
   ],
   "source": [
    "print(arrangeCoins(1), \"=1\")\n",
    "print(arrangeCoins(2), \"=1\")\n",
    "print(arrangeCoins(5), \"=2\")\n",
    "print(arrangeCoins(8), \"=3\")\n",
    "print(arrangeCoins(6), \"=3\")\n",
    "print(arrangeCoins(10), \"=4\")"
   ]
  },
  {
   "cell_type": "markdown",
   "id": "2c286f67",
   "metadata": {},
   "source": [
    "# References\n",
    "<hr style = \"border:2px solid black\" ></hr>"
   ]
  },
  {
   "cell_type": "markdown",
   "id": "0402c0e4",
   "metadata": {},
   "source": [
    "<div class=\"alert alert-warning\">\n",
    "<font color=black>\n",
    "\n",
    "- https://leetcode.com\n",
    "    \n",
    "</font>\n",
    "</div>"
   ]
  },
  {
   "cell_type": "code",
   "execution_count": null,
   "id": "78ec21b3",
   "metadata": {},
   "outputs": [],
   "source": []
  }
 ],
 "metadata": {
  "kernelspec": {
   "display_name": "trainingAI",
   "language": "python",
   "name": "trainingai"
  },
  "language_info": {
   "codemirror_mode": {
    "name": "ipython",
    "version": 3
   },
   "file_extension": ".py",
   "mimetype": "text/x-python",
   "name": "python",
   "nbconvert_exporter": "python",
   "pygments_lexer": "ipython3",
   "version": "3.9.7"
  },
  "toc": {
   "base_numbering": 1,
   "nav_menu": {},
   "number_sections": true,
   "sideBar": true,
   "skip_h1_title": false,
   "title_cell": "Table of Contents",
   "title_sidebar": "Contents",
   "toc_cell": true,
   "toc_position": {
    "height": "calc(100% - 180px)",
    "left": "10px",
    "top": "150px",
    "width": "222px"
   },
   "toc_section_display": true,
   "toc_window_display": true
  },
  "varInspector": {
   "cols": {
    "lenName": 16,
    "lenType": 16,
    "lenVar": 40
   },
   "kernels_config": {
    "python": {
     "delete_cmd_postfix": "",
     "delete_cmd_prefix": "del ",
     "library": "var_list.py",
     "varRefreshCmd": "print(var_dic_list())"
    },
    "r": {
     "delete_cmd_postfix": ") ",
     "delete_cmd_prefix": "rm(",
     "library": "var_list.r",
     "varRefreshCmd": "cat(var_dic_list()) "
    }
   },
   "types_to_exclude": [
    "module",
    "function",
    "builtin_function_or_method",
    "instance",
    "_Feature"
   ],
   "window_display": false
  }
 },
 "nbformat": 4,
 "nbformat_minor": 5
}
