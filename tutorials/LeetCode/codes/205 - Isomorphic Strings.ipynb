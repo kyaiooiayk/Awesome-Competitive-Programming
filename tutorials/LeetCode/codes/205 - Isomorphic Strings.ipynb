{
 "cells": [
  {
   "cell_type": "markdown",
   "id": "2459ed2a",
   "metadata": {
    "toc": true
   },
   "source": [
    "<h1>Table of Contents<span class=\"tocSkip\"></span></h1>\n",
    "<div class=\"toc\"><ul class=\"toc-item\"><li><span><a href=\"#Instruction\" data-toc-modified-id=\"Instruction-1\"><span class=\"toc-item-num\">1&nbsp;&nbsp;</span>Instruction</a></span></li><li><span><a href=\"#Start-up-code\" data-toc-modified-id=\"Start-up-code-2\"><span class=\"toc-item-num\">2&nbsp;&nbsp;</span>Start-up code</a></span></li><li><span><a href=\"#Comments---think-before-coding!\" data-toc-modified-id=\"Comments---think-before-coding!-3\"><span class=\"toc-item-num\">3&nbsp;&nbsp;</span>Comments - think before coding!</a></span></li><li><span><a href=\"#Solution-#1\" data-toc-modified-id=\"Solution-#1-4\"><span class=\"toc-item-num\">4&nbsp;&nbsp;</span>Solution #1</a></span></li><li><span><a href=\"#Solution-#2\" data-toc-modified-id=\"Solution-#2-5\"><span class=\"toc-item-num\">5&nbsp;&nbsp;</span>Solution #2</a></span></li><li><span><a href=\"#References\" data-toc-modified-id=\"References-6\"><span class=\"toc-item-num\">6&nbsp;&nbsp;</span>References</a></span></li></ul></div>"
   ]
  },
  {
   "cell_type": "markdown",
   "id": "4cb22ddf",
   "metadata": {},
   "source": [
    "# Instruction\n",
    "<hr style = \"border:2px solid black\" ></hr>"
   ]
  },
  {
   "cell_type": "markdown",
   "id": "f9597724",
   "metadata": {},
   "source": [
    "<div class=\"alert alert-warning\">\n",
    "<font color=black>\n",
    "\n",
    "- Given two strings s and t, determine if they are isomorphic.\n",
    "- Two strings s and t are isomorphic if the characters in s can be replaced to get t.\n",
    "- All occurrences of a character must be replaced with another character while preserving the order of characters. - No two characters may map to the same character, but a character may map to itself.\n",
    "\n",
    "```\n",
    "Example 1:\n",
    "Input: s = \"egg\", t = \"add\"\n",
    "Output: true\n",
    "\n",
    "Example 2:\n",
    "Input: s = \"foo\", t = \"bar\"\n",
    "Output: false\n",
    "\n",
    "Example 3:\n",
    "Input: s = \"paper\", t = \"title\"\n",
    "Output: true\n",
    "\n",
    "```\n",
    "\n",
    "</font>\n",
    "</div>"
   ]
  },
  {
   "cell_type": "markdown",
   "id": "f1daac75",
   "metadata": {},
   "source": [
    "# Start-up code\n",
    "<hr style = \"border:2px solid black\" ></hr>"
   ]
  },
  {
   "cell_type": "code",
   "execution_count": 1,
   "id": "cf0c5e3e",
   "metadata": {
    "ExecuteTime": {
     "end_time": "2023-01-02T14:22:19.364884Z",
     "start_time": "2023-01-02T14:22:19.360065Z"
    }
   },
   "outputs": [
    {
     "name": "stdout",
     "output_type": "stream",
     "text": [
      "None Expected: True\n",
      "None Expected: False\n",
      "None Expected: True\n"
     ]
    }
   ],
   "source": [
    "def isIsomorphic(s: str, t: str) -> bool:\n",
    "    return None\n",
    "\n",
    "print(isIsomorphic(\"egg\", \"add\"), \"Expected: True\")\n",
    "print(isIsomorphic(\"foo\", \"bar\"), \"Expected: False\")\n",
    "print(isIsomorphic(\"paper\", \"title\"), \"Expected: True\")"
   ]
  },
  {
   "cell_type": "markdown",
   "id": "f483ad6e",
   "metadata": {},
   "source": [
    "# Comments - think before coding!\n",
    "<hr style = \"border:2px solid black\" ></hr>"
   ]
  },
  {
   "cell_type": "markdown",
   "id": "6bfb0254",
   "metadata": {},
   "source": [
    "<div class=\"alert alert-info\">\n",
    "<font color=black>\n",
    "\n",
    "- There must be a one-to-one correspondance only -> use `set` to find the unique values.\n",
    "- Order must be respected -> make sure you reconstruct the word considering this as set does not respect the order.\n",
    "\n",
    "</font>\n",
    "</div>"
   ]
  },
  {
   "cell_type": "markdown",
   "id": "f71c39bd",
   "metadata": {},
   "source": [
    "# Solution #1\n",
    "<hr style = \"border:2px solid black\" ></hr>"
   ]
  },
  {
   "cell_type": "code",
   "execution_count": 92,
   "id": "f49b1c53",
   "metadata": {
    "ExecuteTime": {
     "end_time": "2023-01-02T15:01:56.029250Z",
     "start_time": "2023-01-02T15:01:56.022849Z"
    }
   },
   "outputs": [
    {
     "name": "stdout",
     "output_type": "stream",
     "text": [
      "True Expected: True\n",
      "False Expected: False\n",
      "True Expected: True\n",
      "False Expected: False\n"
     ]
    }
   ],
   "source": [
    "from collections import Counter\n",
    "\n",
    "def isIsomorphic(s: str, t: str) -> bool:\n",
    "\n",
    "    #print(s, len(s), set(s), len(set(s)), Counter(s))\n",
    "    #print(t, len(t), set(t), len(set(t)), Counter(t))\n",
    "\n",
    "    # First check if set are equal in number\n",
    "    if len(set(t)) == len(set(s)):\n",
    "        \n",
    "        # Then assemble construct a dict from s to t\n",
    "        seen = []\n",
    "        dict_st = {}\n",
    "        for i, j in zip(s,t):\n",
    "            if i not in seen:\n",
    "                dict_st[i] = j\n",
    "            seen.append(i)\n",
    "        #print(dict_st)\n",
    "        #print(seen)\n",
    "        \n",
    "        # reconstruct the t word and call it t_new\n",
    "        t_new = [dict_st[i] for i in list(s)]\n",
    "        t_new = \"\".join(t_new)\n",
    "        #print(b)\n",
    "\n",
    "        return t == t_new\n",
    "    else:\n",
    "        return False\n",
    "\n",
    "print(isIsomorphic(\"egg\", \"add\"), \"Expected: True\")\n",
    "print(isIsomorphic(\"foo\", \"bar\"), \"Expected: False\")\n",
    "print(isIsomorphic(\"paper\", \"title\"), \"Expected: True\")\n",
    "print(isIsomorphic(\"bbbaaaba\", \"aaabbbba\"), \"Expected: False\")"
   ]
  },
  {
   "cell_type": "markdown",
   "id": "b85170fd",
   "metadata": {},
   "source": [
    "# Solution #2\n",
    "<hr style = \"border:2px solid black\" ></hr>"
   ]
  },
  {
   "cell_type": "code",
   "execution_count": 108,
   "id": "b6aa8b61",
   "metadata": {
    "ExecuteTime": {
     "end_time": "2023-01-02T15:14:20.963081Z",
     "start_time": "2023-01-02T15:14:20.958313Z"
    }
   },
   "outputs": [
    {
     "name": "stdout",
     "output_type": "stream",
     "text": [
      "True Expected: True\n",
      "False Expected: False\n",
      "True Expected: True\n",
      "False Expected: False\n"
     ]
    }
   ],
   "source": [
    "def isIsomorphic(s: str, t: str) -> bool:\n",
    "    #print([i for i in zip(s,t)])\n",
    "    zipped_set = set(zip(s, t))\n",
    "    #print(zipped_set, \"|\", set(s), \"|\", set(t))\n",
    "    #print(len(zipped_set), \"|\", len(set(s)), \"|\", len(set(t)))\n",
    "    return len(zipped_set) == len(set(s)) == len(set(t))\n",
    "\n",
    "print(isIsomorphic(\"egg\", \"add\"), \"Expected: True\")\n",
    "print(isIsomorphic(\"foo\", \"bar\"), \"Expected: False\")\n",
    "print(isIsomorphic(\"paper\", \"title\"), \"Expected: True\")\n",
    "print(isIsomorphic(\"bbbaaaba\", \"aaabbbba\"), \"Expected: False\")"
   ]
  },
  {
   "cell_type": "markdown",
   "id": "364120bc",
   "metadata": {},
   "source": [
    "# References\n",
    "<hr style = \"border:2px solid black\" ></hr>"
   ]
  },
  {
   "cell_type": "markdown",
   "id": "372fcd5e",
   "metadata": {},
   "source": [
    "<div class=\"alert alert-warning\">\n",
    "<font color=black>\n",
    "\n",
    "- [Leetcode](https://www.leetcode.com)\n",
    "\n",
    "</font>\n",
    "</div>"
   ]
  },
  {
   "cell_type": "code",
   "execution_count": null,
   "id": "6defccdc",
   "metadata": {},
   "outputs": [],
   "source": []
  }
 ],
 "metadata": {
  "kernelspec": {
   "display_name": "trainingAI",
   "language": "python",
   "name": "trainingai"
  },
  "language_info": {
   "codemirror_mode": {
    "name": "ipython",
    "version": 3
   },
   "file_extension": ".py",
   "mimetype": "text/x-python",
   "name": "python",
   "nbconvert_exporter": "python",
   "pygments_lexer": "ipython3",
   "version": "3.9.7"
  },
  "toc": {
   "base_numbering": 1,
   "nav_menu": {},
   "number_sections": true,
   "sideBar": true,
   "skip_h1_title": false,
   "title_cell": "Table of Contents",
   "title_sidebar": "Contents",
   "toc_cell": true,
   "toc_position": {},
   "toc_section_display": true,
   "toc_window_display": true
  },
  "varInspector": {
   "cols": {
    "lenName": 16,
    "lenType": 16,
    "lenVar": 40
   },
   "kernels_config": {
    "python": {
     "delete_cmd_postfix": "",
     "delete_cmd_prefix": "del ",
     "library": "var_list.py",
     "varRefreshCmd": "print(var_dic_list())"
    },
    "r": {
     "delete_cmd_postfix": ") ",
     "delete_cmd_prefix": "rm(",
     "library": "var_list.r",
     "varRefreshCmd": "cat(var_dic_list()) "
    }
   },
   "types_to_exclude": [
    "module",
    "function",
    "builtin_function_or_method",
    "instance",
    "_Feature"
   ],
   "window_display": false
  }
 },
 "nbformat": 4,
 "nbformat_minor": 5
}
