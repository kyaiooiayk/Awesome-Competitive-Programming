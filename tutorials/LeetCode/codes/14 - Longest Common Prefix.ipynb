{
 "cells": [
  {
   "cell_type": "markdown",
   "id": "2459ed2a",
   "metadata": {
    "toc": true
   },
   "source": [
    "<h1>Table of Contents<span class=\"tocSkip\"></span></h1>\n",
    "<div class=\"toc\"><ul class=\"toc-item\"><li><span><a href=\"#Description\" data-toc-modified-id=\"Description-1\"><span class=\"toc-item-num\">1&nbsp;&nbsp;</span>Description</a></span></li><li><span><a href=\"#Start-up-code\" data-toc-modified-id=\"Start-up-code-2\"><span class=\"toc-item-num\">2&nbsp;&nbsp;</span>Start-up code</a></span></li><li><span><a href=\"#Comment---think-before-coding!\" data-toc-modified-id=\"Comment---think-before-coding!-3\"><span class=\"toc-item-num\">3&nbsp;&nbsp;</span>Comment - think before coding!</a></span></li><li><span><a href=\"#Solution-#1\" data-toc-modified-id=\"Solution-#1-4\"><span class=\"toc-item-num\">4&nbsp;&nbsp;</span>Solution #1</a></span></li><li><span><a href=\"#Solution-#2\" data-toc-modified-id=\"Solution-#2-5\"><span class=\"toc-item-num\">5&nbsp;&nbsp;</span>Solution #2</a></span></li><li><span><a href=\"#References\" data-toc-modified-id=\"References-6\"><span class=\"toc-item-num\">6&nbsp;&nbsp;</span>References</a></span></li></ul></div>"
   ]
  },
  {
   "cell_type": "markdown",
   "id": "40965ce3",
   "metadata": {},
   "source": [
    "# Description\n",
    "<hr style = \"border:2px solid black\" ></hr>"
   ]
  },
  {
   "cell_type": "markdown",
   "id": "1e440df1",
   "metadata": {
    "ExecuteTime": {
     "end_time": "2023-01-12T13:49:06.987434Z",
     "start_time": "2023-01-12T13:49:06.983575Z"
    }
   },
   "source": [
    "<div class=\"alert alert-warning\">\n",
    "<font color=black>\n",
    "\n",
    "- Write a function to find the longest common prefix string amongst an array of strings.\n",
    "- If there is no common prefix, return an empty string \"\".\n",
    "\n",
    "```\n",
    "Example 1:\n",
    "Input: strs = [\"flower\",\"flow\",\"flight\"]\n",
    "Output: \"fl\"\n",
    "\n",
    "Example 2:\n",
    "Input: strs = [\"dog\",\"racecar\",\"car\"]\n",
    "Output: \"\"\n",
    "Explanation: There is no common prefix among the input strings.\n",
    "```\n",
    "\n",
    "</font>\n",
    "</div>"
   ]
  },
  {
   "cell_type": "markdown",
   "id": "f1daac75",
   "metadata": {},
   "source": [
    "# Start-up code\n",
    "<hr style = \"border:2px solid black\" ></hr>"
   ]
  },
  {
   "cell_type": "code",
   "execution_count": 3,
   "id": "cf0c5e3e",
   "metadata": {
    "ExecuteTime": {
     "end_time": "2023-01-13T12:49:35.168279Z",
     "start_time": "2023-01-13T12:49:35.164763Z"
    }
   },
   "outputs": [
    {
     "name": "stdout",
     "output_type": "stream",
     "text": [
      "None Expected=: fl\n",
      "None Expected=: ''\n"
     ]
    }
   ],
   "source": [
    "def longestCommonPrefix(strs: list[str]) -> str:\n",
    "    return None\n",
    "\n",
    "print(longestCommonPrefix([\"flower\",\"flow\",\"flight\"]), \"Expected=: fl\")\n",
    "print(longestCommonPrefix([\"dog\",\"racecar\",\"car\"]), \"Expected=: ''\")\n"
   ]
  },
  {
   "cell_type": "markdown",
   "id": "9c423446",
   "metadata": {},
   "source": [
    "# Comment - think before coding!\n",
    "<hr style = \"border:2px solid black\" ></hr>"
   ]
  },
  {
   "cell_type": "markdown",
   "id": "82d73264",
   "metadata": {
    "ExecuteTime": {
     "end_time": "2023-01-12T13:49:06.996579Z",
     "start_time": "2023-01-12T13:49:06.996545Z"
    }
   },
   "source": [
    "<div class=\"alert alert-info\">\n",
    "<font color=black>\n",
    "\n",
    "- **Common** prefix, which means that it must be common to all the words.\n",
    "\n",
    "</font>\n",
    "</div>"
   ]
  },
  {
   "cell_type": "markdown",
   "id": "f163751a",
   "metadata": {},
   "source": [
    "# Solution #1\n",
    "<hr style = \"border:2px solid black\" ></hr>"
   ]
  },
  {
   "cell_type": "code",
   "execution_count": 80,
   "id": "06e3d39b",
   "metadata": {
    "ExecuteTime": {
     "end_time": "2023-01-13T13:30:35.100770Z",
     "start_time": "2023-01-13T13:30:35.094387Z"
    },
    "code_folding": []
   },
   "outputs": [
    {
     "name": "stdout",
     "output_type": "stream",
     "text": [
      "fl Expected= fl\n",
      " Expected= ''\n",
      "c Expected= c\n"
     ]
    }
   ],
   "source": [
    "def longestCommonPrefix(strs: list[str]) -> str:\n",
    "    \n",
    "    # store each words splits in its smallest words\n",
    "    a = [list(i) for i in strs]    \n",
    "    # check the length and select the shortest one for the loop\n",
    "    b = [len(i) for i in a]\n",
    "    \n",
    "\n",
    "    anchor = a[b.index(min(b))]\n",
    "    rest = [i for i in a if i != anchor]\n",
    "\n",
    "    collect = []\n",
    "    for j,value in enumerate(anchor):\n",
    "        #print(all([i[j] == value for i in rest]))\n",
    "        test = all([i[j] == value for i in rest])\n",
    "        if test:\n",
    "            collect.append(value)\n",
    "        else:\n",
    "            break\n",
    "            \n",
    "\n",
    "    return \"\".join(collect)\n",
    "\n",
    "print(longestCommonPrefix([\"flower\",\"flow\",\"flight\"]), \"Expected= fl\")\n",
    "print(longestCommonPrefix([\"dog\",\"racecar\",\"car\"]), \"Expected= ''\")\n",
    "print(longestCommonPrefix([\"cir\",\"car\"]), \"Expected= c\")\n"
   ]
  },
  {
   "cell_type": "markdown",
   "id": "efacb887",
   "metadata": {},
   "source": [
    "# Solution #2\n",
    "<hr style = \"border:2px solid black\" ></hr>"
   ]
  },
  {
   "cell_type": "markdown",
   "id": "f93c37c5",
   "metadata": {},
   "source": [
    "<div class=\"alert alert-info\">\n",
    "<font color=black>\n",
    "\n",
    "- The intuition for this approach comes from the wise usage of unpacking (`*`) and the zip function.\n",
    "- Zip the list, so you get the first characters of each word together in a tuple, the second letters in another tuple, and so on. This works up until there is enough characters to pack.\n",
    "\n",
    "</font>\n",
    "</div>"
   ]
  },
  {
   "cell_type": "code",
   "execution_count": 95,
   "id": "9b9bb674",
   "metadata": {
    "ExecuteTime": {
     "end_time": "2023-01-13T13:53:54.034093Z",
     "start_time": "2023-01-13T13:53:54.030154Z"
    }
   },
   "outputs": [
    {
     "data": {
      "text/plain": [
       "['flow', 'flight']"
      ]
     },
     "execution_count": 95,
     "metadata": {},
     "output_type": "execute_result"
    }
   ],
   "source": [
    "a = [\"flower\", \"flow\", \"flight\"]\n",
    "b, *c = a\n",
    "c"
   ]
  },
  {
   "cell_type": "code",
   "execution_count": 84,
   "id": "d731b7a9",
   "metadata": {
    "ExecuteTime": {
     "end_time": "2023-01-13T13:43:46.636199Z",
     "start_time": "2023-01-13T13:43:46.632992Z"
    }
   },
   "outputs": [
    {
     "name": "stdout",
     "output_type": "stream",
     "text": [
      "('flower',)\n",
      "('flow',)\n",
      "('flight',)\n"
     ]
    }
   ],
   "source": [
    "for i in zip([\"flower\",\"flow\",\"flight\"]):\n",
    "    print(i)"
   ]
  },
  {
   "cell_type": "code",
   "execution_count": 83,
   "id": "eb2e0e58",
   "metadata": {
    "ExecuteTime": {
     "end_time": "2023-01-13T13:42:32.265219Z",
     "start_time": "2023-01-13T13:42:32.261795Z"
    }
   },
   "outputs": [
    {
     "name": "stdout",
     "output_type": "stream",
     "text": [
      "('f', 'f', 'f')\n",
      "('l', 'l', 'l')\n",
      "('o', 'o', 'i')\n",
      "('w', 'w', 'g')\n"
     ]
    }
   ],
   "source": [
    "for i in zip(*[\"flower\",\"flow\",\"flight\"]):\n",
    "    print(i)"
   ]
  },
  {
   "cell_type": "code",
   "execution_count": 85,
   "id": "b937e36e",
   "metadata": {
    "ExecuteTime": {
     "end_time": "2023-01-13T13:45:18.631499Z",
     "start_time": "2023-01-13T13:45:18.628396Z"
    }
   },
   "outputs": [],
   "source": [
    "for i in zip(*[\"flower\",\"flow\",\"\"]):\n",
    "    print(i)"
   ]
  },
  {
   "cell_type": "code",
   "execution_count": 98,
   "id": "01b49530",
   "metadata": {
    "ExecuteTime": {
     "end_time": "2023-01-13T13:59:59.054742Z",
     "start_time": "2023-01-13T13:59:59.049976Z"
    }
   },
   "outputs": [
    {
     "name": "stdout",
     "output_type": "stream",
     "text": [
      "fl Expected= fl\n",
      " Expected= ''\n",
      "c Expected= c\n"
     ]
    }
   ],
   "source": [
    "def longestCommonPrefix(strs: list[str]) -> str:\n",
    "\n",
    "    res = \"\"\n",
    "    for a in zip(*strs):\n",
    "        if len(set(a)) == 1:\n",
    "            res += a[0]\n",
    "        else:\n",
    "            return res\n",
    "    return res\n",
    "\n",
    "\n",
    "print(longestCommonPrefix([\"flower\", \"flow\", \"flight\"]), \"Expected= fl\")\n",
    "print(longestCommonPrefix([\"dog\", \"racecar\", \"car\"]), \"Expected= ''\")\n",
    "print(longestCommonPrefix([\"cir\", \"car\"]), \"Expected= c\")"
   ]
  },
  {
   "cell_type": "markdown",
   "id": "a1d9f6c8",
   "metadata": {},
   "source": [
    "# References\n",
    "<hr style = \"border:2px solid black\" ></hr>"
   ]
  },
  {
   "cell_type": "markdown",
   "id": "2c1fd299",
   "metadata": {},
   "source": [
    "<div class=\"alert alert-warning\">\n",
    "<font color=black>\n",
    "\n",
    "- [Leetcode](www.leetcode.com)\n",
    "\n",
    "</font>\n",
    "</div>"
   ]
  },
  {
   "cell_type": "code",
   "execution_count": null,
   "id": "59ee41dd",
   "metadata": {},
   "outputs": [],
   "source": []
  }
 ],
 "metadata": {
  "kernelspec": {
   "display_name": "trainingAI",
   "language": "python",
   "name": "trainingai"
  },
  "language_info": {
   "codemirror_mode": {
    "name": "ipython",
    "version": 3
   },
   "file_extension": ".py",
   "mimetype": "text/x-python",
   "name": "python",
   "nbconvert_exporter": "python",
   "pygments_lexer": "ipython3",
   "version": "3.9.7"
  },
  "toc": {
   "base_numbering": 1,
   "nav_menu": {},
   "number_sections": true,
   "sideBar": true,
   "skip_h1_title": false,
   "title_cell": "Table of Contents",
   "title_sidebar": "Contents",
   "toc_cell": true,
   "toc_position": {},
   "toc_section_display": true,
   "toc_window_display": true
  },
  "varInspector": {
   "cols": {
    "lenName": 16,
    "lenType": 16,
    "lenVar": 40
   },
   "kernels_config": {
    "python": {
     "delete_cmd_postfix": "",
     "delete_cmd_prefix": "del ",
     "library": "var_list.py",
     "varRefreshCmd": "print(var_dic_list())"
    },
    "r": {
     "delete_cmd_postfix": ") ",
     "delete_cmd_prefix": "rm(",
     "library": "var_list.r",
     "varRefreshCmd": "cat(var_dic_list()) "
    }
   },
   "types_to_exclude": [
    "module",
    "function",
    "builtin_function_or_method",
    "instance",
    "_Feature"
   ],
   "window_display": false
  }
 },
 "nbformat": 4,
 "nbformat_minor": 5
}
