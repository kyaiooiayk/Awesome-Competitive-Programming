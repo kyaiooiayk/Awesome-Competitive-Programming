{
 "cells": [
  {
   "cell_type": "markdown",
   "id": "2459ed2a",
   "metadata": {
    "toc": true
   },
   "source": [
    "<h1>Table of Contents<span class=\"tocSkip\"></span></h1>\n",
    "<div class=\"toc\"><ul class=\"toc-item\"><li><span><a href=\"#Instruction\" data-toc-modified-id=\"Instruction-1\"><span class=\"toc-item-num\">1&nbsp;&nbsp;</span>Instruction</a></span></li><li><span><a href=\"#Start-up-code\" data-toc-modified-id=\"Start-up-code-2\"><span class=\"toc-item-num\">2&nbsp;&nbsp;</span>Start-up code</a></span></li><li><span><a href=\"#Comments---think-before-coding!\" data-toc-modified-id=\"Comments---think-before-coding!-3\"><span class=\"toc-item-num\">3&nbsp;&nbsp;</span>Comments - think before coding!</a></span></li><li><span><a href=\"#Solution-#1---failed\" data-toc-modified-id=\"Solution-#1---failed-4\"><span class=\"toc-item-num\">4&nbsp;&nbsp;</span>Solution #1 - failed</a></span></li><li><span><a href=\"#Solution-#2\" data-toc-modified-id=\"Solution-#2-5\"><span class=\"toc-item-num\">5&nbsp;&nbsp;</span>Solution #2</a></span></li><li><span><a href=\"#References\" data-toc-modified-id=\"References-6\"><span class=\"toc-item-num\">6&nbsp;&nbsp;</span>References</a></span></li></ul></div>"
   ]
  },
  {
   "cell_type": "markdown",
   "id": "4cb22ddf",
   "metadata": {},
   "source": [
    "# Instruction\n",
    "<hr style = \"border:2px solid black\" ></hr>"
   ]
  },
  {
   "cell_type": "markdown",
   "id": "d1cd954c",
   "metadata": {},
   "source": [
    "<div class=\"alert alert-warning\">\n",
    "<font color=black>\n",
    "\n",
    "- Given an integer array nums and an integer k, return true if \n",
    "    - there are two distinct indices `i` and `j` in the array such that `nums[i] == nums[j]` and\n",
    "    - `abs(i - j) <= k`\n",
    "\n",
    "```\n",
    "Example 1:\n",
    "Input: nums = [1,2,3,1], k = 3\n",
    "Output: true\n",
    "\n",
    "Example 2:\n",
    "Input: nums = [1,0,1,1], k = 1\n",
    "Output: true\n",
    "\n",
    "Example 3:\n",
    "Input: nums = [1,2,3,1,2,3], k = 2\n",
    "Output: false\n",
    "```\n",
    "\n",
    "</font>\n",
    "</div>"
   ]
  },
  {
   "cell_type": "markdown",
   "id": "f1daac75",
   "metadata": {},
   "source": [
    "# Start-up code\n",
    "<hr style = \"border:2px solid black\" ></hr>"
   ]
  },
  {
   "cell_type": "code",
   "execution_count": 3,
   "id": "cf0c5e3e",
   "metadata": {
    "ExecuteTime": {
     "end_time": "2023-01-03T07:22:06.756449Z",
     "start_time": "2023-01-03T07:22:06.751721Z"
    }
   },
   "outputs": [
    {
     "name": "stdout",
     "output_type": "stream",
     "text": [
      "None Expected: True\n",
      "None Expected: True\n",
      "None Expected: False\n"
     ]
    }
   ],
   "source": [
    "def containsNearbyDuplicate(nums: list[int], k: int) -> bool:\n",
    "    return None\n",
    "\n",
    "\n",
    "print(containsNearbyDuplicate([1, 2, 3, 1], 3), \"Expected: True\")\n",
    "print(containsNearbyDuplicate([1, 0, 1, 1], 1), \"Expected: True\")\n",
    "print(containsNearbyDuplicate([1, 2, 3, 1, 2, 3], 2), \"Expected: False\")"
   ]
  },
  {
   "cell_type": "markdown",
   "id": "f483ad6e",
   "metadata": {},
   "source": [
    "# Comments - think before coding!\n",
    "<hr style = \"border:2px solid black\" ></hr>"
   ]
  },
  {
   "cell_type": "markdown",
   "id": "857d1267",
   "metadata": {},
   "source": [
    "<div class=\"alert alert-info\">\n",
    "<font color=black>\n",
    "\n",
    "- We are looking for every possible couples such that, `i=j`. Since `i=j` is equivalent to `j=i` we then need to look for a fast way to compute combinations and not permutations. This did not work well. Solution #1 worked but exceed the time limit on leetcode; hence is a **failed** solution.\n",
    "\n",
    "</font>\n",
    "</div>"
   ]
  },
  {
   "cell_type": "markdown",
   "id": "6c37bb66",
   "metadata": {},
   "source": [
    "# Solution #1 - failed\n",
    "<hr style = \"border:2px solid black\" ></hr>"
   ]
  },
  {
   "cell_type": "code",
   "execution_count": 107,
   "id": "f49b1c53",
   "metadata": {
    "ExecuteTime": {
     "end_time": "2023-01-03T08:15:17.722939Z",
     "start_time": "2023-01-03T08:15:17.715735Z"
    }
   },
   "outputs": [
    {
     "name": "stdout",
     "output_type": "stream",
     "text": [
      "True Expected: True\n",
      "True Expected: True\n",
      "False Expected: False\n"
     ]
    }
   ],
   "source": [
    "from itertools import combinations, permutations\n",
    "from more_itertools import distinct_combinations\n",
    "def containsNearbyDuplicate(nums: list[int], k: int) -> bool:\n",
    "    #print(nums)\n",
    "    #print(list(combinations(nums, 2)))\n",
    "    #print(set(list(combinations(nums, 2))))\n",
    "    # this still give us two things we do not like (1,2) and (2,1)\n",
    "    #a = list(combinations(nums, 2))\n",
    "    \n",
    "    a = []\n",
    "    for i in set(list(combinations(nums, 2))):\n",
    "        l,m=i\n",
    "        #print(l,m)\n",
    "        if m == l:\n",
    "            a.append([l,m]) \n",
    "    #print(\"clean paired combination\", a)\n",
    "\n",
    "\n",
    "    for i in a:\n",
    "        #print(i)\n",
    "        #print(\"---\", nums.index(i[0]))\n",
    "        b = [g for g, e in enumerate(nums) if e == i[0]]\n",
    "        #print(\"where the number is\", b) \n",
    "        \n",
    "        bb = list(combinations(b, 2))\n",
    "        #print(\"combination of indeces\", bb)\n",
    "        module = [abs(ij[0]-ij[1]) for ij in bb]\n",
    "        #print(\"module\", module)\n",
    "        \n",
    "        #print(\"---\", abs(nums.index(a) - nums.index(b)) <= k)\n",
    "        \n",
    "        for kk in module:\n",
    "            if kk <= k:\n",
    "                return True\n",
    "        \n",
    "        return False\n",
    "\n",
    "\n",
    "print(containsNearbyDuplicate([1, 2, 3, 1], 3), \"Expected: True\")\n",
    "print(containsNearbyDuplicate([1, 0, 1, 1], 1), \"Expected: True\")\n",
    "print(containsNearbyDuplicate([1, 2, 3, 1, 2, 3], 2), \"Expected: False\")"
   ]
  },
  {
   "cell_type": "markdown",
   "id": "62e4b718",
   "metadata": {},
   "source": [
    "# Solution #2\n",
    "<hr style = \"border:2px solid black\" ></hr>"
   ]
  },
  {
   "cell_type": "code",
   "execution_count": 110,
   "id": "ded17b14",
   "metadata": {
    "ExecuteTime": {
     "end_time": "2023-01-03T08:21:09.765786Z",
     "start_time": "2023-01-03T08:21:09.761063Z"
    }
   },
   "outputs": [
    {
     "name": "stdout",
     "output_type": "stream",
     "text": [
      "True Expected: True\n"
     ]
    }
   ],
   "source": [
    "def containsNearbyDuplicate(nums: list[int], k: int) -> bool:\n",
    "    # Create dictionary for Lookup: value: index\n",
    "    lookup = {}\n",
    "\n",
    "    for i in range(len(nums)):\n",
    "\n",
    "        # If num is present in lookup and satisfy the condition return True\n",
    "        if nums[i] in lookup and abs(lookup[nums[i]]-i) <= k:\n",
    "            return True\n",
    "\n",
    "        # If num is not present in lookup then add it to lookup\n",
    "        lookup[nums[i]] = i\n",
    "\n",
    "    return False\n",
    "\n",
    "print(containsNearbyDuplicate([1, 2, 3, 1], 3), \"Expected: True\")\n",
    "print(containsNearbyDuplicate([1, 0, 1, 1], 1), \"Expected: True\")\n",
    "print(containsNearbyDuplicate([1, 2, 3, 1, 2, 3], 2), \"Expected: False\")"
   ]
  },
  {
   "cell_type": "markdown",
   "id": "259accd7",
   "metadata": {},
   "source": [
    "# References\n",
    "<hr style = \"border:2px solid black\" ></hr>"
   ]
  },
  {
   "cell_type": "markdown",
   "id": "1ee6834f",
   "metadata": {},
   "source": [
    "<div class=\"alert alert-warning\">\n",
    "<font color=black>\n",
    "\n",
    "- [Leetcode](https://www.leetcode.com)\n",
    "- [Finding the indeces of an item in a list](https://stackoverflow.com/questions/176918/finding-the-index-of-an-item-in-a-list)\n",
    "\n",
    "</font>\n",
    "</div>"
   ]
  },
  {
   "cell_type": "code",
   "execution_count": null,
   "id": "6defccdc",
   "metadata": {},
   "outputs": [],
   "source": []
  }
 ],
 "metadata": {
  "kernelspec": {
   "display_name": "trainingAI",
   "language": "python",
   "name": "trainingai"
  },
  "language_info": {
   "codemirror_mode": {
    "name": "ipython",
    "version": 3
   },
   "file_extension": ".py",
   "mimetype": "text/x-python",
   "name": "python",
   "nbconvert_exporter": "python",
   "pygments_lexer": "ipython3",
   "version": "3.9.7"
  },
  "toc": {
   "base_numbering": 1,
   "nav_menu": {},
   "number_sections": true,
   "sideBar": true,
   "skip_h1_title": false,
   "title_cell": "Table of Contents",
   "title_sidebar": "Contents",
   "toc_cell": true,
   "toc_position": {},
   "toc_section_display": true,
   "toc_window_display": true
  },
  "varInspector": {
   "cols": {
    "lenName": 16,
    "lenType": 16,
    "lenVar": 40
   },
   "kernels_config": {
    "python": {
     "delete_cmd_postfix": "",
     "delete_cmd_prefix": "del ",
     "library": "var_list.py",
     "varRefreshCmd": "print(var_dic_list())"
    },
    "r": {
     "delete_cmd_postfix": ") ",
     "delete_cmd_prefix": "rm(",
     "library": "var_list.r",
     "varRefreshCmd": "cat(var_dic_list()) "
    }
   },
   "types_to_exclude": [
    "module",
    "function",
    "builtin_function_or_method",
    "instance",
    "_Feature"
   ],
   "window_display": false
  }
 },
 "nbformat": 4,
 "nbformat_minor": 5
}
