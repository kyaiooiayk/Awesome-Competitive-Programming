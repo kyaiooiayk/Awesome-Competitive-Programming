{
 "cells": [
  {
   "cell_type": "markdown",
   "id": "2459ed2a",
   "metadata": {
    "toc": true
   },
   "source": [
    "<h1>Table of Contents<span class=\"tocSkip\"></span></h1>\n",
    "<div class=\"toc\"><ul class=\"toc-item\"><li><span><a href=\"#Description\" data-toc-modified-id=\"Description-1\"><span class=\"toc-item-num\">1&nbsp;&nbsp;</span>Description</a></span></li><li><span><a href=\"#Start-up-code\" data-toc-modified-id=\"Start-up-code-2\"><span class=\"toc-item-num\">2&nbsp;&nbsp;</span>Start-up code</a></span></li><li><span><a href=\"#Comment---think-before-coding!\" data-toc-modified-id=\"Comment---think-before-coding!-3\"><span class=\"toc-item-num\">3&nbsp;&nbsp;</span>Comment - think before coding!</a></span></li><li><span><a href=\"#Solution-#2\" data-toc-modified-id=\"Solution-#2-4\"><span class=\"toc-item-num\">4&nbsp;&nbsp;</span>Solution #2</a></span></li><li><span><a href=\"#Solution-#3\" data-toc-modified-id=\"Solution-#3-5\"><span class=\"toc-item-num\">5&nbsp;&nbsp;</span>Solution #3</a></span></li><li><span><a href=\"#References\" data-toc-modified-id=\"References-6\"><span class=\"toc-item-num\">6&nbsp;&nbsp;</span>References</a></span></li></ul></div>"
   ]
  },
  {
   "cell_type": "markdown",
   "id": "40965ce3",
   "metadata": {},
   "source": [
    "# Description\n",
    "<hr style = \"border:2px solid black\" ></hr>"
   ]
  },
  {
   "cell_type": "markdown",
   "id": "01bf5828",
   "metadata": {},
   "source": [
    "<div class=\"alert alert-warning\">\n",
    "<font color=black>\n",
    "\n",
    "- Given a non-empty array of integers nums, every element appears twice except for one. Find that single one.\n",
    "- You must implement a solution with a linear runtime complexity and use only constant extra space.\n",
    " \n",
    "```\n",
    "Example 1:\n",
    "Input: nums = [2,2,1]\n",
    "Output: 1\n",
    "\n",
    "Example 2:\n",
    "Input: nums = [4,1,2,1,2]\n",
    "Output: 4\n",
    "\n",
    "Example 3:\n",
    "Input: nums = [1]\n",
    "Output: 1\n",
    "```\n",
    " \n",
    "</font>\n",
    "</div>"
   ]
  },
  {
   "cell_type": "markdown",
   "id": "f1daac75",
   "metadata": {},
   "source": [
    "# Start-up code\n",
    "<hr style = \"border:2px solid black\" ></hr>"
   ]
  },
  {
   "cell_type": "code",
   "execution_count": 3,
   "id": "cf0c5e3e",
   "metadata": {
    "ExecuteTime": {
     "end_time": "2022-12-22T13:36:22.664730Z",
     "start_time": "2022-12-22T13:36:22.660734Z"
    }
   },
   "outputs": [
    {
     "name": "stdout",
     "output_type": "stream",
     "text": [
      "None Expected=: 1\n",
      "None Expected=: 4\n",
      "None Expected=: 1\n"
     ]
    }
   ],
   "source": [
    "def singleNumber(nums: list[int]) -> int:\n",
    "    return None\n",
    "\n",
    "print(singleNumber([2,2,1]), \"Expected=: 1\")\n",
    "print(singleNumber([4,1,2,1,2]), \"Expected=: 4\")\n",
    "print(singleNumber([1]), \"Expected=: 1\")\n"
   ]
  },
  {
   "cell_type": "markdown",
   "id": "9c423446",
   "metadata": {},
   "source": [
    "# Comment - think before coding!\n",
    "<hr style = \"border:2px solid black\" ></hr>"
   ]
  },
  {
   "cell_type": "markdown",
   "id": "f208f584",
   "metadata": {},
   "source": [
    "<div class=\"alert alert-info\">\n",
    "<font color=black>\n",
    "\n",
    "- **non-empty arrat** so there is no need to check for this; think about performance here.\n",
    "- There is always a **single** element which is not repeated.\n",
    "- There are cases where no element is repeated.\n",
    "\n",
    "</font>\n",
    "</div>"
   ]
  },
  {
   "cell_type": "code",
   "execution_count": null,
   "id": "cfffa94c",
   "metadata": {},
   "outputs": [],
   "source": [
    "# Solution #1\n",
    "<hr style = \"border:2px solid black\" ></hr>"
   ]
  },
  {
   "cell_type": "code",
   "execution_count": 10,
   "id": "abb8b8d8",
   "metadata": {
    "ExecuteTime": {
     "end_time": "2022-12-22T14:00:25.636340Z",
     "start_time": "2022-12-22T14:00:25.631650Z"
    }
   },
   "outputs": [
    {
     "name": "stdout",
     "output_type": "stream",
     "text": [
      "1 Expected=: 1\n",
      "4 Expected=: 4\n",
      "1 Expected=: 1\n"
     ]
    }
   ],
   "source": [
    "def singleNumber(nums: list[int]) -> int:\n",
    "    \n",
    "    for i in list(set(nums)):\n",
    "        # will stio as soon as found\n",
    "        if nums.count(i) == 1:\n",
    "            return i\n",
    "\n",
    "\n",
    "print(singleNumber([2,2,1]), \"Expected=: 1\")\n",
    "print(singleNumber([4,1,2,1,2]), \"Expected=: 4\")\n",
    "print(singleNumber([1]), \"Expected=: 1\")"
   ]
  },
  {
   "cell_type": "markdown",
   "id": "f3d7a99d",
   "metadata": {},
   "source": [
    "# Solution #2\n",
    "<hr style = \"border:2px solid black\" ></hr>"
   ]
  },
  {
   "cell_type": "code",
   "execution_count": 19,
   "id": "71f7138a",
   "metadata": {
    "ExecuteTime": {
     "end_time": "2022-12-22T14:07:18.056234Z",
     "start_time": "2022-12-22T14:07:18.051145Z"
    }
   },
   "outputs": [
    {
     "name": "stdout",
     "output_type": "stream",
     "text": [
      "1 Expected=: 1\n",
      "4 Expected=: 4\n",
      "1 Expected=: 1\n"
     ]
    }
   ],
   "source": [
    "def singleNumber(nums: list[int]) -> int:\n",
    "    \n",
    "    # will compute for all value\n",
    "    a = [nums.count(i) for i in nums]\n",
    "    b = a.index(1)\n",
    "    return nums[b]\n",
    "\n",
    "print(singleNumber([2,2,1]), \"Expected=: 1\")\n",
    "print(singleNumber([4,1,2,1,2]), \"Expected=: 4\")\n",
    "print(singleNumber([1]), \"Expected=: 1\")"
   ]
  },
  {
   "cell_type": "markdown",
   "id": "84fec29c",
   "metadata": {},
   "source": [
    "# Solution #3\n",
    "<hr style = \"border:2px solid black\" ></hr>"
   ]
  },
  {
   "cell_type": "code",
   "execution_count": 30,
   "id": "100034c3",
   "metadata": {
    "ExecuteTime": {
     "end_time": "2022-12-22T14:20:06.719839Z",
     "start_time": "2022-12-22T14:20:06.714947Z"
    }
   },
   "outputs": [
    {
     "name": "stdout",
     "output_type": "stream",
     "text": [
      "1 Expected=: 1\n",
      "4 Expected=: 4\n",
      "1 Expected=: 1\n"
     ]
    }
   ],
   "source": [
    "from collections import Counter\n",
    "\n",
    "def singleNumber(nums: list[int]) -> int:\n",
    "    \n",
    "    # number: counts\n",
    "    map_ = Counter(nums)\n",
    "    #print(map_)\n",
    "    \n",
    "    # counts : number\n",
    "    inv_map = {v: k for k, v in map_.items()}\n",
    "\n",
    "    # serach by count by return number\n",
    "    return inv_map[1]\n",
    "\n",
    "print(singleNumber([2,2,1]), \"Expected=: 1\")\n",
    "print(singleNumber([4,1,2,1,2]), \"Expected=: 4\")\n",
    "print(singleNumber([1]), \"Expected=: 1\")"
   ]
  },
  {
   "cell_type": "markdown",
   "id": "2c286f67",
   "metadata": {},
   "source": [
    "# References\n",
    "<hr style = \"border:2px solid black\" ></hr>"
   ]
  },
  {
   "cell_type": "markdown",
   "id": "0402c0e4",
   "metadata": {},
   "source": [
    "<div class=\"alert alert-warning\">\n",
    "<font color=black>\n",
    "\n",
    "- https://leetcode.com\n",
    "\n",
    "</font>\n",
    "</div>"
   ]
  },
  {
   "cell_type": "code",
   "execution_count": null,
   "id": "94a8e65c",
   "metadata": {},
   "outputs": [],
   "source": []
  }
 ],
 "metadata": {
  "kernelspec": {
   "display_name": "trainingAI",
   "language": "python",
   "name": "trainingai"
  },
  "language_info": {
   "codemirror_mode": {
    "name": "ipython",
    "version": 3
   },
   "file_extension": ".py",
   "mimetype": "text/x-python",
   "name": "python",
   "nbconvert_exporter": "python",
   "pygments_lexer": "ipython3",
   "version": "3.9.7"
  },
  "toc": {
   "base_numbering": 1,
   "nav_menu": {},
   "number_sections": true,
   "sideBar": true,
   "skip_h1_title": false,
   "title_cell": "Table of Contents",
   "title_sidebar": "Contents",
   "toc_cell": true,
   "toc_position": {
    "height": "calc(100% - 180px)",
    "left": "10px",
    "top": "150px",
    "width": "222px"
   },
   "toc_section_display": true,
   "toc_window_display": true
  },
  "varInspector": {
   "cols": {
    "lenName": 16,
    "lenType": 16,
    "lenVar": 40
   },
   "kernels_config": {
    "python": {
     "delete_cmd_postfix": "",
     "delete_cmd_prefix": "del ",
     "library": "var_list.py",
     "varRefreshCmd": "print(var_dic_list())"
    },
    "r": {
     "delete_cmd_postfix": ") ",
     "delete_cmd_prefix": "rm(",
     "library": "var_list.r",
     "varRefreshCmd": "cat(var_dic_list()) "
    }
   },
   "types_to_exclude": [
    "module",
    "function",
    "builtin_function_or_method",
    "instance",
    "_Feature"
   ],
   "window_display": false
  }
 },
 "nbformat": 4,
 "nbformat_minor": 5
}
