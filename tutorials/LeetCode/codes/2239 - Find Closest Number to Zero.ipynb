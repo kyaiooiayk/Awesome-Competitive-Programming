{
 "cells": [
  {
   "cell_type": "markdown",
   "id": "2459ed2a",
   "metadata": {
    "toc": true
   },
   "source": [
    "<h1>Table of Contents<span class=\"tocSkip\"></span></h1>\n",
    "<div class=\"toc\"><ul class=\"toc-item\"><li><span><a href=\"#Description\" data-toc-modified-id=\"Description-1\"><span class=\"toc-item-num\">1&nbsp;&nbsp;</span>Description</a></span></li><li><span><a href=\"#Constraints\" data-toc-modified-id=\"Constraints-2\"><span class=\"toc-item-num\">2&nbsp;&nbsp;</span>Constraints</a></span></li><li><span><a href=\"#Start-up-code\" data-toc-modified-id=\"Start-up-code-3\"><span class=\"toc-item-num\">3&nbsp;&nbsp;</span>Start-up code</a></span></li><li><span><a href=\"#Comment---think-before-coding!\" data-toc-modified-id=\"Comment---think-before-coding!-4\"><span class=\"toc-item-num\">4&nbsp;&nbsp;</span>Comment - think before coding!</a></span></li><li><span><a href=\"#Solution-#1\" data-toc-modified-id=\"Solution-#1-5\"><span class=\"toc-item-num\">5&nbsp;&nbsp;</span>Solution #1</a></span></li><li><span><a href=\"#Solution-#2\" data-toc-modified-id=\"Solution-#2-6\"><span class=\"toc-item-num\">6&nbsp;&nbsp;</span>Solution #2</a></span></li><li><span><a href=\"#References\" data-toc-modified-id=\"References-7\"><span class=\"toc-item-num\">7&nbsp;&nbsp;</span>References</a></span></li></ul></div>"
   ]
  },
  {
   "cell_type": "markdown",
   "id": "40965ce3",
   "metadata": {},
   "source": [
    "# Description\n",
    "<hr style = \"border:2px solid black\" ></hr>"
   ]
  },
  {
   "cell_type": "markdown",
   "id": "01bf5828",
   "metadata": {},
   "source": [
    "<div class=\"alert alert-warning\">\n",
    "<font color=black>\n",
    "\n",
    "- Given an integer array `nums` of size `n`, return the number with the value closest to 0 in nums. If there are multiple answers, return the number with the largest value.\n",
    "```\n",
    "Example 1:\n",
    "Input: nums = [-4,-2,1,4,8]\n",
    "Output: 1\n",
    "Explanation:\n",
    "The distance from -4 to 0 is |-4| = 4.\n",
    "The distance from -2 to 0 is |-2| = 2.\n",
    "The distance from 1 to 0 is |1| = 1.\n",
    "The distance from 4 to 0 is |4| = 4.\n",
    "The distance from 8 to 0 is |8| = 8.\n",
    "Thus, the closest number to 0 in the array is 1.\n",
    "\n",
    "Example 2:\n",
    "Input: nums = [2,-1,1]\n",
    "Output: 1\n",
    "Explanation: 1 and -1 are both the closest numbers to 0, so 1 being larger is returned.\n",
    "\n",
    "```\n",
    "\n",
    "</font>\n",
    "</div>"
   ]
  },
  {
   "cell_type": "markdown",
   "id": "5a99aaba",
   "metadata": {},
   "source": [
    "# Constraints\n",
    "<hr style = \"border:2px solid black\" ></hr>"
   ]
  },
  {
   "cell_type": "markdown",
   "id": "7bc7852a",
   "metadata": {
    "ExecuteTime": {
     "end_time": "2023-02-27T09:59:15.825890Z",
     "start_time": "2023-02-27T09:59:15.822105Z"
    }
   },
   "source": [
    "<div class=\"alert alert-warning\">\n",
    "<font color=black>\n",
    "\n",
    "- `1 <= n <= 1000`\n",
    "- `105 <= nums[i] <= 105`\n",
    "\n",
    "</font>\n",
    "</div>"
   ]
  },
  {
   "cell_type": "markdown",
   "id": "f1daac75",
   "metadata": {},
   "source": [
    "# Start-up code\n",
    "<hr style = \"border:2px solid black\" ></hr>"
   ]
  },
  {
   "cell_type": "code",
   "execution_count": 2,
   "id": "cf0c5e3e",
   "metadata": {
    "ExecuteTime": {
     "end_time": "2023-02-28T13:51:12.746656Z",
     "start_time": "2023-02-28T13:51:12.742992Z"
    }
   },
   "outputs": [
    {
     "name": "stdout",
     "output_type": "stream",
     "text": [
      "None =1\n",
      "None =1\n"
     ]
    }
   ],
   "source": [
    "from typing import List\n",
    "def findClosestNumber(nums: List[int]) -> int:\n",
    "    return None\n",
    "\n",
    "print(findClosestNumber([-4,-2,1,4,8]), \"=1\")\n",
    "print(findClosestNumber([2,-1,1]), \"=1\")"
   ]
  },
  {
   "cell_type": "markdown",
   "id": "9c423446",
   "metadata": {},
   "source": [
    "# Comment - think before coding!\n",
    "<hr style = \"border:2px solid black\" ></hr>"
   ]
  },
  {
   "cell_type": "markdown",
   "id": "f208f584",
   "metadata": {},
   "source": [
    "<div class=\"alert alert-info\">\n",
    "<font color=black>\n",
    "\n",
    "- Keep in mind that importing a module on leetcode creates a lot of overhead which penalises you code.\n",
    "    \n",
    "</font>\n",
    "</div>"
   ]
  },
  {
   "cell_type": "markdown",
   "id": "df100eae",
   "metadata": {},
   "source": [
    "# Solution #1\n",
    "<hr style = \"border:2px solid black\" ></hr>"
   ]
  },
  {
   "cell_type": "code",
   "execution_count": 31,
   "id": "964f2217",
   "metadata": {
    "ExecuteTime": {
     "end_time": "2023-02-28T14:04:12.305223Z",
     "start_time": "2023-02-28T14:04:12.302054Z"
    }
   },
   "outputs": [],
   "source": [
    "from typing import List\n",
    "import numpy as np\n",
    "\n",
    "\n",
    "def findClosestNumber(nums: List[int]) -> int:\n",
    "    set_ = min(abs(np.array(nums)))\n",
    "    if set_ in nums:\n",
    "        return set_\n",
    "    else:\n",
    "        return -set_"
   ]
  },
  {
   "cell_type": "code",
   "execution_count": 32,
   "id": "72ed39c5",
   "metadata": {
    "ExecuteTime": {
     "end_time": "2023-02-28T14:04:12.592124Z",
     "start_time": "2023-02-28T14:04:12.588424Z"
    },
    "scrolled": true
   },
   "outputs": [
    {
     "name": "stdout",
     "output_type": "stream",
     "text": [
      "1 =1\n",
      "1 =1\n",
      "-1 =-1\n"
     ]
    }
   ],
   "source": [
    "print(findClosestNumber([-4,-2,1,4,8]), \"=1\")\n",
    "print(findClosestNumber([2,-1,1]), \"=1\")\n",
    "print(findClosestNumber([-1,-1]), \"=-1\")"
   ]
  },
  {
   "cell_type": "markdown",
   "id": "3bf51d6e",
   "metadata": {},
   "source": [
    "# Solution #2\n",
    "<hr style = \"border:2px solid black\" ></hr>"
   ]
  },
  {
   "cell_type": "code",
   "execution_count": 33,
   "id": "a3994db8",
   "metadata": {
    "ExecuteTime": {
     "end_time": "2023-02-28T14:08:04.103316Z",
     "start_time": "2023-02-28T14:08:04.100212Z"
    }
   },
   "outputs": [],
   "source": [
    "from typing import List\n",
    "\n",
    "def findClosestNumber(nums: List[int]) -> int:\n",
    "    set_ = min([abs(i) for i in nums])\n",
    "    if set_ in nums:\n",
    "        return set_\n",
    "    else:\n",
    "        return -set_"
   ]
  },
  {
   "cell_type": "code",
   "execution_count": 34,
   "id": "a8244ceb",
   "metadata": {
    "ExecuteTime": {
     "end_time": "2023-02-28T14:08:04.515213Z",
     "start_time": "2023-02-28T14:08:04.511238Z"
    }
   },
   "outputs": [
    {
     "name": "stdout",
     "output_type": "stream",
     "text": [
      "1 =1\n",
      "1 =1\n",
      "-1 =-1\n"
     ]
    }
   ],
   "source": [
    "print(findClosestNumber([-4,-2,1,4,8]), \"=1\")\n",
    "print(findClosestNumber([2,-1,1]), \"=1\")\n",
    "print(findClosestNumber([-1,-1]), \"=-1\")"
   ]
  },
  {
   "cell_type": "markdown",
   "id": "2c286f67",
   "metadata": {},
   "source": [
    "# References\n",
    "<hr style = \"border:2px solid black\" ></hr>"
   ]
  },
  {
   "cell_type": "markdown",
   "id": "0402c0e4",
   "metadata": {},
   "source": [
    "<div class=\"alert alert-warning\">\n",
    "<font color=black>\n",
    "\n",
    "- https://leetcode.com\n",
    "    \n",
    "</font>\n",
    "</div>"
   ]
  },
  {
   "cell_type": "code",
   "execution_count": null,
   "id": "94a8e65c",
   "metadata": {},
   "outputs": [],
   "source": []
  }
 ],
 "metadata": {
  "kernelspec": {
   "display_name": "trainingAI",
   "language": "python",
   "name": "trainingai"
  },
  "language_info": {
   "codemirror_mode": {
    "name": "ipython",
    "version": 3
   },
   "file_extension": ".py",
   "mimetype": "text/x-python",
   "name": "python",
   "nbconvert_exporter": "python",
   "pygments_lexer": "ipython3",
   "version": "3.9.7"
  },
  "toc": {
   "base_numbering": 1,
   "nav_menu": {},
   "number_sections": true,
   "sideBar": true,
   "skip_h1_title": false,
   "title_cell": "Table of Contents",
   "title_sidebar": "Contents",
   "toc_cell": true,
   "toc_position": {
    "height": "calc(100% - 180px)",
    "left": "10px",
    "top": "150px",
    "width": "222px"
   },
   "toc_section_display": true,
   "toc_window_display": true
  },
  "varInspector": {
   "cols": {
    "lenName": 16,
    "lenType": 16,
    "lenVar": 40
   },
   "kernels_config": {
    "python": {
     "delete_cmd_postfix": "",
     "delete_cmd_prefix": "del ",
     "library": "var_list.py",
     "varRefreshCmd": "print(var_dic_list())"
    },
    "r": {
     "delete_cmd_postfix": ") ",
     "delete_cmd_prefix": "rm(",
     "library": "var_list.r",
     "varRefreshCmd": "cat(var_dic_list()) "
    }
   },
   "types_to_exclude": [
    "module",
    "function",
    "builtin_function_or_method",
    "instance",
    "_Feature"
   ],
   "window_display": false
  }
 },
 "nbformat": 4,
 "nbformat_minor": 5
}
