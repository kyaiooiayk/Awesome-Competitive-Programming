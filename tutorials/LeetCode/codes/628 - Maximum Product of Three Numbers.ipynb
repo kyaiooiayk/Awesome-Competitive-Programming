{
 "cells": [
  {
   "cell_type": "markdown",
   "id": "2459ed2a",
   "metadata": {
    "toc": true
   },
   "source": [
    "<h1>Table of Contents<span class=\"tocSkip\"></span></h1>\n",
    "<div class=\"toc\"><ul class=\"toc-item\"><li><span><a href=\"#Description\" data-toc-modified-id=\"Description-1\"><span class=\"toc-item-num\">1&nbsp;&nbsp;</span>Description</a></span></li><li><span><a href=\"#Constraints\" data-toc-modified-id=\"Constraints-2\"><span class=\"toc-item-num\">2&nbsp;&nbsp;</span>Constraints</a></span></li><li><span><a href=\"#Start-up-code\" data-toc-modified-id=\"Start-up-code-3\"><span class=\"toc-item-num\">3&nbsp;&nbsp;</span>Start-up code</a></span></li><li><span><a href=\"#Comment---think-before-coding!\" data-toc-modified-id=\"Comment---think-before-coding!-4\"><span class=\"toc-item-num\">4&nbsp;&nbsp;</span>Comment - think before coding!</a></span></li><li><span><a href=\"#Solution-#1\" data-toc-modified-id=\"Solution-#1-5\"><span class=\"toc-item-num\">5&nbsp;&nbsp;</span>Solution #1</a></span></li><li><span><a href=\"#Solution-#2\" data-toc-modified-id=\"Solution-#2-6\"><span class=\"toc-item-num\">6&nbsp;&nbsp;</span>Solution #2</a></span></li><li><span><a href=\"#Solution-#3\" data-toc-modified-id=\"Solution-#3-7\"><span class=\"toc-item-num\">7&nbsp;&nbsp;</span>Solution #3</a></span></li><li><span><a href=\"#References\" data-toc-modified-id=\"References-8\"><span class=\"toc-item-num\">8&nbsp;&nbsp;</span>References</a></span></li></ul></div>"
   ]
  },
  {
   "cell_type": "markdown",
   "id": "40965ce3",
   "metadata": {},
   "source": [
    "# Description\n",
    "<hr style = \"border:2px solid black\" ></hr>"
   ]
  },
  {
   "cell_type": "markdown",
   "id": "7bc7852a",
   "metadata": {
    "ExecuteTime": {
     "end_time": "2023-02-27T09:59:15.825890Z",
     "start_time": "2023-02-27T09:59:15.822105Z"
    }
   },
   "source": [
    "<div class=\"alert alert-warning\">\n",
    "<font color=black>\n",
    "\n",
    "- Given an integer array nums, find three numbers whose product is maximum and return the maximum product.\n",
    "\n",
    "```\n",
    "Example 1:\n",
    "Input: nums = [1,2,3]\n",
    "Output: 6\n",
    "\n",
    "Example 2:\n",
    "Input: nums = [1,2,3,4]\n",
    "Output: 24\n",
    "\n",
    "Example 3:\n",
    "Input: nums = [-1,-2,-3]\n",
    "Output: -6\n",
    "```\n",
    "\n",
    "</font>\n",
    "</div>"
   ]
  },
  {
   "cell_type": "markdown",
   "id": "5a99aaba",
   "metadata": {},
   "source": [
    "# Constraints\n",
    "<hr style = \"border:2px solid black\" ></hr>"
   ]
  },
  {
   "cell_type": "markdown",
   "id": "01bf5828",
   "metadata": {},
   "source": [
    "<div class=\"alert alert-warning\">\n",
    "<font color=black>\n",
    "\n",
    "- `3 <= nums.length <= 104`\n",
    "- `-1000 <= nums[i] <= 1000`\n",
    "    \n",
    "</font>\n",
    "</div>"
   ]
  },
  {
   "cell_type": "markdown",
   "id": "f1daac75",
   "metadata": {},
   "source": [
    "# Start-up code\n",
    "<hr style = \"border:2px solid black\" ></hr>"
   ]
  },
  {
   "cell_type": "code",
   "execution_count": 1,
   "id": "cf0c5e3e",
   "metadata": {
    "ExecuteTime": {
     "end_time": "2023-03-01T08:55:26.570274Z",
     "start_time": "2023-03-01T08:55:26.566471Z"
    }
   },
   "outputs": [
    {
     "name": "stdout",
     "output_type": "stream",
     "text": [
      "None =6\n",
      "None =24\n",
      "None =-6\n"
     ]
    }
   ],
   "source": [
    "from typing import List\n",
    "def maximumProduct(nums: List[int]) -> int:\n",
    "    return None\n",
    "\n",
    "print(maximumProduct([1,2,3]), \"=6\")\n",
    "print(maximumProduct([1,2,3,4]), \"=24\")\n",
    "print(maximumProduct([-1,-2,-3]), \"=-6\")"
   ]
  },
  {
   "cell_type": "markdown",
   "id": "9c423446",
   "metadata": {},
   "source": [
    "# Comment - think before coding!\n",
    "<hr style = \"border:2px solid black\" ></hr>"
   ]
  },
  {
   "cell_type": "markdown",
   "id": "f208f584",
   "metadata": {},
   "source": [
    "<div class=\"alert alert-info\">\n",
    "<font color=black>\n",
    "\n",
    "- The minimum number of element in the list is 3, there no cases where <3!\n",
    "- \n",
    "    \n",
    "</font>\n",
    "</div>"
   ]
  },
  {
   "cell_type": "markdown",
   "id": "df100eae",
   "metadata": {},
   "source": [
    "# Solution #1\n",
    "<hr style = \"border:2px solid black\" ></hr>"
   ]
  },
  {
   "cell_type": "markdown",
   "id": "655585ce",
   "metadata": {
    "ExecuteTime": {
     "end_time": "2023-03-01T09:08:33.781724Z",
     "start_time": "2023-03-01T09:08:33.778371Z"
    }
   },
   "source": [
    "- Time limit exceed on LeetCode server"
   ]
  },
  {
   "cell_type": "code",
   "execution_count": 43,
   "id": "d67d9a54",
   "metadata": {
    "ExecuteTime": {
     "end_time": "2023-03-01T09:06:48.517472Z",
     "start_time": "2023-03-01T09:06:48.513818Z"
    }
   },
   "outputs": [],
   "source": [
    "from typing import List\n",
    "from itertools import combinations, permutations\n",
    "from functools import reduce\n",
    "\n",
    "\n",
    "def maximumProduct(nums: List[int]) -> int:\n",
    "    #print(list(combinations(nums, 3)))\n",
    "\n",
    "    max_ = -1.e12\n",
    "    for j in combinations(nums, 3):\n",
    "\n",
    "        temp = reduce(lambda x, y: x*y, j)\n",
    "        if temp > max_:\n",
    "            max_ = temp\n",
    "    return max_"
   ]
  },
  {
   "cell_type": "code",
   "execution_count": 44,
   "id": "05f8c64e",
   "metadata": {
    "ExecuteTime": {
     "end_time": "2023-03-01T09:06:48.872150Z",
     "start_time": "2023-03-01T09:06:48.868649Z"
    }
   },
   "outputs": [
    {
     "name": "stdout",
     "output_type": "stream",
     "text": [
      "6 =6\n",
      "24 =24\n",
      "-6 =-6\n"
     ]
    }
   ],
   "source": [
    "print(maximumProduct([1,2,3]), \"=6\")\n",
    "print(maximumProduct([1,2,3,4]), \"=24\")\n",
    "print(maximumProduct([-1,-2,-3]), \"=-6\")"
   ]
  },
  {
   "cell_type": "markdown",
   "id": "75e30a81",
   "metadata": {},
   "source": [
    "# Solution #2\n",
    "<hr style = \"border:2px solid black\" ></hr>"
   ]
  },
  {
   "cell_type": "markdown",
   "id": "1f3ac3fb",
   "metadata": {},
   "source": [
    "- Time limit exceed on LeetCode server"
   ]
  },
  {
   "cell_type": "code",
   "execution_count": 56,
   "id": "dedc3ee4",
   "metadata": {
    "ExecuteTime": {
     "end_time": "2023-03-01T09:15:27.466405Z",
     "start_time": "2023-03-01T09:15:27.463258Z"
    }
   },
   "outputs": [],
   "source": [
    "from typing import List\n",
    "from itertools import combinations, permutations\n",
    "from functools import reduce\n",
    "\n",
    "\n",
    "def maximumProduct(nums: List[int]) -> int:\n",
    "    return max([reduce(lambda x, y: x*y, j) for j in combinations(nums, 3)])"
   ]
  },
  {
   "cell_type": "code",
   "execution_count": 57,
   "id": "fb1d5042",
   "metadata": {
    "ExecuteTime": {
     "end_time": "2023-03-01T09:15:27.712412Z",
     "start_time": "2023-03-01T09:15:27.708866Z"
    }
   },
   "outputs": [
    {
     "name": "stdout",
     "output_type": "stream",
     "text": [
      "6 =6\n",
      "24 =24\n",
      "-6 =-6\n"
     ]
    }
   ],
   "source": [
    "print(maximumProduct([1,2,3]), \"=6\")\n",
    "print(maximumProduct([1,2,3,4]), \"=24\")\n",
    "print(maximumProduct([-1,-2,-3]), \"=-6\")"
   ]
  },
  {
   "cell_type": "markdown",
   "id": "9d262324",
   "metadata": {},
   "source": [
    "# Solution #3\n",
    "<hr style = \"border:2px solid black\" ></hr>"
   ]
  },
  {
   "cell_type": "markdown",
   "id": "7191e0bf",
   "metadata": {},
   "source": [
    "<div class=\"alert alert-info\">\n",
    "<font color=black>\n",
    "    \n",
    "- Consider the two edges cases:\n",
    "    - All floats number are positive\n",
    "    - All floats number are negative\n",
    "- Therefore, if you were to sort them from smallest to highest you just need to check its extrema as they give you either the largest and the smallest. Then a simple `max` call would give you the answer.\n",
    "\n",
    "</font>\n",
    "</div>"
   ]
  },
  {
   "cell_type": "code",
   "execution_count": 64,
   "id": "58884db6",
   "metadata": {
    "ExecuteTime": {
     "end_time": "2023-03-01T09:20:56.431934Z",
     "start_time": "2023-03-01T09:20:56.428863Z"
    }
   },
   "outputs": [],
   "source": [
    "from typing import List\n",
    "\n",
    "\n",
    "def maximumProduct(nums: List[int]) -> int:\n",
    "    # sort list inplace\n",
    "    nums.sort()\n",
    "    return max(nums[0]*nums[1]*nums[-1], nums[-1]*nums[-2]*nums[-3])"
   ]
  },
  {
   "cell_type": "code",
   "execution_count": 65,
   "id": "a7020f1b",
   "metadata": {
    "ExecuteTime": {
     "end_time": "2023-03-01T09:20:56.660017Z",
     "start_time": "2023-03-01T09:20:56.656647Z"
    }
   },
   "outputs": [
    {
     "name": "stdout",
     "output_type": "stream",
     "text": [
      "6 =6\n",
      "24 =24\n",
      "-6 =-6\n"
     ]
    }
   ],
   "source": [
    "print(maximumProduct([1,2,3]), \"=6\")\n",
    "print(maximumProduct([1,2,3,4]), \"=24\")\n",
    "print(maximumProduct([-1,-2,-3]), \"=-6\")"
   ]
  },
  {
   "cell_type": "markdown",
   "id": "2c286f67",
   "metadata": {},
   "source": [
    "# References\n",
    "<hr style = \"border:2px solid black\" ></hr>"
   ]
  },
  {
   "cell_type": "markdown",
   "id": "0402c0e4",
   "metadata": {},
   "source": [
    "<div class=\"alert alert-warning\">\n",
    "<font color=black>\n",
    "\n",
    "- https://leetcode.com\n",
    "- [`reduce`](https://github.com/kyaiooiayk/Python-Programming/blob/main/tutorials/Lambda%2C%20map%2C%20filter%20and%20reduce%20functions.ipynb)\n",
    "    \n",
    "</font>\n",
    "</div>"
   ]
  },
  {
   "cell_type": "code",
   "execution_count": null,
   "id": "94a8e65c",
   "metadata": {},
   "outputs": [],
   "source": []
  }
 ],
 "metadata": {
  "kernelspec": {
   "display_name": "trainingAI",
   "language": "python",
   "name": "trainingai"
  },
  "language_info": {
   "codemirror_mode": {
    "name": "ipython",
    "version": 3
   },
   "file_extension": ".py",
   "mimetype": "text/x-python",
   "name": "python",
   "nbconvert_exporter": "python",
   "pygments_lexer": "ipython3",
   "version": "3.9.7"
  },
  "toc": {
   "base_numbering": 1,
   "nav_menu": {},
   "number_sections": true,
   "sideBar": true,
   "skip_h1_title": false,
   "title_cell": "Table of Contents",
   "title_sidebar": "Contents",
   "toc_cell": true,
   "toc_position": {
    "height": "calc(100% - 180px)",
    "left": "10px",
    "top": "150px",
    "width": "222px"
   },
   "toc_section_display": true,
   "toc_window_display": true
  },
  "varInspector": {
   "cols": {
    "lenName": 16,
    "lenType": 16,
    "lenVar": 40
   },
   "kernels_config": {
    "python": {
     "delete_cmd_postfix": "",
     "delete_cmd_prefix": "del ",
     "library": "var_list.py",
     "varRefreshCmd": "print(var_dic_list())"
    },
    "r": {
     "delete_cmd_postfix": ") ",
     "delete_cmd_prefix": "rm(",
     "library": "var_list.r",
     "varRefreshCmd": "cat(var_dic_list()) "
    }
   },
   "types_to_exclude": [
    "module",
    "function",
    "builtin_function_or_method",
    "instance",
    "_Feature"
   ],
   "window_display": false
  }
 },
 "nbformat": 4,
 "nbformat_minor": 5
}
