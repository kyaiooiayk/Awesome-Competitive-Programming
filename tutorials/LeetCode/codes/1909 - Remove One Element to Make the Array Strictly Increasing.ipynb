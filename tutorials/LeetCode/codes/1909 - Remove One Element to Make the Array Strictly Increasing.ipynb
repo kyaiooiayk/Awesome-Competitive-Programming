{
 "cells": [
  {
   "cell_type": "markdown",
   "id": "2459ed2a",
   "metadata": {
    "toc": true
   },
   "source": [
    "<h1>Table of Contents<span class=\"tocSkip\"></span></h1>\n",
    "<div class=\"toc\"><ul class=\"toc-item\"><li><span><a href=\"#Instruction\" data-toc-modified-id=\"Instruction-1\"><span class=\"toc-item-num\">1&nbsp;&nbsp;</span>Instruction</a></span></li><li><span><a href=\"#Start-up-code\" data-toc-modified-id=\"Start-up-code-2\"><span class=\"toc-item-num\">2&nbsp;&nbsp;</span>Start-up code</a></span></li><li><span><a href=\"#Comment---think-before-coding!\" data-toc-modified-id=\"Comment---think-before-coding!-3\"><span class=\"toc-item-num\">3&nbsp;&nbsp;</span>Comment - think before coding!</a></span></li><li><span><a href=\"#Solution-#1\" data-toc-modified-id=\"Solution-#1-4\"><span class=\"toc-item-num\">4&nbsp;&nbsp;</span>Solution #1</a></span></li><li><span><a href=\"#References\" data-toc-modified-id=\"References-5\"><span class=\"toc-item-num\">5&nbsp;&nbsp;</span>References</a></span></li></ul></div>"
   ]
  },
  {
   "cell_type": "markdown",
   "id": "4cb22ddf",
   "metadata": {},
   "source": [
    "# Instruction\n",
    "<hr style = \"border:2px solid black\" ></hr>"
   ]
  },
  {
   "cell_type": "markdown",
   "id": "80ed27ee",
   "metadata": {},
   "source": [
    "<div class=\"alert alert-warning\">\n",
    "<font color=black>\n",
    "\n",
    "- Given a 0-indexed integer array nums, return true if it can be made strictly increasing after removing exactly one element, or false otherwise.\n",
    "- If the array is already strictly increasing, return true.\n",
    "- The array nums is strictly increasing if nums[i - 1] < nums[i] for each index (1 <= i < nums.length).\n",
    "\n",
    "```\n",
    "Example 1:\n",
    "Input: nums = [1,2,10,5,7]\n",
    "Output: true\n",
    "Explanation: By removing 10 at index 2 from nums, it becomes [1,2,5,7].\n",
    "[1,2,5,7] is strictly increasing, so return true.\n",
    "\n",
    "Example 2:\n",
    "Input: nums = [2,3,1,2]\n",
    "Output: false\n",
    "Explanation:\n",
    "[3,1,2] is the result of removing the element at index 0.\n",
    "[2,1,2] is the result of removing the element at index 1.\n",
    "[2,3,2] is the result of removing the element at index 2.\n",
    "[2,3,1] is the result of removing the element at index 3.\n",
    "No resulting array is strictly increasing, so return false.\n",
    "\n",
    "Example 3:\n",
    "Input: nums = [1,1,1]\n",
    "Output: false\n",
    "Explanation: The result of removing any element is [1,1].\n",
    "[1,1] is not strictly increasing, so return false.\n",
    "\n",
    "```\n",
    "\n",
    "</font>\n",
    "</div>"
   ]
  },
  {
   "cell_type": "markdown",
   "id": "f1daac75",
   "metadata": {},
   "source": [
    "# Start-up code\n",
    "<hr style = \"border:2px solid black\" ></hr>"
   ]
  },
  {
   "cell_type": "code",
   "execution_count": 5,
   "id": "cf0c5e3e",
   "metadata": {
    "ExecuteTime": {
     "end_time": "2023-01-31T07:27:53.738096Z",
     "start_time": "2023-01-31T07:27:53.733509Z"
    }
   },
   "outputs": [
    {
     "name": "stdout",
     "output_type": "stream",
     "text": [
      "None =True\n",
      "None =False\n",
      "None =False\n"
     ]
    }
   ],
   "source": [
    "from typing import List\n",
    "def canBeIncreasing(nums: List[int]) -> bool:\n",
    "\n",
    "    return None\n",
    "\n",
    "\n",
    "print(canBeIncreasing([1, 2, 10, 5, 7]), \"=True\")\n",
    "print(canBeIncreasing([2, 3, 1, 2]), \"=False\")\n",
    "print(canBeIncreasing([1, 1, 1]), \"=False\")"
   ]
  },
  {
   "cell_type": "markdown",
   "id": "9c423446",
   "metadata": {},
   "source": [
    "# Comment - think before coding!\n",
    "<hr style = \"border:2px solid black\" ></hr>"
   ]
  },
  {
   "cell_type": "markdown",
   "id": "90eebf5b",
   "metadata": {},
   "source": [
    "<div class=\"alert alert-info\">\n",
    "<font color=black>\n",
    "\n",
    "- None!\n",
    "    \n",
    "</font>\n",
    "</div>"
   ]
  },
  {
   "cell_type": "markdown",
   "id": "f163751a",
   "metadata": {},
   "source": [
    "# Solution #1\n",
    "<hr style = \"border:2px solid black\" ></hr>"
   ]
  },
  {
   "cell_type": "code",
   "execution_count": 125,
   "id": "bd9319c1",
   "metadata": {
    "ExecuteTime": {
     "end_time": "2023-01-31T08:06:12.739944Z",
     "start_time": "2023-01-31T08:06:12.734769Z"
    }
   },
   "outputs": [],
   "source": [
    "from collections import Counter\n",
    "\n",
    "def canBeIncreasing(nums: List[int]) -> bool:\n",
    "\n",
    "    # Create a dict word to freq\n",
    "    dict_num_frq = dict(Counter(list(nums)))\n",
    "    #print(dict_num_frq)\n",
    "    \n",
    "\n",
    "    # Loop trhough each word\n",
    "    for num_temp in dict_num_frq.keys():\n",
    "\n",
    "        # Give the index of the first element, even if there are more than one!\n",
    "        indexes = [i for i, x in enumerate(nums) if x == num_temp]\n",
    "        \n",
    "        # To account fo repeated values\n",
    "        seen = []\n",
    "        for index in indexes:\n",
    "            if index not in seen:\n",
    "\n",
    "                # Making a shallow copy, [:] is important!\n",
    "                nums_ = nums[:]\n",
    "\n",
    "                # Popping on the value\n",
    "                nums_.pop(index)\n",
    "                \n",
    "                seen.append(index)\n",
    "                \n",
    "                if str(nums_) == str(sorted(set(nums_))):\n",
    "                    return True\n",
    "\n",
    "    return False\n"
   ]
  },
  {
   "cell_type": "code",
   "execution_count": 126,
   "id": "709ddf88",
   "metadata": {
    "ExecuteTime": {
     "end_time": "2023-01-31T08:06:13.074807Z",
     "start_time": "2023-01-31T08:06:13.069851Z"
    }
   },
   "outputs": [
    {
     "name": "stdout",
     "output_type": "stream",
     "text": [
      "True =True\n",
      "False =False\n",
      "False =False\n",
      "True =True\n"
     ]
    }
   ],
   "source": [
    "print(canBeIncreasing([1, 2, 10, 5, 7]), \"=True\")\n",
    "print(canBeIncreasing([2, 3, 1, 2]), \"=False\")\n",
    "print(canBeIncreasing([1, 1, 1]), \"=False\")\n",
    "print(canBeIncreasing([100, 21, 100]), \"=True\")"
   ]
  },
  {
   "cell_type": "markdown",
   "id": "3fd86389",
   "metadata": {},
   "source": [
    "# References\n",
    "<hr style = \"border:2px solid black\" ></hr>"
   ]
  },
  {
   "cell_type": "markdown",
   "id": "d18a4645",
   "metadata": {},
   "source": [
    "<div class=\"alert alert-warning\">\n",
    "<font color=black>\n",
    "\n",
    "- [Leetcode](www.leetcode.com)\n",
    "\n",
    "</font>\n",
    "</div>"
   ]
  }
 ],
 "metadata": {
  "kernelspec": {
   "display_name": "trainingAI",
   "language": "python",
   "name": "trainingai"
  },
  "language_info": {
   "codemirror_mode": {
    "name": "ipython",
    "version": 3
   },
   "file_extension": ".py",
   "mimetype": "text/x-python",
   "name": "python",
   "nbconvert_exporter": "python",
   "pygments_lexer": "ipython3",
   "version": "3.9.7"
  },
  "toc": {
   "base_numbering": 1,
   "nav_menu": {},
   "number_sections": true,
   "sideBar": true,
   "skip_h1_title": false,
   "title_cell": "Table of Contents",
   "title_sidebar": "Contents",
   "toc_cell": true,
   "toc_position": {
    "height": "calc(100% - 180px)",
    "left": "10px",
    "top": "150px",
    "width": "198px"
   },
   "toc_section_display": true,
   "toc_window_display": true
  },
  "varInspector": {
   "cols": {
    "lenName": 16,
    "lenType": 16,
    "lenVar": 40
   },
   "kernels_config": {
    "python": {
     "delete_cmd_postfix": "",
     "delete_cmd_prefix": "del ",
     "library": "var_list.py",
     "varRefreshCmd": "print(var_dic_list())"
    },
    "r": {
     "delete_cmd_postfix": ") ",
     "delete_cmd_prefix": "rm(",
     "library": "var_list.r",
     "varRefreshCmd": "cat(var_dic_list()) "
    }
   },
   "types_to_exclude": [
    "module",
    "function",
    "builtin_function_or_method",
    "instance",
    "_Feature"
   ],
   "window_display": false
  }
 },
 "nbformat": 4,
 "nbformat_minor": 5
}
