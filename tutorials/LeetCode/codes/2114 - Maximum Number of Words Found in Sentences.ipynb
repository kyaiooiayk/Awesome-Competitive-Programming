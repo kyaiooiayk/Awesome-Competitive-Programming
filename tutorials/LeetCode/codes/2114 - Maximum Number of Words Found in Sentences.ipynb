{
 "cells": [
  {
   "cell_type": "markdown",
   "id": "2459ed2a",
   "metadata": {
    "toc": true
   },
   "source": [
    "<h1>Table of Contents<span class=\"tocSkip\"></span></h1>\n",
    "<div class=\"toc\"><ul class=\"toc-item\"><li><span><a href=\"#Description\" data-toc-modified-id=\"Description-1\"><span class=\"toc-item-num\">1&nbsp;&nbsp;</span>Description</a></span></li><li><span><a href=\"#Start-up-code\" data-toc-modified-id=\"Start-up-code-2\"><span class=\"toc-item-num\">2&nbsp;&nbsp;</span>Start-up code</a></span></li><li><span><a href=\"#Comment---think-before-coding!\" data-toc-modified-id=\"Comment---think-before-coding!-3\"><span class=\"toc-item-num\">3&nbsp;&nbsp;</span>Comment - think before coding!</a></span></li><li><span><a href=\"#Solution-#1\" data-toc-modified-id=\"Solution-#1-4\"><span class=\"toc-item-num\">4&nbsp;&nbsp;</span>Solution #1</a></span></li><li><span><a href=\"#Solution-#2\" data-toc-modified-id=\"Solution-#2-5\"><span class=\"toc-item-num\">5&nbsp;&nbsp;</span>Solution #2</a></span></li><li><span><a href=\"#Solution-#3\" data-toc-modified-id=\"Solution-#3-6\"><span class=\"toc-item-num\">6&nbsp;&nbsp;</span>Solution #3</a></span></li><li><span><a href=\"#References\" data-toc-modified-id=\"References-7\"><span class=\"toc-item-num\">7&nbsp;&nbsp;</span>References</a></span></li></ul></div>"
   ]
  },
  {
   "cell_type": "markdown",
   "id": "40965ce3",
   "metadata": {},
   "source": [
    "# Description\n",
    "<hr style = \"border:2px solid black\" ></hr>"
   ]
  },
  {
   "cell_type": "markdown",
   "id": "01bf5828",
   "metadata": {},
   "source": [
    "<div class=\"alert alert-warning\">\n",
    "<font color=black>\n",
    "\n",
    "- A sentence is a list of words that are separated by a single space with no leading or trailing spaces.\n",
    "- You are given an array of strings sentences, where each sentences[i] represents a single sentence.\n",
    "- Return the maximum number of words that appear in a single sentence. \n",
    "\n",
    "```\n",
    "# Example 1:\n",
    "Input: sentences = [\"alice and bob love leetcode\", \"i think so too\", \"this is great thanks very much\"]\n",
    "Output: 6\n",
    "Explanation: \n",
    "- The first sentence, \"alice and bob love leetcode\", has 5 words in total.\n",
    "- The second sentence, \"i think so too\", has 4 words in total.\n",
    "- The third sentence, \"this is great thanks very much\", has 6 words in total.\n",
    "Thus, the maximum number of words in a single sentence comes from the third sentence, which has 6 words.\n",
    "\n",
    "# Example 2:\n",
    "Input: sentences = [\"please wait\", \"continue to fight\", \"continue to win\"]\n",
    "Output: 3\n",
    "Explanation: It is possible that multiple sentences contain the same number of words. \n",
    "In this example, the second and third sentences (underlined) have the same number of words.\n",
    "```\n",
    " \n",
    "</font>\n",
    "</div>"
   ]
  },
  {
   "cell_type": "markdown",
   "id": "f1daac75",
   "metadata": {},
   "source": [
    "# Start-up code\n",
    "<hr style = \"border:2px solid black\" ></hr>"
   ]
  },
  {
   "cell_type": "code",
   "execution_count": 17,
   "id": "cf0c5e3e",
   "metadata": {
    "ExecuteTime": {
     "end_time": "2023-02-19T14:32:14.491884Z",
     "start_time": "2023-02-19T14:32:14.487794Z"
    }
   },
   "outputs": [
    {
     "name": "stdout",
     "output_type": "stream",
     "text": [
      "None Expected=6\n",
      "None Expected=3\n"
     ]
    }
   ],
   "source": [
    "from typing import List\n",
    "\n",
    "\n",
    "def mostWordsFound(sentences: List[str]) -> int:\n",
    "\n",
    "    return None\n",
    "\n",
    "\n",
    "print(mostWordsFound([\"alice and bob love leetcode\",\n",
    "      \"i think so too\", \"this is great thanks very much\"]), \"Expected=6\")\n",
    "print(mostWordsFound(\n",
    "    [\"please wait\", \"continue to fight\", \"continue to win\"]), \"Expected=3\")"
   ]
  },
  {
   "cell_type": "markdown",
   "id": "9c423446",
   "metadata": {},
   "source": [
    "# Comment - think before coding!\n",
    "<hr style = \"border:2px solid black\" ></hr>"
   ]
  },
  {
   "cell_type": "markdown",
   "id": "f208f584",
   "metadata": {},
   "source": [
    "<div class=\"alert alert-info\">\n",
    "<font color=black>\n",
    "\n",
    "- What do we do with repeated word? Either there is none or we need to get rid of them.\n",
    "- There is nothing in the description so I will assume there is not repeated words.\n",
    "\n",
    "</font>\n",
    "</div>"
   ]
  },
  {
   "cell_type": "markdown",
   "id": "df100eae",
   "metadata": {},
   "source": [
    "# Solution #1\n",
    "<hr style = \"border:2px solid black\" ></hr>"
   ]
  },
  {
   "cell_type": "code",
   "execution_count": 18,
   "id": "abb8b8d8",
   "metadata": {
    "ExecuteTime": {
     "end_time": "2023-02-19T14:32:19.508907Z",
     "start_time": "2023-02-19T14:32:19.505903Z"
    }
   },
   "outputs": [],
   "source": [
    "from typing import List\n",
    "\n",
    "\n",
    "def mostWordsFound(sentences: List[str]) -> int:\n",
    "    # list comprehension\n",
    "    return max([len(i.split(\" \")) for i in sentences])"
   ]
  },
  {
   "cell_type": "code",
   "execution_count": 19,
   "id": "68bdb96c",
   "metadata": {
    "ExecuteTime": {
     "end_time": "2023-02-19T14:32:20.058178Z",
     "start_time": "2023-02-19T14:32:20.055123Z"
    }
   },
   "outputs": [
    {
     "name": "stdout",
     "output_type": "stream",
     "text": [
      "6 Expected=6\n",
      "3 Expected=3\n"
     ]
    }
   ],
   "source": [
    "print(mostWordsFound([\"alice and bob love leetcode\",\n",
    "      \"i think so too\", \"this is great thanks very much\"]), \"Expected=6\")\n",
    "print(mostWordsFound(\n",
    "    [\"please wait\", \"continue to fight\", \"continue to win\"]), \"Expected=3\")"
   ]
  },
  {
   "cell_type": "markdown",
   "id": "4eae9a01",
   "metadata": {},
   "source": [
    "# Solution #2\n",
    "<hr style = \"border:2px solid black\" ></hr>"
   ]
  },
  {
   "cell_type": "code",
   "execution_count": 30,
   "id": "f78d104c",
   "metadata": {
    "ExecuteTime": {
     "end_time": "2023-02-19T14:41:44.184729Z",
     "start_time": "2023-02-19T14:41:44.181433Z"
    }
   },
   "outputs": [],
   "source": [
    "from typing import List\n",
    "\n",
    "\n",
    "def mostWordsFound(sentences: List[str]) -> int:\n",
    "    # functional programming\n",
    "    \n",
    "    #eturn max(map(len, map(str.split, sentences)))\n",
    "    \n",
    "    return max(map(lambda i : len(i.split()), sentences))"
   ]
  },
  {
   "cell_type": "code",
   "execution_count": 31,
   "id": "8a05fc0a",
   "metadata": {
    "ExecuteTime": {
     "end_time": "2023-02-19T14:41:44.486950Z",
     "start_time": "2023-02-19T14:41:44.483570Z"
    }
   },
   "outputs": [
    {
     "name": "stdout",
     "output_type": "stream",
     "text": [
      "6 Expected=6\n",
      "3 Expected=3\n"
     ]
    }
   ],
   "source": [
    "print(mostWordsFound([\"alice and bob love leetcode\",\n",
    "      \"i think so too\", \"this is great thanks very much\"]), \"Expected=6\")\n",
    "print(mostWordsFound(\n",
    "    [\"please wait\", \"continue to fight\", \"continue to win\"]), \"Expected=3\")"
   ]
  },
  {
   "cell_type": "markdown",
   "id": "db320bba",
   "metadata": {
    "ExecuteTime": {
     "end_time": "2023-02-19T14:42:33.324165Z",
     "start_time": "2023-02-19T14:42:33.321127Z"
    }
   },
   "source": [
    "# Solution #3\n",
    "<hr style = \"border:2px solid black\" ></hr>"
   ]
  },
  {
   "cell_type": "code",
   "execution_count": 33,
   "id": "0acbd392",
   "metadata": {
    "ExecuteTime": {
     "end_time": "2023-02-19T14:46:44.292688Z",
     "start_time": "2023-02-19T14:46:44.289322Z"
    }
   },
   "outputs": [],
   "source": [
    "from typing import List\n",
    "\n",
    "\n",
    "def mostWordsFound(sentences: List[str]) -> int:\n",
    "    # functional programming\n",
    "    \n",
    "    return max(map(len, map(str.split, sentences)))"
   ]
  },
  {
   "cell_type": "code",
   "execution_count": 34,
   "id": "9ebe882e",
   "metadata": {
    "ExecuteTime": {
     "end_time": "2023-02-19T14:46:44.687595Z",
     "start_time": "2023-02-19T14:46:44.683794Z"
    }
   },
   "outputs": [
    {
     "name": "stdout",
     "output_type": "stream",
     "text": [
      "6 Expected=6\n",
      "3 Expected=3\n"
     ]
    }
   ],
   "source": [
    "print(mostWordsFound([\"alice and bob love leetcode\",\n",
    "      \"i think so too\", \"this is great thanks very much\"]), \"Expected=6\")\n",
    "print(mostWordsFound(\n",
    "    [\"please wait\", \"continue to fight\", \"continue to win\"]), \"Expected=3\")"
   ]
  },
  {
   "cell_type": "markdown",
   "id": "2c286f67",
   "metadata": {},
   "source": [
    "# References\n",
    "<hr style = \"border:2px solid black\" ></hr>"
   ]
  },
  {
   "cell_type": "markdown",
   "id": "0402c0e4",
   "metadata": {},
   "source": [
    "<div class=\"alert alert-warning\">\n",
    "<font color=black>\n",
    "\n",
    "- https://leetcode.com\n",
    "\n",
    "</font>\n",
    "</div>"
   ]
  },
  {
   "cell_type": "code",
   "execution_count": null,
   "id": "94a8e65c",
   "metadata": {},
   "outputs": [],
   "source": []
  }
 ],
 "metadata": {
  "kernelspec": {
   "display_name": "trainingAI",
   "language": "python",
   "name": "trainingai"
  },
  "language_info": {
   "codemirror_mode": {
    "name": "ipython",
    "version": 3
   },
   "file_extension": ".py",
   "mimetype": "text/x-python",
   "name": "python",
   "nbconvert_exporter": "python",
   "pygments_lexer": "ipython3",
   "version": "3.9.7"
  },
  "toc": {
   "base_numbering": 1,
   "nav_menu": {},
   "number_sections": true,
   "sideBar": true,
   "skip_h1_title": false,
   "title_cell": "Table of Contents",
   "title_sidebar": "Contents",
   "toc_cell": true,
   "toc_position": {
    "height": "calc(100% - 180px)",
    "left": "10px",
    "top": "150px",
    "width": "222px"
   },
   "toc_section_display": true,
   "toc_window_display": true
  },
  "varInspector": {
   "cols": {
    "lenName": 16,
    "lenType": 16,
    "lenVar": 40
   },
   "kernels_config": {
    "python": {
     "delete_cmd_postfix": "",
     "delete_cmd_prefix": "del ",
     "library": "var_list.py",
     "varRefreshCmd": "print(var_dic_list())"
    },
    "r": {
     "delete_cmd_postfix": ") ",
     "delete_cmd_prefix": "rm(",
     "library": "var_list.r",
     "varRefreshCmd": "cat(var_dic_list()) "
    }
   },
   "types_to_exclude": [
    "module",
    "function",
    "builtin_function_or_method",
    "instance",
    "_Feature"
   ],
   "window_display": false
  }
 },
 "nbformat": 4,
 "nbformat_minor": 5
}
