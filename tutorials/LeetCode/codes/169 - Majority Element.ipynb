{
 "cells": [
  {
   "cell_type": "markdown",
   "id": "2459ed2a",
   "metadata": {
    "toc": true
   },
   "source": [
    "<h1>Table of Contents<span class=\"tocSkip\"></span></h1>\n",
    "<div class=\"toc\"><ul class=\"toc-item\"><li><span><a href=\"#Instruction\" data-toc-modified-id=\"Instruction-1\"><span class=\"toc-item-num\">1&nbsp;&nbsp;</span>Instruction</a></span></li><li><span><a href=\"#Start-up-code\" data-toc-modified-id=\"Start-up-code-2\"><span class=\"toc-item-num\">2&nbsp;&nbsp;</span>Start-up code</a></span></li><li><span><a href=\"#Comments---think-before-coding!\" data-toc-modified-id=\"Comments---think-before-coding!-3\"><span class=\"toc-item-num\">3&nbsp;&nbsp;</span>Comments - think before coding!</a></span></li><li><span><a href=\"#Solution-#1\" data-toc-modified-id=\"Solution-#1-4\"><span class=\"toc-item-num\">4&nbsp;&nbsp;</span>Solution #1</a></span></li><li><span><a href=\"#References\" data-toc-modified-id=\"References-5\"><span class=\"toc-item-num\">5&nbsp;&nbsp;</span>References</a></span></li></ul></div>"
   ]
  },
  {
   "cell_type": "markdown",
   "id": "4cb22ddf",
   "metadata": {},
   "source": [
    "# Instruction\n",
    "<hr style = \"border:2px solid black\" ></hr>"
   ]
  },
  {
   "cell_type": "markdown",
   "id": "38a677d5",
   "metadata": {},
   "source": [
    "<div class=\"alert alert-warning\">\n",
    "<font color=black>\n",
    "\n",
    "- Given an array nums of size n, return the majority element.\n",
    "- The majority element is the element that appears more than ⌊n / 2⌋ times.\n",
    "- You may assume that the majority element always exists in the array. \n",
    "\n",
    "```\n",
    "Example 1:\n",
    "Input: nums = [3,2,3]\n",
    "Output: 3\n",
    "\n",
    "Example 2:\n",
    "Input: nums = [2,2,1,1,1,2,2]\n",
    "Output: 2\n",
    "```\n",
    "\n",
    "</font>\n",
    "</div>"
   ]
  },
  {
   "cell_type": "markdown",
   "id": "f1daac75",
   "metadata": {},
   "source": [
    "# Start-up code\n",
    "<hr style = \"border:2px solid black\" ></hr>"
   ]
  },
  {
   "cell_type": "code",
   "execution_count": 1,
   "id": "cf0c5e3e",
   "metadata": {
    "ExecuteTime": {
     "end_time": "2023-01-01T13:29:39.232030Z",
     "start_time": "2023-01-01T13:29:39.227780Z"
    }
   },
   "outputs": [
    {
     "name": "stdout",
     "output_type": "stream",
     "text": [
      "None Expected: 3\n",
      "None Expected: 2\n"
     ]
    }
   ],
   "source": [
    "def majorityElement(nums: list[int]) -> int:\n",
    "    return None\n",
    "\n",
    "print(majorityElement([3,2,3]), \"Expected: 3\")\n",
    "print(majorityElement([2,2,1,1,1,2,2]), \"Expected: 2\")"
   ]
  },
  {
   "cell_type": "markdown",
   "id": "f483ad6e",
   "metadata": {},
   "source": [
    "# Comments - think before coding!\n",
    "<hr style = \"border:2px solid black\" ></hr>"
   ]
  },
  {
   "cell_type": "markdown",
   "id": "e388c055",
   "metadata": {},
   "source": [
    "<div class=\"alert alert-info\">\n",
    "<font color=black>\n",
    "\n",
    "- **Majority element always exists** so no need to check for its exhistance.\n",
    "\n",
    "</font>\n",
    "</div>"
   ]
  },
  {
   "cell_type": "markdown",
   "id": "20589e27",
   "metadata": {},
   "source": [
    "# Solution #1\n",
    "<hr style = \"border:2px solid black\" ></hr>"
   ]
  },
  {
   "cell_type": "code",
   "execution_count": 31,
   "id": "f49b1c53",
   "metadata": {
    "ExecuteTime": {
     "end_time": "2023-01-01T13:53:59.099212Z",
     "start_time": "2023-01-01T13:53:59.094216Z"
    }
   },
   "outputs": [
    {
     "name": "stdout",
     "output_type": "stream",
     "text": [
      "3 Expected: 3\n",
      "2 Expected: 2\n"
     ]
    }
   ],
   "source": [
    "from collections import Counter\n",
    "\n",
    "def majorityElement(nums: list[int]) -> int:\n",
    "    \n",
    "    # Create a dict of value:count\n",
    "    dict_ele_count = dict(Counter(nums))\n",
    "    \n",
    "    # Invert dict: count:value\n",
    "    dict_count_ele = {value:key for key,value in dict_ele_count.items()}\n",
    "    \n",
    "    #print(dict_ele_count)\n",
    "    #print(dict_count_ele)\n",
    "\n",
    "    # get the max count and the return the value\n",
    "    # This work because we are guaranteed there alwasys exhhists one     \n",
    "    return dict_count_ele[max(dict_count_ele.keys())]\n",
    "\n",
    "print(majorityElement([3,2,3]), \"Expected: 3\")\n",
    "print(majorityElement([2,2,1,1,1,2,2]), \"Expected: 2\")"
   ]
  },
  {
   "cell_type": "markdown",
   "id": "364120bc",
   "metadata": {},
   "source": [
    "# References\n",
    "<hr style = \"border:2px solid black\" ></hr>"
   ]
  },
  {
   "cell_type": "markdown",
   "id": "49ac90a7",
   "metadata": {},
   "source": [
    "<div class=\"alert alert-warning\">\n",
    "<font color=black>\n",
    "\n",
    "- [Leetcode](https://www.leetcode.com)\n",
    "- [Make Counter.most_common return dictionary](https://stackoverflow.com/questions/19625443/make-counter-most-common-return-dictionary)\n",
    "- [Reverse / invert a dictionary mapping](https://stackoverflow.com/questions/483666/reverse-invert-a-dictionary-mapping)\n",
    "\n",
    "</font>\n",
    "</div>"
   ]
  },
  {
   "cell_type": "code",
   "execution_count": null,
   "id": "c1bbb6a2",
   "metadata": {},
   "outputs": [],
   "source": []
  }
 ],
 "metadata": {
  "kernelspec": {
   "display_name": "trainingAI",
   "language": "python",
   "name": "trainingai"
  },
  "language_info": {
   "codemirror_mode": {
    "name": "ipython",
    "version": 3
   },
   "file_extension": ".py",
   "mimetype": "text/x-python",
   "name": "python",
   "nbconvert_exporter": "python",
   "pygments_lexer": "ipython3",
   "version": "3.9.7"
  },
  "toc": {
   "base_numbering": 1,
   "nav_menu": {},
   "number_sections": true,
   "sideBar": true,
   "skip_h1_title": false,
   "title_cell": "Table of Contents",
   "title_sidebar": "Contents",
   "toc_cell": true,
   "toc_position": {},
   "toc_section_display": true,
   "toc_window_display": true
  },
  "varInspector": {
   "cols": {
    "lenName": 16,
    "lenType": 16,
    "lenVar": 40
   },
   "kernels_config": {
    "python": {
     "delete_cmd_postfix": "",
     "delete_cmd_prefix": "del ",
     "library": "var_list.py",
     "varRefreshCmd": "print(var_dic_list())"
    },
    "r": {
     "delete_cmd_postfix": ") ",
     "delete_cmd_prefix": "rm(",
     "library": "var_list.r",
     "varRefreshCmd": "cat(var_dic_list()) "
    }
   },
   "types_to_exclude": [
    "module",
    "function",
    "builtin_function_or_method",
    "instance",
    "_Feature"
   ],
   "window_display": false
  }
 },
 "nbformat": 4,
 "nbformat_minor": 5
}
