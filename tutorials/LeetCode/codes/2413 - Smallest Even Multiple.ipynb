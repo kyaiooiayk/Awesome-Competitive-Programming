{
 "cells": [
  {
   "cell_type": "markdown",
   "id": "2459ed2a",
   "metadata": {
    "toc": true
   },
   "source": [
    "<h1>Table of Contents<span class=\"tocSkip\"></span></h1>\n",
    "<div class=\"toc\"><ul class=\"toc-item\"><li><span><a href=\"#Instruction\" data-toc-modified-id=\"Instruction-1\"><span class=\"toc-item-num\">1&nbsp;&nbsp;</span>Instruction</a></span></li><li><span><a href=\"#Start-up-code\" data-toc-modified-id=\"Start-up-code-2\"><span class=\"toc-item-num\">2&nbsp;&nbsp;</span>Start-up code</a></span></li><li><span><a href=\"#Comment---think-before-coding!\" data-toc-modified-id=\"Comment---think-before-coding!-3\"><span class=\"toc-item-num\">3&nbsp;&nbsp;</span>Comment - think before coding!</a></span></li><li><span><a href=\"#Solution-#1\" data-toc-modified-id=\"Solution-#1-4\"><span class=\"toc-item-num\">4&nbsp;&nbsp;</span>Solution #1</a></span></li><li><span><a href=\"#Solution-#2\" data-toc-modified-id=\"Solution-#2-5\"><span class=\"toc-item-num\">5&nbsp;&nbsp;</span>Solution #2</a></span></li><li><span><a href=\"#Solution-#3\" data-toc-modified-id=\"Solution-#3-6\"><span class=\"toc-item-num\">6&nbsp;&nbsp;</span>Solution #3</a></span></li><li><span><a href=\"#References\" data-toc-modified-id=\"References-7\"><span class=\"toc-item-num\">7&nbsp;&nbsp;</span>References</a></span></li></ul></div>"
   ]
  },
  {
   "cell_type": "markdown",
   "id": "4cb22ddf",
   "metadata": {},
   "source": [
    "# Instruction\n",
    "<hr style = \"border:2px solid black\" ></hr>"
   ]
  },
  {
   "cell_type": "markdown",
   "id": "bef298f5",
   "metadata": {},
   "source": [
    "<div class=\"alert alert-warning\">\n",
    "<font color=black>\n",
    "\n",
    "- Given a positive integer n, return the smallest positive integer that is a multiple of both 2 and n.\n",
    "    \n",
    "```\n",
    "Example 1:\n",
    "Input: n = 5\n",
    "Output: 10\n",
    "Explanation: The smallest multiple of both 5 and 2 is 10.\n",
    "\n",
    "Example 2:\n",
    "Input: n = 6\n",
    "Output: 6\n",
    "Explanation: The smallest multiple of both 6 and 2 is 6. Note that a number is a multiple of itself.\n",
    "\n",
    "```\n",
    "\n",
    "</font>\n",
    "</div>"
   ]
  },
  {
   "cell_type": "markdown",
   "id": "f1daac75",
   "metadata": {},
   "source": [
    "# Start-up code\n",
    "<hr style = \"border:2px solid black\" ></hr>"
   ]
  },
  {
   "cell_type": "code",
   "execution_count": 2,
   "id": "cf0c5e3e",
   "metadata": {
    "ExecuteTime": {
     "end_time": "2023-01-26T16:32:25.770032Z",
     "start_time": "2023-01-26T16:32:25.766245Z"
    },
    "code_folding": []
   },
   "outputs": [
    {
     "name": "stdout",
     "output_type": "stream",
     "text": [
      "None Expected: 10\n"
     ]
    }
   ],
   "source": [
    "def smallestEvenMultiple(n: int) -> int:\n",
    "    return None\n",
    "\n",
    "\n",
    "print(smallestEvenMultiple(5), \"Expected: 10\")\n",
    "print(smallestEvenMultiple(6), \"Expected: 6\")"
   ]
  },
  {
   "cell_type": "markdown",
   "id": "9c423446",
   "metadata": {},
   "source": [
    "# Comment - think before coding!\n",
    "<hr style = \"border:2px solid black\" ></hr>"
   ]
  },
  {
   "cell_type": "markdown",
   "id": "a71709d2",
   "metadata": {},
   "source": [
    "<div class=\"alert alert-info\">\n",
    "<font color=black>\n",
    "\n",
    "- There two solutions to this:\n",
    "    - An iterative and valid one, but efficient in terms of operation needed.\n",
    "    - One which based on the simple observation that if integer is not a multiple of 2, then its double `n*2` is by definition.\n",
    "    \n",
    "</font>\n",
    "</div>"
   ]
  },
  {
   "cell_type": "markdown",
   "id": "f163751a",
   "metadata": {},
   "source": [
    "# Solution #1\n",
    "<hr style = \"border:2px solid black\" ></hr>"
   ]
  },
  {
   "cell_type": "code",
   "execution_count": 40,
   "id": "99fd92f8",
   "metadata": {
    "ExecuteTime": {
     "end_time": "2023-01-26T16:55:53.586890Z",
     "start_time": "2023-01-26T16:55:53.582089Z"
    }
   },
   "outputs": [
    {
     "name": "stdout",
     "output_type": "stream",
     "text": [
      "10 Expected: 10\n",
      "6 Expected: 6\n",
      "2 Expected: 2\n"
     ]
    }
   ],
   "source": [
    "def smallestEvenMultiple(n: int) -> int:\n",
    "    \"\"\"\n",
    "    Iterative solution\n",
    "    \"\"\"\n",
    "    start = 2\n",
    "    \n",
    "    while (start%n !=0) or (start%2 !=0):\n",
    "        start +=1\n",
    "\n",
    "    return start\n",
    "\n",
    "\n",
    "print(smallestEvenMultiple(5), \"Expected: 10\")\n",
    "print(smallestEvenMultiple(6), \"Expected: 6\")\n",
    "print(smallestEvenMultiple(2), \"Expected: 2\")"
   ]
  },
  {
   "cell_type": "markdown",
   "id": "b838bc87",
   "metadata": {},
   "source": [
    "# Solution #2\n",
    "<hr style = \"border:2px solid black\" ></hr>"
   ]
  },
  {
   "cell_type": "code",
   "execution_count": 42,
   "id": "2907e080",
   "metadata": {
    "ExecuteTime": {
     "end_time": "2023-01-26T16:56:49.030941Z",
     "start_time": "2023-01-26T16:56:49.025165Z"
    }
   },
   "outputs": [
    {
     "name": "stdout",
     "output_type": "stream",
     "text": [
      "10 Expected: 10\n",
      "6 Expected: 6\n",
      "2 Expected: 2\n"
     ]
    }
   ],
   "source": [
    "def smallestEvenMultiple(n: int) -> int:\n",
    "        # check if n is even return as it is because it will be the smallest even no\n",
    "        if n % 2 == 0:  \n",
    "            return n\n",
    "        else:\n",
    "            # else multipy it with 2 to convert it into smallest even multiple\n",
    "            return n*2\n",
    "        \n",
    "print(smallestEvenMultiple(5), \"Expected: 10\")\n",
    "print(smallestEvenMultiple(6), \"Expected: 6\")\n",
    "print(smallestEvenMultiple(2), \"Expected: 2\")"
   ]
  },
  {
   "cell_type": "markdown",
   "id": "e1ff600b",
   "metadata": {},
   "source": [
    "# Solution #3\n",
    "<hr style = \"border:2px solid black\" ></hr>"
   ]
  },
  {
   "cell_type": "code",
   "execution_count": 43,
   "id": "0f6ec069",
   "metadata": {
    "ExecuteTime": {
     "end_time": "2023-01-26T16:58:53.716675Z",
     "start_time": "2023-01-26T16:58:53.711033Z"
    }
   },
   "outputs": [
    {
     "name": "stdout",
     "output_type": "stream",
     "text": [
      "10 Expected: 10\n",
      "6 Expected: 6\n",
      "2 Expected: 2\n"
     ]
    }
   ],
   "source": [
    "def smallestEvenMultiple(n: int) -> int:\n",
    "    return n if n%2 == 0 else n*2\n",
    "\n",
    "print(smallestEvenMultiple(5), \"Expected: 10\")\n",
    "print(smallestEvenMultiple(6), \"Expected: 6\")\n",
    "print(smallestEvenMultiple(2), \"Expected: 2\")"
   ]
  },
  {
   "cell_type": "markdown",
   "id": "364120bc",
   "metadata": {},
   "source": [
    "# References\n",
    "<hr style = \"border:2px solid black\" ></hr>"
   ]
  },
  {
   "cell_type": "markdown",
   "id": "6798661b",
   "metadata": {},
   "source": [
    "<div class=\"alert alert-warning\">\n",
    "<font color=black>\n",
    "\n",
    "- [Leetcode](https://www.leetcode.com)\n",
    "   \n",
    "</font>\n",
    "</div>"
   ]
  },
  {
   "cell_type": "code",
   "execution_count": null,
   "id": "df53caeb",
   "metadata": {},
   "outputs": [],
   "source": []
  }
 ],
 "metadata": {
  "kernelspec": {
   "display_name": "trainingAI",
   "language": "python",
   "name": "trainingai"
  },
  "language_info": {
   "codemirror_mode": {
    "name": "ipython",
    "version": 3
   },
   "file_extension": ".py",
   "mimetype": "text/x-python",
   "name": "python",
   "nbconvert_exporter": "python",
   "pygments_lexer": "ipython3",
   "version": "3.9.7"
  },
  "toc": {
   "base_numbering": 1,
   "nav_menu": {},
   "number_sections": true,
   "sideBar": true,
   "skip_h1_title": false,
   "title_cell": "Table of Contents",
   "title_sidebar": "Contents",
   "toc_cell": true,
   "toc_position": {},
   "toc_section_display": true,
   "toc_window_display": true
  },
  "varInspector": {
   "cols": {
    "lenName": 16,
    "lenType": 16,
    "lenVar": 40
   },
   "kernels_config": {
    "python": {
     "delete_cmd_postfix": "",
     "delete_cmd_prefix": "del ",
     "library": "var_list.py",
     "varRefreshCmd": "print(var_dic_list())"
    },
    "r": {
     "delete_cmd_postfix": ") ",
     "delete_cmd_prefix": "rm(",
     "library": "var_list.r",
     "varRefreshCmd": "cat(var_dic_list()) "
    }
   },
   "types_to_exclude": [
    "module",
    "function",
    "builtin_function_or_method",
    "instance",
    "_Feature"
   ],
   "window_display": false
  }
 },
 "nbformat": 4,
 "nbformat_minor": 5
}
