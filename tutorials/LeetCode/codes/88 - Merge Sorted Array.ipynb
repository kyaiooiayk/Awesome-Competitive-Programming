{
 "cells": [
  {
   "cell_type": "markdown",
   "id": "2459ed2a",
   "metadata": {
    "toc": true
   },
   "source": [
    "<h1>Table of Contents<span class=\"tocSkip\"></span></h1>\n",
    "<div class=\"toc\"><ul class=\"toc-item\"><li><span><a href=\"#Instruction\" data-toc-modified-id=\"Instruction-1\"><span class=\"toc-item-num\">1&nbsp;&nbsp;</span>Instruction</a></span></li><li><span><a href=\"#Start-up-code\" data-toc-modified-id=\"Start-up-code-2\"><span class=\"toc-item-num\">2&nbsp;&nbsp;</span>Start-up code</a></span></li><li><span><a href=\"#Comments---think-before-coding!\" data-toc-modified-id=\"Comments---think-before-coding!-3\"><span class=\"toc-item-num\">3&nbsp;&nbsp;</span>Comments - think before coding!</a></span></li><li><span><a href=\"#Solution-#1\" data-toc-modified-id=\"Solution-#1-4\"><span class=\"toc-item-num\">4&nbsp;&nbsp;</span>Solution #1</a></span></li><li><span><a href=\"#Solution-#2\" data-toc-modified-id=\"Solution-#2-5\"><span class=\"toc-item-num\">5&nbsp;&nbsp;</span>Solution #2</a></span></li><li><span><a href=\"#References\" data-toc-modified-id=\"References-6\"><span class=\"toc-item-num\">6&nbsp;&nbsp;</span>References</a></span></li></ul></div>"
   ]
  },
  {
   "cell_type": "markdown",
   "id": "4cb22ddf",
   "metadata": {},
   "source": [
    "# Instruction\n",
    "<hr style = \"border:2px solid black\" ></hr>"
   ]
  },
  {
   "cell_type": "markdown",
   "id": "61a65fd5",
   "metadata": {},
   "source": [
    "<div class=\"alert alert-warning\">\n",
    "<font color=black>\n",
    "\n",
    "- You are given two integer arrays nums1 and nums2, sorted in non-decreasing order, and two integers m and n, representing the number of elements in nums1 and nums2 respectively.\n",
    "- Merge nums1 and nums2 into a single array sorted in non-decreasing order.\n",
    "- The final sorted array should not be returned by the function, but instead be stored inside the array nums1.\n",
    "- To accommodate this, nums1 has a length of m + n, where the first m elements denote the elements that should be merged, and the last n elements are set to 0 and should be ignored. nums2 has a length of n.\n",
    "\n",
    "\n",
    "```\n",
    "Example 1:\n",
    "Input: nums1 = [1,2,3,0,0,0], m = 3, nums2 = [2,5,6], n = 3\n",
    "Output: [1,2,2,3,5,6]\n",
    "Explanation: The arrays we are merging are [1,2,3] and [2,5,6].\n",
    "The result of the merge is [1,2,2,3,5,6] with the underlined elements coming from nums1.\n",
    "\n",
    "Example 2:\n",
    "Input: nums1 = [1], m = 1, nums2 = [], n = 0\n",
    "Output: [1]\n",
    "Explanation: The arrays we are merging are [1] and [].\n",
    "The result of the merge is [1].\n",
    "\n",
    "Example 3:\n",
    "Input: nums1 = [0], m = 0, nums2 = [1], n = 1\n",
    "Output: [1]\n",
    "Explanation: The arrays we are merging are [] and [1].\n",
    "The result of the merge is [1].\n",
    "Note that because m = 0, there are no elements in nums1. The 0 is only there to ensure the merge result can fit in nums1.\n",
    "```\n",
    "\n",
    "</font>\n",
    "</div>"
   ]
  },
  {
   "cell_type": "markdown",
   "id": "f1daac75",
   "metadata": {},
   "source": [
    "# Start-up code\n",
    "<hr style = \"border:2px solid black\" ></hr>"
   ]
  },
  {
   "cell_type": "code",
   "execution_count": 10,
   "id": "cf0c5e3e",
   "metadata": {
    "ExecuteTime": {
     "end_time": "2022-12-28T16:59:57.148131Z",
     "start_time": "2022-12-28T16:59:57.144117Z"
    }
   },
   "outputs": [
    {
     "name": "stdout",
     "output_type": "stream",
     "text": [
      "None Expected: [1,2,2,3,5,6]\n",
      "None Expected: [1]\n",
      "None Expected: [1]\n"
     ]
    }
   ],
   "source": [
    "def merge(nums1: list[int], m: int, nums2: list[int], n: int) ->list[int]:\n",
    "    \"\"\"\n",
    "    The original code asks you to not return anything, modify nums1 in-place instead.\n",
    "    Here we'll modifiy it slighly to return nums1\n",
    "    \"\"\"\n",
    "    return None\n",
    "\n",
    "print(merge([1,2,3,0,0,0],3, [2,5,6], 3), \"Expected: [1,2,2,3,5,6]\")\n",
    "print(merge([1], 1, [], 0), \"Expected: [1]\")\n",
    "print(merge([0], 0, [1], 1), \"Expected: [1]\")"
   ]
  },
  {
   "cell_type": "markdown",
   "id": "f483ad6e",
   "metadata": {},
   "source": [
    "# Comments - think before coding!\n",
    "<hr style = \"border:2px solid black\" ></hr>"
   ]
  },
  {
   "cell_type": "markdown",
   "id": "4e745140",
   "metadata": {},
   "source": [
    "<div class=\"alert alert-info\">\n",
    "<font color=black>\n",
    "\n",
    "- The input lists are always supplied in ascending order. \n",
    "- The number of valid (as in to keep) values is already provided and this is a valuable piece of information.\n",
    "\n",
    "</font>\n",
    "</div>"
   ]
  },
  {
   "cell_type": "markdown",
   "id": "20589e27",
   "metadata": {},
   "source": [
    "# Solution #1\n",
    "<hr style = \"border:2px solid black\" ></hr>"
   ]
  },
  {
   "cell_type": "code",
   "execution_count": 15,
   "id": "f49b1c53",
   "metadata": {
    "ExecuteTime": {
     "end_time": "2022-12-28T17:02:30.930758Z",
     "start_time": "2022-12-28T17:02:30.925752Z"
    }
   },
   "outputs": [
    {
     "name": "stdout",
     "output_type": "stream",
     "text": [
      "[1, 2, 2, 3, 5, 6] Expected: [1,2,2,3,5,6]\n",
      "[1] Expected: [1]\n",
      "[1] Expected: [1]\n"
     ]
    }
   ],
   "source": [
    "def merge(nums1: list[int], m: int, nums2: list[int], n: int) ->list[int]:\n",
    "    \"\"\"\n",
    "    The original code asks you to not return anything, modify nums1 in-place instead.\n",
    "    Here we'll modifiy it slighly to return nums1\n",
    "    \"\"\"\n",
    "    a = sorted(nums1[:m] + nums2[:n])\n",
    "    \n",
    "    for i, value in enumerate(a):\n",
    "        nums1[i] = value\n",
    "    \n",
    "    return nums1\n",
    "\n",
    "print(merge([1,2,3,0,0,0],3, [2,5,6], 3), \"Expected: [1,2,2,3,5,6]\")\n",
    "print(merge([1], 1, [], 0), \"Expected: [1]\")\n",
    "print(merge([0], 0, [1], 1), \"Expected: [1]\")"
   ]
  },
  {
   "cell_type": "markdown",
   "id": "2e985c29",
   "metadata": {},
   "source": [
    "# Solution #2\n",
    "<hr style = \"border:2px solid black\" ></hr>"
   ]
  },
  {
   "cell_type": "code",
   "execution_count": 16,
   "id": "e72bd82b",
   "metadata": {
    "ExecuteTime": {
     "end_time": "2022-12-28T17:05:52.083956Z",
     "start_time": "2022-12-28T17:05:52.079424Z"
    }
   },
   "outputs": [
    {
     "name": "stdout",
     "output_type": "stream",
     "text": [
      "None Expected: [1,2,2,3,5,6]\n",
      "None Expected: [1]\n",
      "None Expected: [1]\n"
     ]
    }
   ],
   "source": [
    "def merge(nums1: list[int], m: int, nums2: list[int], n: int) -> list[int]:\n",
    "    \"\"\"\n",
    "    The original code asks you to not return anything, modify nums1 in-place instead.\n",
    "    Here we'll modifiy it slighly to return nums1\n",
    "    \"\"\"\n",
    "\n",
    "    nums1[m:] = nums2[:n]\n",
    "\n",
    "    return nums1.sort()\n",
    "\n",
    "\n",
    "print(merge([1, 2, 3, 0, 0, 0], 3, [2, 5, 6], 3), \"Expected: [1,2,2,3,5,6]\")\n",
    "print(merge([1], 1, [], 0), \"Expected: [1]\")\n",
    "print(merge([0], 0, [1], 1), \"Expected: [1]\")"
   ]
  },
  {
   "cell_type": "markdown",
   "id": "364120bc",
   "metadata": {},
   "source": [
    "# References\n",
    "<hr style = \"border:2px solid black\" ></hr>"
   ]
  },
  {
   "cell_type": "markdown",
   "id": "372fcd5e",
   "metadata": {},
   "source": [
    "<div class=\"alert alert-warning\">\n",
    "<font color=black>\n",
    "\n",
    "- [Leetcode](https://www.leetcode.com)\n",
    "\n",
    "</font>\n",
    "</div>"
   ]
  },
  {
   "cell_type": "code",
   "execution_count": null,
   "id": "6defccdc",
   "metadata": {},
   "outputs": [],
   "source": []
  }
 ],
 "metadata": {
  "kernelspec": {
   "display_name": "trainingAI",
   "language": "python",
   "name": "trainingai"
  },
  "language_info": {
   "codemirror_mode": {
    "name": "ipython",
    "version": 3
   },
   "file_extension": ".py",
   "mimetype": "text/x-python",
   "name": "python",
   "nbconvert_exporter": "python",
   "pygments_lexer": "ipython3",
   "version": "3.9.7"
  },
  "toc": {
   "base_numbering": 1,
   "nav_menu": {},
   "number_sections": true,
   "sideBar": true,
   "skip_h1_title": false,
   "title_cell": "Table of Contents",
   "title_sidebar": "Contents",
   "toc_cell": true,
   "toc_position": {},
   "toc_section_display": true,
   "toc_window_display": true
  },
  "varInspector": {
   "cols": {
    "lenName": 16,
    "lenType": 16,
    "lenVar": 40
   },
   "kernels_config": {
    "python": {
     "delete_cmd_postfix": "",
     "delete_cmd_prefix": "del ",
     "library": "var_list.py",
     "varRefreshCmd": "print(var_dic_list())"
    },
    "r": {
     "delete_cmd_postfix": ") ",
     "delete_cmd_prefix": "rm(",
     "library": "var_list.r",
     "varRefreshCmd": "cat(var_dic_list()) "
    }
   },
   "types_to_exclude": [
    "module",
    "function",
    "builtin_function_or_method",
    "instance",
    "_Feature"
   ],
   "window_display": false
  }
 },
 "nbformat": 4,
 "nbformat_minor": 5
}
