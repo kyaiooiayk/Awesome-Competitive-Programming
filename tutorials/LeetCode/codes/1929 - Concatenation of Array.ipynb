{
 "cells": [
  {
   "cell_type": "markdown",
   "id": "2459ed2a",
   "metadata": {
    "toc": true
   },
   "source": [
    "<h1>Table of Contents<span class=\"tocSkip\"></span></h1>\n",
    "<div class=\"toc\"><ul class=\"toc-item\"><li><span><a href=\"#Description\" data-toc-modified-id=\"Description-1\"><span class=\"toc-item-num\">1&nbsp;&nbsp;</span>Description</a></span></li><li><span><a href=\"#Start-up-code\" data-toc-modified-id=\"Start-up-code-2\"><span class=\"toc-item-num\">2&nbsp;&nbsp;</span>Start-up code</a></span></li><li><span><a href=\"#Comment---think-before-coding!\" data-toc-modified-id=\"Comment---think-before-coding!-3\"><span class=\"toc-item-num\">3&nbsp;&nbsp;</span>Comment - think before coding!</a></span></li><li><span><a href=\"#Solution-#1\" data-toc-modified-id=\"Solution-#1-4\"><span class=\"toc-item-num\">4&nbsp;&nbsp;</span>Solution #1</a></span></li><li><span><a href=\"#Solution-#2\" data-toc-modified-id=\"Solution-#2-5\"><span class=\"toc-item-num\">5&nbsp;&nbsp;</span>Solution #2</a></span></li><li><span><a href=\"#Solution-#3\" data-toc-modified-id=\"Solution-#3-6\"><span class=\"toc-item-num\">6&nbsp;&nbsp;</span>Solution #3</a></span></li><li><span><a href=\"#References\" data-toc-modified-id=\"References-7\"><span class=\"toc-item-num\">7&nbsp;&nbsp;</span>References</a></span></li></ul></div>"
   ]
  },
  {
   "cell_type": "markdown",
   "id": "40965ce3",
   "metadata": {},
   "source": [
    "# Description\n",
    "<hr style = \"border:2px solid black\" ></hr>"
   ]
  },
  {
   "cell_type": "markdown",
   "id": "b5cce836",
   "metadata": {
    "ExecuteTime": {
     "end_time": "2023-01-12T13:49:06.987434Z",
     "start_time": "2023-01-12T13:49:06.983575Z"
    }
   },
   "source": [
    "<div class=\"alert alert-warning\">\n",
    "<font color=black>\n",
    "\n",
    "- Given an integer array nums of length n, you want to create an array ans of length 2n where `ans[i] == nums[i]` and `ans[i + n] == nums[i]` for `0 <= i < n (0-indexed)`.\n",
    "- Specifically, ans is the concatenation of two nums arrays.\n",
    "- Return the array ans.\n",
    "\n",
    "```\n",
    "Example 1:\n",
    "Input: nums = [1,2,1]\n",
    "Output: [1,2,1,1,2,1]\n",
    "Explanation: The array ans is formed as follows:\n",
    "- ans = [nums[0],nums[1],nums[2],nums[0],nums[1],nums[2]]\n",
    "- ans = [1,2,1,1,2,1]\n",
    "\n",
    "Example 2:\n",
    "Input: nums = [1,3,2,1]\n",
    "Output: [1,3,2,1,1,3,2,1]\n",
    "Explanation: The array ans is formed as follows:\n",
    "- ans = [nums[0],nums[1],nums[2],nums[3],nums[0],nums[1],nums[2],nums[3]]\n",
    "- ans = [1,3,2,1,1,3,2,1]\n",
    "```\n",
    "\n",
    "</font>\n",
    "</div>"
   ]
  },
  {
   "cell_type": "markdown",
   "id": "f1daac75",
   "metadata": {},
   "source": [
    "# Start-up code\n",
    "<hr style = \"border:2px solid black\" ></hr>"
   ]
  },
  {
   "cell_type": "code",
   "execution_count": 5,
   "id": "cf0c5e3e",
   "metadata": {
    "ExecuteTime": {
     "end_time": "2023-01-15T13:38:52.464921Z",
     "start_time": "2023-01-15T13:38:52.460852Z"
    }
   },
   "outputs": [
    {
     "name": "stdout",
     "output_type": "stream",
     "text": [
      "None Expected=: [1,2,1,1,2,1]\n",
      "None Expected=: [1,3,2,1,1,3,2,1]\n"
     ]
    }
   ],
   "source": [
    "def getConcatenation(nums: list[int]) -> list[int]:\n",
    "    return None\n",
    "\n",
    "print(getConcatenation([1,2,1]), \"Expected=: [1,2,1,1,2,1]\")\n",
    "print(getConcatenation([1,3,2,1]), \"Expected=: [1,3,2,1,1,3,2,1]\")\n"
   ]
  },
  {
   "cell_type": "markdown",
   "id": "9c423446",
   "metadata": {},
   "source": [
    "# Comment - think before coding!\n",
    "<hr style = \"border:2px solid black\" ></hr>"
   ]
  },
  {
   "cell_type": "markdown",
   "id": "56199bf2",
   "metadata": {
    "ExecuteTime": {
     "end_time": "2023-01-12T13:49:06.996579Z",
     "start_time": "2023-01-12T13:49:06.996545Z"
    }
   },
   "source": [
    "<div class=\"alert alert-info\">\n",
    "<font color=black>\n",
    "\n",
    "- This is one of the case where the example are easier to understand than the description.\n",
    "\n",
    "</font>\n",
    "</div>"
   ]
  },
  {
   "cell_type": "markdown",
   "id": "f163751a",
   "metadata": {},
   "source": [
    "# Solution #1\n",
    "<hr style = \"border:2px solid black\" ></hr>"
   ]
  },
  {
   "cell_type": "code",
   "execution_count": 7,
   "id": "06e3d39b",
   "metadata": {
    "ExecuteTime": {
     "end_time": "2023-01-15T13:39:56.578539Z",
     "start_time": "2023-01-15T13:39:56.574180Z"
    },
    "code_folding": []
   },
   "outputs": [
    {
     "name": "stdout",
     "output_type": "stream",
     "text": [
      "[1, 2, 1, 1, 2, 1] Expected=: [1,2,1,1,2,1]\n",
      "[1, 3, 2, 1, 1, 3, 2, 1] Expected=: [1,3,2,1,1,3,2,1]\n"
     ]
    }
   ],
   "source": [
    "def getConcatenation(nums: list[int]) -> list[int]:\n",
    "\n",
    "    return nums+nums\n",
    "\n",
    "\n",
    "print(getConcatenation([1, 2, 1]), \"Expected=: [1,2,1,1,2,1]\")\n",
    "print(getConcatenation([1, 3, 2, 1]), \"Expected=: [1,3,2,1,1,3,2,1]\")"
   ]
  },
  {
   "cell_type": "markdown",
   "id": "efacb887",
   "metadata": {},
   "source": [
    "# Solution #2\n",
    "<hr style = \"border:2px solid black\" ></hr>"
   ]
  },
  {
   "cell_type": "code",
   "execution_count": 8,
   "id": "01b49530",
   "metadata": {
    "ExecuteTime": {
     "end_time": "2023-01-15T13:41:35.539515Z",
     "start_time": "2023-01-15T13:41:35.535122Z"
    }
   },
   "outputs": [
    {
     "name": "stdout",
     "output_type": "stream",
     "text": [
      "None Expected=: [1,2,1,1,2,1]\n",
      "None Expected=: [1,3,2,1,1,3,2,1]\n"
     ]
    }
   ],
   "source": [
    "def getConcatenation(nums: list[int]) -> list[int]:\n",
    "\n",
    "    return nums.extend(nums)\n",
    "\n",
    "\n",
    "print(getConcatenation([1, 2, 1]), \"Expected=: [1,2,1,1,2,1]\")\n",
    "print(getConcatenation([1, 3, 2, 1]), \"Expected=: [1,3,2,1,1,3,2,1]\")"
   ]
  },
  {
   "cell_type": "markdown",
   "id": "350e296c",
   "metadata": {},
   "source": [
    "# Solution #3\n",
    "<hr style = \"border:2px solid black\" ></hr>"
   ]
  },
  {
   "cell_type": "code",
   "execution_count": 9,
   "id": "a11a1538",
   "metadata": {
    "ExecuteTime": {
     "end_time": "2023-01-15T13:42:44.035200Z",
     "start_time": "2023-01-15T13:42:44.030798Z"
    }
   },
   "outputs": [
    {
     "name": "stdout",
     "output_type": "stream",
     "text": [
      "[1, 2, 1, 1, 2, 1] Expected=: [1,2,1,1,2,1]\n",
      "[1, 3, 2, 1, 1, 3, 2, 1] Expected=: [1,3,2,1,1,3,2,1]\n"
     ]
    }
   ],
   "source": [
    "def getConcatenation(nums: list[int]) -> list[int]:\n",
    "\n",
    "    return nums*2\n",
    "\n",
    "\n",
    "print(getConcatenation([1, 2, 1]), \"Expected=: [1,2,1,1,2,1]\")\n",
    "print(getConcatenation([1, 3, 2, 1]), \"Expected=: [1,3,2,1,1,3,2,1]\")"
   ]
  },
  {
   "cell_type": "markdown",
   "id": "a1d9f6c8",
   "metadata": {},
   "source": [
    "# References\n",
    "<hr style = \"border:2px solid black\" ></hr>"
   ]
  },
  {
   "cell_type": "markdown",
   "id": "2c1fd299",
   "metadata": {},
   "source": [
    "<div class=\"alert alert-warning\">\n",
    "<font color=black>\n",
    "\n",
    "- [Leetcode](www.leetcode.com)\n",
    "\n",
    "</font>\n",
    "</div>"
   ]
  },
  {
   "cell_type": "code",
   "execution_count": null,
   "id": "59ee41dd",
   "metadata": {},
   "outputs": [],
   "source": []
  }
 ],
 "metadata": {
  "kernelspec": {
   "display_name": "trainingAI",
   "language": "python",
   "name": "trainingai"
  },
  "language_info": {
   "codemirror_mode": {
    "name": "ipython",
    "version": 3
   },
   "file_extension": ".py",
   "mimetype": "text/x-python",
   "name": "python",
   "nbconvert_exporter": "python",
   "pygments_lexer": "ipython3",
   "version": "3.9.7"
  },
  "toc": {
   "base_numbering": 1,
   "nav_menu": {},
   "number_sections": true,
   "sideBar": true,
   "skip_h1_title": false,
   "title_cell": "Table of Contents",
   "title_sidebar": "Contents",
   "toc_cell": true,
   "toc_position": {},
   "toc_section_display": true,
   "toc_window_display": true
  },
  "varInspector": {
   "cols": {
    "lenName": 16,
    "lenType": 16,
    "lenVar": 40
   },
   "kernels_config": {
    "python": {
     "delete_cmd_postfix": "",
     "delete_cmd_prefix": "del ",
     "library": "var_list.py",
     "varRefreshCmd": "print(var_dic_list())"
    },
    "r": {
     "delete_cmd_postfix": ") ",
     "delete_cmd_prefix": "rm(",
     "library": "var_list.r",
     "varRefreshCmd": "cat(var_dic_list()) "
    }
   },
   "types_to_exclude": [
    "module",
    "function",
    "builtin_function_or_method",
    "instance",
    "_Feature"
   ],
   "window_display": false
  }
 },
 "nbformat": 4,
 "nbformat_minor": 5
}
