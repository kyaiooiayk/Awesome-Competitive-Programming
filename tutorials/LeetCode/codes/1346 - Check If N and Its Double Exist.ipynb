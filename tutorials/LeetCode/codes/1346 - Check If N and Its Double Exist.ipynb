{
 "cells": [
  {
   "cell_type": "markdown",
   "id": "2459ed2a",
   "metadata": {
    "toc": true
   },
   "source": [
    "<h1>Table of Contents<span class=\"tocSkip\"></span></h1>\n",
    "<div class=\"toc\"><ul class=\"toc-item\"><li><span><a href=\"#Description\" data-toc-modified-id=\"Description-1\"><span class=\"toc-item-num\">1&nbsp;&nbsp;</span>Description</a></span></li><li><span><a href=\"#Start-up-code\" data-toc-modified-id=\"Start-up-code-2\"><span class=\"toc-item-num\">2&nbsp;&nbsp;</span>Start-up code</a></span></li><li><span><a href=\"#Comment---think-before-coding!\" data-toc-modified-id=\"Comment---think-before-coding!-3\"><span class=\"toc-item-num\">3&nbsp;&nbsp;</span>Comment - think before coding!</a></span></li><li><span><a href=\"#Solution-#1\" data-toc-modified-id=\"Solution-#1-4\"><span class=\"toc-item-num\">4&nbsp;&nbsp;</span>Solution #1</a></span></li><li><span><a href=\"#Solution-#2\" data-toc-modified-id=\"Solution-#2-5\"><span class=\"toc-item-num\">5&nbsp;&nbsp;</span>Solution #2</a></span></li><li><span><a href=\"#References\" data-toc-modified-id=\"References-6\"><span class=\"toc-item-num\">6&nbsp;&nbsp;</span>References</a></span></li></ul></div>"
   ]
  },
  {
   "cell_type": "markdown",
   "id": "40965ce3",
   "metadata": {},
   "source": [
    "# Description\n",
    "<hr style = \"border:2px solid black\" ></hr>"
   ]
  },
  {
   "cell_type": "markdown",
   "id": "01bf5828",
   "metadata": {},
   "source": [
    "<div class=\"alert alert-warning\">\n",
    "<font color=black>\n",
    "\n",
    "- Given an array arr of integers, check if there exist two indices `i` and `j` such that :\n",
    "    - `i != j`\n",
    "    - `0 <= i, j < arr.length`\n",
    "    - `arr[i] == 2 * arr[j]`\n",
    "\n",
    "```\n",
    "Example 1:\n",
    "Input: arr = [10,2,5,3]\n",
    "Output: true\n",
    "Explanation: For i = 0 and j = 2, arr[i] == 10 == 2 * 5 == 2 * arr[j]\n",
    "\n",
    "Example 2:\n",
    "Input: arr = [3,1,7,11]\n",
    "Output: false\n",
    "Explanation: There is no i and j that satisfy the conditions.\n",
    "\n",
    "```\n",
    "\n",
    "</font>\n",
    "</div>"
   ]
  },
  {
   "cell_type": "markdown",
   "id": "f1daac75",
   "metadata": {},
   "source": [
    "# Start-up code\n",
    "<hr style = \"border:2px solid black\" ></hr>"
   ]
  },
  {
   "cell_type": "code",
   "execution_count": 8,
   "id": "cf0c5e3e",
   "metadata": {
    "ExecuteTime": {
     "end_time": "2023-02-26T11:36:18.791129Z",
     "start_time": "2023-02-26T11:36:18.787096Z"
    }
   },
   "outputs": [
    {
     "name": "stdout",
     "output_type": "stream",
     "text": [
      "None =True\n",
      "None =True\n"
     ]
    }
   ],
   "source": [
    "from typing import List\n",
    "def checkIfExist(arr: List[int]) -> bool:\n",
    "    return None\n",
    "\n",
    "print(checkIfExist([10,2,5,3]), \"=True\")\n",
    "print(checkIfExist([3,1,7,11]), \"=False\")"
   ]
  },
  {
   "cell_type": "markdown",
   "id": "9c423446",
   "metadata": {},
   "source": [
    "# Comment - think before coding!\n",
    "<hr style = \"border:2px solid black\" ></hr>"
   ]
  },
  {
   "cell_type": "markdown",
   "id": "f208f584",
   "metadata": {},
   "source": [
    "<div class=\"alert alert-info\">\n",
    "<font color=black>\n",
    "\n",
    "- Think about edge cases and take care of them appropriately.\n",
    "- The description does not mention anything about duplicated entries so assume there are some.\n",
    "    \n",
    "</font>\n",
    "</div>"
   ]
  },
  {
   "cell_type": "markdown",
   "id": "df100eae",
   "metadata": {},
   "source": [
    "# Solution #1\n",
    "<hr style = \"border:2px solid black\" ></hr>"
   ]
  },
  {
   "cell_type": "code",
   "execution_count": 75,
   "id": "964f2217",
   "metadata": {
    "ExecuteTime": {
     "end_time": "2023-02-26T12:22:09.234103Z",
     "start_time": "2023-02-26T12:22:09.230279Z"
    }
   },
   "outputs": [],
   "source": [
    "from typing import List\n",
    "\n",
    "def checkIfExist(arr: List[int]) -> bool:\n",
    "\n",
    "    temp_arr = arr[:]\n",
    "\n",
    "    for i in arr:\n",
    "        temp_arr.remove(i)\n",
    "\n",
    "        a = [i == j*2 for j in temp_arr]\n",
    "        if True in a:\n",
    "            return True\n",
    "        else:\n",
    "            temp_arr = arr[:]\n",
    "\n",
    "    return False"
   ]
  },
  {
   "cell_type": "code",
   "execution_count": 76,
   "id": "72ed39c5",
   "metadata": {
    "ExecuteTime": {
     "end_time": "2023-02-26T12:22:09.575037Z",
     "start_time": "2023-02-26T12:22:09.570721Z"
    }
   },
   "outputs": [
    {
     "name": "stdout",
     "output_type": "stream",
     "text": [
      "True =True\n",
      "True =True\n",
      "False =False\n",
      "True =True\n"
     ]
    }
   ],
   "source": [
    "print(checkIfExist([0,0]), \"=True\")\n",
    "print(checkIfExist([10,2,5,3]), \"=True\")\n",
    "print(checkIfExist([3,1,7,11]), \"=False\")\n",
    "print(checkIfExist([7,1,14,11]), \"=True\")"
   ]
  },
  {
   "cell_type": "markdown",
   "id": "1b8df22a",
   "metadata": {
    "ExecuteTime": {
     "end_time": "2023-02-26T12:15:00.314247Z",
     "start_time": "2023-02-26T12:15:00.310536Z"
    }
   },
   "source": [
    "# Solution #2\n",
    "<hr style = \"border:2px solid black\" ></hr>"
   ]
  },
  {
   "cell_type": "code",
   "execution_count": 72,
   "id": "ea10c9b1",
   "metadata": {
    "ExecuteTime": {
     "end_time": "2023-02-26T12:19:34.383813Z",
     "start_time": "2023-02-26T12:19:34.380775Z"
    }
   },
   "outputs": [],
   "source": [
    "def checkIfExist(A: List[int]) -> bool:\n",
    "    if A.count(0) > 1:\n",
    "        return True\n",
    "    S = set(A) - {0}\n",
    "    for a in A:\n",
    "        if 2*a in A:\n",
    "            return True\n",
    "    return False"
   ]
  },
  {
   "cell_type": "code",
   "execution_count": 74,
   "id": "af481027",
   "metadata": {
    "ExecuteTime": {
     "end_time": "2023-02-26T12:22:00.538073Z",
     "start_time": "2023-02-26T12:22:00.533635Z"
    }
   },
   "outputs": [
    {
     "name": "stdout",
     "output_type": "stream",
     "text": [
      "True =True\n",
      "True =True\n",
      "True =True\n",
      "False =False\n",
      "True =True\n"
     ]
    }
   ],
   "source": [
    "print(checkIfExist([0,0]), \"=True\")\n",
    "print(checkIfExist([10,5]), \"=True\")\n",
    "print(checkIfExist([10,2,5,3]), \"=True\")\n",
    "print(checkIfExist([3,1,7,11]), \"=False\")\n",
    "print(checkIfExist([7,1,14,11]), \"=True\")"
   ]
  },
  {
   "cell_type": "markdown",
   "id": "2c286f67",
   "metadata": {},
   "source": [
    "# References\n",
    "<hr style = \"border:2px solid black\" ></hr>"
   ]
  },
  {
   "cell_type": "markdown",
   "id": "0402c0e4",
   "metadata": {},
   "source": [
    "<div class=\"alert alert-warning\">\n",
    "<font color=black>\n",
    "\n",
    "- https://leetcode.com\n",
    "    \n",
    "</font>\n",
    "</div>"
   ]
  },
  {
   "cell_type": "code",
   "execution_count": null,
   "id": "94a8e65c",
   "metadata": {},
   "outputs": [],
   "source": []
  }
 ],
 "metadata": {
  "kernelspec": {
   "display_name": "trainingAI",
   "language": "python",
   "name": "trainingai"
  },
  "language_info": {
   "codemirror_mode": {
    "name": "ipython",
    "version": 3
   },
   "file_extension": ".py",
   "mimetype": "text/x-python",
   "name": "python",
   "nbconvert_exporter": "python",
   "pygments_lexer": "ipython3",
   "version": "3.9.7"
  },
  "toc": {
   "base_numbering": 1,
   "nav_menu": {},
   "number_sections": true,
   "sideBar": true,
   "skip_h1_title": false,
   "title_cell": "Table of Contents",
   "title_sidebar": "Contents",
   "toc_cell": true,
   "toc_position": {
    "height": "calc(100% - 180px)",
    "left": "10px",
    "top": "150px",
    "width": "222px"
   },
   "toc_section_display": true,
   "toc_window_display": true
  },
  "varInspector": {
   "cols": {
    "lenName": 16,
    "lenType": 16,
    "lenVar": 40
   },
   "kernels_config": {
    "python": {
     "delete_cmd_postfix": "",
     "delete_cmd_prefix": "del ",
     "library": "var_list.py",
     "varRefreshCmd": "print(var_dic_list())"
    },
    "r": {
     "delete_cmd_postfix": ") ",
     "delete_cmd_prefix": "rm(",
     "library": "var_list.r",
     "varRefreshCmd": "cat(var_dic_list()) "
    }
   },
   "types_to_exclude": [
    "module",
    "function",
    "builtin_function_or_method",
    "instance",
    "_Feature"
   ],
   "window_display": false
  }
 },
 "nbformat": 4,
 "nbformat_minor": 5
}
