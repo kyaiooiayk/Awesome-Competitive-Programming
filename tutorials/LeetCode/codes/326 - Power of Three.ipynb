{
 "cells": [
  {
   "cell_type": "markdown",
   "id": "2459ed2a",
   "metadata": {
    "toc": true
   },
   "source": [
    "<h1>Table of Contents<span class=\"tocSkip\"></span></h1>\n",
    "<div class=\"toc\"><ul class=\"toc-item\"><li><span><a href=\"#Description\" data-toc-modified-id=\"Description-1\"><span class=\"toc-item-num\">1&nbsp;&nbsp;</span>Description</a></span></li><li><span><a href=\"#Start-up-code\" data-toc-modified-id=\"Start-up-code-2\"><span class=\"toc-item-num\">2&nbsp;&nbsp;</span>Start-up code</a></span></li><li><span><a href=\"#Comment---think-before-coding!\" data-toc-modified-id=\"Comment---think-before-coding!-3\"><span class=\"toc-item-num\">3&nbsp;&nbsp;</span>Comment - think before coding!</a></span></li><li><span><a href=\"#Solution-#1\" data-toc-modified-id=\"Solution-#1-4\"><span class=\"toc-item-num\">4&nbsp;&nbsp;</span>Solution #1</a></span></li><li><span><a href=\"#Key-concepts\" data-toc-modified-id=\"Key-concepts-5\"><span class=\"toc-item-num\">5&nbsp;&nbsp;</span>Key concepts</a></span></li><li><span><a href=\"#References\" data-toc-modified-id=\"References-6\"><span class=\"toc-item-num\">6&nbsp;&nbsp;</span>References</a></span></li></ul></div>"
   ]
  },
  {
   "cell_type": "markdown",
   "id": "40965ce3",
   "metadata": {},
   "source": [
    "# Description\n",
    "<hr style = \"border:2px solid black\" ></hr>"
   ]
  },
  {
   "cell_type": "markdown",
   "id": "01bf5828",
   "metadata": {},
   "source": [
    "<div class=\"alert alert-warning\">\n",
    "<font color=black>\n",
    "\n",
    "- Given an integer n, return true if it is a power of three. Otherwise, return false.\n",
    "- An integer `n` is a power of three, if there exists an integer `x` such that `n == 3^x`.\n",
    "\n",
    "```\n",
    "# Example 1:\n",
    "Input: n = 27\n",
    "Output: true\n",
    "Explanation: 27 = 3^3\n",
    "\n",
    "# Example 2:\n",
    "Input: n = 0\n",
    "Output: false\n",
    "Explanation: There is no x where 3^x = 0.\n",
    "\n",
    "# Example 3:\n",
    "Input: n = -1\n",
    "Output: false\n",
    "Explanation: There is no x where 3^x = -1.\n",
    "```\n",
    "\n",
    "</font>\n",
    "</div>"
   ]
  },
  {
   "cell_type": "markdown",
   "id": "f1daac75",
   "metadata": {},
   "source": [
    "# Start-up code\n",
    "<hr style = \"border:2px solid black\" ></hr>"
   ]
  },
  {
   "cell_type": "code",
   "execution_count": 28,
   "id": "cf0c5e3e",
   "metadata": {
    "ExecuteTime": {
     "end_time": "2023-02-25T11:18:45.954610Z",
     "start_time": "2023-02-25T11:18:45.950726Z"
    }
   },
   "outputs": [
    {
     "name": "stdout",
     "output_type": "stream",
     "text": [
      "None =True\n",
      "None =False\n",
      "None =False\n",
      "None =True\n"
     ]
    }
   ],
   "source": [
    "def isPowerOfThree(n: int) -> bool:\n",
    "    return None\n",
    "\n",
    "print(isPowerOfThree(27), \"=True\")\n",
    "print(isPowerOfThree(0), \"=False\")\n",
    "print(isPowerOfThree(-1), \"=False\")\n",
    "print(isPowerOfThree(243), \"=True\")"
   ]
  },
  {
   "cell_type": "markdown",
   "id": "9c423446",
   "metadata": {},
   "source": [
    "# Comment - think before coding!\n",
    "<hr style = \"border:2px solid black\" ></hr>"
   ]
  },
  {
   "cell_type": "markdown",
   "id": "f208f584",
   "metadata": {},
   "source": [
    "<div class=\"alert alert-info\">\n",
    "<font color=black>\n",
    "\n",
    "- None\n",
    "    \n",
    "</font>\n",
    "</div>"
   ]
  },
  {
   "cell_type": "markdown",
   "id": "df100eae",
   "metadata": {},
   "source": [
    "# Solution #1\n",
    "<hr style = \"border:2px solid black\" ></hr>"
   ]
  },
  {
   "cell_type": "markdown",
   "id": "17eca1e7",
   "metadata": {
    "ExecuteTime": {
     "end_time": "2023-02-25T11:20:49.479055Z",
     "start_time": "2023-02-25T11:20:49.475487Z"
    }
   },
   "source": [
    "<div class=\"alert alert-info\">\n",
    "<font color=black>\n",
    "\n",
    "- if we use `math.log(243.0, 3.0)` this will returns 4.99999 while we know the answer if `5`. For this reason the solution would not be robust.\n",
    "- Another alternative would be to compute the representation in base `3` and if this is the case then the representation would always be `1000000....`\n",
    "\n",
    "</font>\n",
    "</div>"
   ]
  },
  {
   "cell_type": "code",
   "execution_count": 276,
   "id": "ec760e88",
   "metadata": {
    "ExecuteTime": {
     "end_time": "2023-02-25T12:17:40.313476Z",
     "start_time": "2023-02-25T12:17:40.310042Z"
    }
   },
   "outputs": [
    {
     "name": "stdout",
     "output_type": "stream",
     "text": [
      "3 10\n",
      "27 1000\n",
      "243 100000\n",
      "45 1200\n",
      "19684 1000000001\n"
     ]
    }
   ],
   "source": [
    "for i in [3, 27, 243, 45, 19684]:\n",
    "    print(i, np.base_repr(i, base=3))"
   ]
  },
  {
   "cell_type": "code",
   "execution_count": 273,
   "id": "829e2282",
   "metadata": {
    "ExecuteTime": {
     "end_time": "2023-02-25T12:16:43.331079Z",
     "start_time": "2023-02-25T12:16:43.327797Z"
    }
   },
   "outputs": [],
   "source": [
    "def isPowerOfThree(n: int) -> bool:\n",
    "\n",
    "    a = list(np.base_repr(n, base=3))\n",
    "\n",
    "    if n < 0 or n == 0:\n",
    "        return False\n",
    "    else:\n",
    "        return a[0] == '1' and False not in [i == '0' for i in a[1:]]"
   ]
  },
  {
   "cell_type": "code",
   "execution_count": 280,
   "id": "92ac2e13",
   "metadata": {
    "ExecuteTime": {
     "end_time": "2023-02-25T12:19:31.563714Z",
     "start_time": "2023-02-25T12:19:31.558616Z"
    }
   },
   "outputs": [
    {
     "name": "stdout",
     "output_type": "stream",
     "text": [
      "True =True\n",
      "True =True\n",
      "False =False\n",
      "False =False\n",
      "True =True\n",
      "True =True\n",
      "False =False\n",
      "True =True\n",
      "False =False\n"
     ]
    }
   ],
   "source": [
    "print(isPowerOfThree(27), \"=True\")\n",
    "print(isPowerOfThree(27), \"=True\")\n",
    "print(isPowerOfThree(0), \"=False\")\n",
    "print(isPowerOfThree(-1), \"=False\")\n",
    "print(isPowerOfThree(1), \"=True\")\n",
    "print(isPowerOfThree(243), \"=True\")\n",
    "print(isPowerOfThree(45), \"=False\")\n",
    "print(isPowerOfThree(1), \"=True\")\n",
    "print(isPowerOfThree(19684), \"=False\")"
   ]
  },
  {
   "cell_type": "markdown",
   "id": "3224af2e",
   "metadata": {},
   "source": [
    "# Key concepts\n",
    "<hr style = \"border:2px solid black\" ></hr>"
   ]
  },
  {
   "cell_type": "markdown",
   "id": "bdb81a56",
   "metadata": {
    "ExecuteTime": {
     "end_time": "2023-02-23T07:52:51.400103Z",
     "start_time": "2023-02-23T07:52:51.396419Z"
    }
   },
   "source": [
    "<div class=\"alert alert-danger\">\n",
    "<font color=black>\n",
    "\n",
    "- `np.base_repr(number, base=int)`\n",
    "    \n",
    "</font>\n",
    "</div>"
   ]
  },
  {
   "cell_type": "markdown",
   "id": "2c286f67",
   "metadata": {},
   "source": [
    "# References\n",
    "<hr style = \"border:2px solid black\" ></hr>"
   ]
  },
  {
   "cell_type": "markdown",
   "id": "0402c0e4",
   "metadata": {},
   "source": [
    "<div class=\"alert alert-warning\">\n",
    "<font color=black>\n",
    "\n",
    "- https://leetcode.com\n",
    "- [Depth First Search or DFS for a Graph](https://www.geeksforgeeks.org/depth-first-search-or-dfs-for-a-graph/)\n",
    "    \n",
    "</font>\n",
    "</div>"
   ]
  },
  {
   "cell_type": "code",
   "execution_count": null,
   "id": "94a8e65c",
   "metadata": {},
   "outputs": [],
   "source": []
  }
 ],
 "metadata": {
  "kernelspec": {
   "display_name": "trainingAI",
   "language": "python",
   "name": "trainingai"
  },
  "language_info": {
   "codemirror_mode": {
    "name": "ipython",
    "version": 3
   },
   "file_extension": ".py",
   "mimetype": "text/x-python",
   "name": "python",
   "nbconvert_exporter": "python",
   "pygments_lexer": "ipython3",
   "version": "3.9.7"
  },
  "toc": {
   "base_numbering": 1,
   "nav_menu": {},
   "number_sections": true,
   "sideBar": true,
   "skip_h1_title": false,
   "title_cell": "Table of Contents",
   "title_sidebar": "Contents",
   "toc_cell": true,
   "toc_position": {
    "height": "calc(100% - 180px)",
    "left": "10px",
    "top": "150px",
    "width": "222px"
   },
   "toc_section_display": true,
   "toc_window_display": true
  },
  "varInspector": {
   "cols": {
    "lenName": 16,
    "lenType": 16,
    "lenVar": 40
   },
   "kernels_config": {
    "python": {
     "delete_cmd_postfix": "",
     "delete_cmd_prefix": "del ",
     "library": "var_list.py",
     "varRefreshCmd": "print(var_dic_list())"
    },
    "r": {
     "delete_cmd_postfix": ") ",
     "delete_cmd_prefix": "rm(",
     "library": "var_list.r",
     "varRefreshCmd": "cat(var_dic_list()) "
    }
   },
   "types_to_exclude": [
    "module",
    "function",
    "builtin_function_or_method",
    "instance",
    "_Feature"
   ],
   "window_display": false
  }
 },
 "nbformat": 4,
 "nbformat_minor": 5
}
