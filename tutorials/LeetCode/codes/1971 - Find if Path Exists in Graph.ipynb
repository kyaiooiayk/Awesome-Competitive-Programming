{
 "cells": [
  {
   "cell_type": "markdown",
   "id": "2459ed2a",
   "metadata": {
    "toc": true
   },
   "source": [
    "<h1>Table of Contents<span class=\"tocSkip\"></span></h1>\n",
    "<div class=\"toc\"><ul class=\"toc-item\"><li><span><a href=\"#Description\" data-toc-modified-id=\"Description-1\"><span class=\"toc-item-num\">1&nbsp;&nbsp;</span>Description</a></span></li><li><span><a href=\"#Start-up-code\" data-toc-modified-id=\"Start-up-code-2\"><span class=\"toc-item-num\">2&nbsp;&nbsp;</span>Start-up code</a></span></li><li><span><a href=\"#Comment---think-before-coding!\" data-toc-modified-id=\"Comment---think-before-coding!-3\"><span class=\"toc-item-num\">3&nbsp;&nbsp;</span>Comment - think before coding!</a></span></li><li><span><a href=\"#Solution-#1\" data-toc-modified-id=\"Solution-#1-4\"><span class=\"toc-item-num\">4&nbsp;&nbsp;</span>Solution #1</a></span></li><li><span><a href=\"#Solution-#2\" data-toc-modified-id=\"Solution-#2-5\"><span class=\"toc-item-num\">5&nbsp;&nbsp;</span>Solution #2</a></span></li><li><span><a href=\"#Solution-#3\" data-toc-modified-id=\"Solution-#3-6\"><span class=\"toc-item-num\">6&nbsp;&nbsp;</span>Solution #3</a></span></li><li><span><a href=\"#Key-concepts\" data-toc-modified-id=\"Key-concepts-7\"><span class=\"toc-item-num\">7&nbsp;&nbsp;</span>Key concepts</a></span></li><li><span><a href=\"#References\" data-toc-modified-id=\"References-8\"><span class=\"toc-item-num\">8&nbsp;&nbsp;</span>References</a></span></li></ul></div>"
   ]
  },
  {
   "cell_type": "markdown",
   "id": "40965ce3",
   "metadata": {},
   "source": [
    "# Description\n",
    "<hr style = \"border:2px solid black\" ></hr>"
   ]
  },
  {
   "cell_type": "markdown",
   "id": "01bf5828",
   "metadata": {},
   "source": [
    "<div class=\"alert alert-warning\">\n",
    "<font color=black>\n",
    "\n",
    "- There is a bi-directional graph with n vertices, where each vertex is labeled from `0` to `n - 1` (inclusive). \n",
    "- The edges in the graph are represented as a 2D integer array edges, where each `edges[i] = [u_i, v_i]` denotes a bi-directional edge between vertex `u_i` and vertex `v_i`. Every vertex pair is connected by at most one edge, and no vertex has an edge to itself.\n",
    "- You want to determine if there is a valid path that exists from vertex source to vertex destination.\n",
    "- Given edges and the integers `n`, `source`, and `destination`, return `True` if there is a valid path from source to destination, or `False` otherwise.\n",
    " \n",
    "</font>\n",
    "</div>"
   ]
  },
  {
   "attachments": {
    "image.png": {
     "image/png": "[encoded data removed]"
    }
   },
   "cell_type": "markdown",
   "id": "08ed1cf8",
   "metadata": {
    "cell_style": "split"
   },
   "source": [
    "![image.png](attachment:image.png)"
   ]
  },
  {
   "cell_type": "markdown",
   "id": "cb29388f",
   "metadata": {
    "ExecuteTime": {
     "end_time": "2023-02-22T15:28:09.375347Z",
     "start_time": "2023-02-22T15:28:09.370787Z"
    },
    "cell_style": "split"
   },
   "source": [
    "<div class=\"alert alert-warning\">\n",
    "<font color=black>\n",
    "\n",
    "- Input: n = 3\n",
    "- edges = [[0,1],[1,2],[2,0]]\n",
    "- source = 0\n",
    "- destination = 2\n",
    "- Output: true\n",
    "- Explanation: There are two paths from vertex 0 to vertex 2:\n",
    "\n",
    "```\n",
    "- 0 → 1 → 2\n",
    "- 0 → 2\n",
    "```\n",
    "</font>\n",
    "</div>"
   ]
  },
  {
   "cell_type": "markdown",
   "id": "8b656029",
   "metadata": {
    "cell_style": "split"
   },
   "source": [
    "<div class=\"alert alert-warning\">\n",
    "<font color=black>\n",
    "\n",
    "- Input: n = 6\n",
    "- edges = [[0,1],[0,2],[3,5],[5,4],[4,3]]\n",
    "- source = 0\n",
    "- destination = 5\n",
    "- Output: false\n",
    "- Explanation: There is no path from vertex 0 to vertex 5.\n",
    "\n",
    "</font>\n",
    "</div>"
   ]
  },
  {
   "attachments": {
    "image.png": {
     "image/png": "[encoded data removed]"
    }
   },
   "cell_type": "markdown",
   "id": "94ad07f3",
   "metadata": {
    "cell_style": "split"
   },
   "source": [
    "![image.png](attachment:image.png)"
   ]
  },
  {
   "cell_type": "markdown",
   "id": "f1daac75",
   "metadata": {},
   "source": [
    "# Start-up code\n",
    "<hr style = \"border:2px solid black\" ></hr>"
   ]
  },
  {
   "cell_type": "code",
   "execution_count": 16,
   "id": "cf0c5e3e",
   "metadata": {
    "ExecuteTime": {
     "end_time": "2023-02-22T15:45:25.182953Z",
     "start_time": "2023-02-22T15:45:25.178487Z"
    }
   },
   "outputs": [
    {
     "name": "stdout",
     "output_type": "stream",
     "text": [
      "None Expected=True\n",
      "None Expected=False\n"
     ]
    }
   ],
   "source": [
    "from typing import List\n",
    "\n",
    "\n",
    "def validPath(n: int, edges: List[List[int]], source: int, destination: int) -> bool:\n",
    "\n",
    "    return None\n",
    "\n",
    "print(validPath(5, [[0, 4]], 0, 4), \"Expected=True\")\n",
    "print(validPath(3, [[0, 1], [1, 2], [2, 0]], 0, 2), \"Expected=True\")\n",
    "print(validPath(6, [[0, 1], [0, 2], [3, 5], [\n",
    "      5, 4], [4, 3]], 0, 5), \"Expected=False\")"
   ]
  },
  {
   "cell_type": "markdown",
   "id": "9c423446",
   "metadata": {},
   "source": [
    "# Comment - think before coding!\n",
    "<hr style = \"border:2px solid black\" ></hr>"
   ]
  },
  {
   "cell_type": "markdown",
   "id": "f208f584",
   "metadata": {},
   "source": [
    "<div class=\"alert alert-info\">\n",
    "<font color=black>\n",
    "\n",
    "- There are `n` vertices, where each vertex is labeled from `0` to `n - 1` (inclusive). However, there is no guarantee that there is not gap between `0` and `n-1`.\n",
    "- A valid path here means that we go from source to destination by a any step, so assuming the `step=1`, would not be correct.\n",
    "    \n",
    "</font>\n",
    "</div>"
   ]
  },
  {
   "cell_type": "markdown",
   "id": "df100eae",
   "metadata": {},
   "source": [
    "# Solution #1\n",
    "<hr style = \"border:2px solid black\" ></hr>"
   ]
  },
  {
   "cell_type": "markdown",
   "id": "189e09bf",
   "metadata": {
    "ExecuteTime": {
     "end_time": "2023-02-22T20:48:26.973292Z",
     "start_time": "2023-02-22T20:48:26.968833Z"
    }
   },
   "source": [
    "<div class=\"alert alert-info\">\n",
    "<font color=black>\n",
    "\n",
    "- **Stack** was last-in first-out.\n",
    "- **Queue** is the opposite of stack, meaning first-in first-out.\n",
    "- List are not **efficiently** used as a queue, because all the other elements have to be shifted by one.\n",
    "- To implement a queue use `collections.deque` which was designed to have fast append and pops from both ends.\n",
    "- **HOWEVER this will exceed the leetcod time limit!**.\n",
    "    \n",
    "</font>\n",
    "</div>"
   ]
  },
  {
   "cell_type": "code",
   "execution_count": 138,
   "id": "280e523a",
   "metadata": {
    "ExecuteTime": {
     "end_time": "2023-02-22T20:52:35.427616Z",
     "start_time": "2023-02-22T20:52:35.422334Z"
    }
   },
   "outputs": [],
   "source": [
    "from typing import List\n",
    "from collections import deque\n",
    "\n",
    "\n",
    "def validPath(n: int, edges: List[List[int]], source: int, destination: int) -> bool:\n",
    "\n",
    "    # Create a dictionary to store the adjacency list for each vertex\n",
    "    adj_list = {}\n",
    "    for u, v in edges:\n",
    "        if u in adj_list:\n",
    "            adj_list[u].append(v)\n",
    "        else:\n",
    "            adj_list[u] = [v]\n",
    "        if v in adj_list:\n",
    "            adj_list[v].append(u)\n",
    "        else:\n",
    "            adj_list[v] = [u]\n",
    "\n",
    "    # Initialize a queue and a set to store visited vertices\n",
    "    queue = deque([source])\n",
    "\n",
    "    visited = set()\n",
    "\n",
    "    # Perform BFS\n",
    "    while queue:\n",
    "        vertex = queue.popleft()\n",
    "\n",
    "        if vertex == destination:\n",
    "            return True\n",
    "\n",
    "        # Add to visited set\n",
    "        visited.add(vertex)\n",
    "\n",
    "        for neighbor in adj_list[vertex]:\n",
    "            if neighbor not in visited:\n",
    "                queue.append(neighbor)\n",
    "\n",
    "    # Return false if the destination is not reached\n",
    "    return False"
   ]
  },
  {
   "cell_type": "code",
   "execution_count": 139,
   "id": "29dd2dbe",
   "metadata": {
    "ExecuteTime": {
     "end_time": "2023-02-22T20:52:35.783485Z",
     "start_time": "2023-02-22T20:52:35.780126Z"
    },
    "scrolled": true
   },
   "outputs": [
    {
     "name": "stdout",
     "output_type": "stream",
     "text": [
      "True Expected=True\n"
     ]
    }
   ],
   "source": [
    "print(validPath(10, [[4, 3], [1, 4], [4, 8], [1, 7], [6, 4], [\n",
    "      4, 2], [7, 4], [4, 0], [0, 9], [5, 4]], 5, 9), \"Expected=True\")"
   ]
  },
  {
   "cell_type": "code",
   "execution_count": 140,
   "id": "8dde41e2",
   "metadata": {
    "ExecuteTime": {
     "end_time": "2023-02-22T20:52:37.596410Z",
     "start_time": "2023-02-22T20:52:37.593523Z"
    }
   },
   "outputs": [
    {
     "name": "stdout",
     "output_type": "stream",
     "text": [
      "True Expected=True\n"
     ]
    }
   ],
   "source": [
    "print(validPath(5, [[0, 4]], 0, 4), \"Expected=True\")"
   ]
  },
  {
   "cell_type": "code",
   "execution_count": 141,
   "id": "55a86585",
   "metadata": {
    "ExecuteTime": {
     "end_time": "2023-02-22T20:52:39.229233Z",
     "start_time": "2023-02-22T20:52:39.226083Z"
    }
   },
   "outputs": [
    {
     "name": "stdout",
     "output_type": "stream",
     "text": [
      "True Expected=True\n"
     ]
    }
   ],
   "source": [
    "print(validPath(3, [[0, 1], [1, 2], [2, 0]], 0, 2), \"Expected=True\")"
   ]
  },
  {
   "cell_type": "code",
   "execution_count": 142,
   "id": "eae87918",
   "metadata": {
    "ExecuteTime": {
     "end_time": "2023-02-22T20:52:40.695175Z",
     "start_time": "2023-02-22T20:52:40.692155Z"
    }
   },
   "outputs": [
    {
     "name": "stdout",
     "output_type": "stream",
     "text": [
      "False Expected=False\n"
     ]
    }
   ],
   "source": [
    "print(validPath(6, [[0, 1], [0, 2], [3, 5], [\n",
    "      5, 4], [4, 3]], 0, 5), \"Expected=False\")"
   ]
  },
  {
   "cell_type": "markdown",
   "id": "3a14b3d1",
   "metadata": {
    "ExecuteTime": {
     "end_time": "2023-02-22T20:39:36.403797Z",
     "start_time": "2023-02-22T20:39:36.399996Z"
    }
   },
   "source": [
    "# Solution #2\n",
    "<hr style = \"border:2px solid black\" ></hr>"
   ]
  },
  {
   "cell_type": "markdown",
   "id": "d5c22b6b",
   "metadata": {
    "ExecuteTime": {
     "end_time": "2023-02-22T20:42:26.537795Z",
     "start_time": "2023-02-22T20:42:26.534409Z"
    }
   },
   "source": [
    "<div class=\"alert alert-info\">\n",
    "<font color=black>\n",
    "\n",
    "- This solution does not use `deque` and although it works is less efficient than solution #1.\n",
    "- What is really conveninet is how `popleft()` efficiently remove the fist element of the queue and how it return the popped element.\n",
    "- **HOWEVER this will exceed the leetcod time limit!**.\n",
    "    \n",
    "</font>\n",
    "</div>"
   ]
  },
  {
   "cell_type": "code",
   "execution_count": 128,
   "id": "f813151c",
   "metadata": {
    "ExecuteTime": {
     "end_time": "2023-02-22T20:51:44.512704Z",
     "start_time": "2023-02-22T20:51:44.507105Z"
    }
   },
   "outputs": [],
   "source": [
    "from typing import List\n",
    "from collections import deque\n",
    "\n",
    "\n",
    "def validPath(n: int, edges: List[List[int]], source: int, destination: int) -> bool:\n",
    "\n",
    "    # Create a dictionary to store the adjacency list for each vertex\n",
    "    adj_list = {}\n",
    "    for u, v in edges:\n",
    "        if u in adj_list:\n",
    "            adj_list[u].append(v)\n",
    "        else:\n",
    "            adj_list[u] = [v]\n",
    "        if v in adj_list:\n",
    "            adj_list[v].append(u)\n",
    "        else:\n",
    "            adj_list[v] = [u]\n",
    "\n",
    "    # Initialize a queue and a set to store visited vertices\n",
    "    #queue = deque([source])\n",
    "    queue = [source]\n",
    "\n",
    "    visited = set()\n",
    "\n",
    "    # Perform BFS\n",
    "    while queue:\n",
    "\n",
    "        # Get the first element of the list\n",
    "        vertex = queue[0]\n",
    "        # Resave the list but do not consider the fist element\n",
    "        queue = queue[1:]\n",
    "\n",
    "        if vertex == destination:\n",
    "            return True\n",
    "\n",
    "        # Add to visited set\n",
    "        visited.add(vertex)\n",
    "\n",
    "        for neighbor in adj_list[vertex]:\n",
    "            if neighbor not in visited:\n",
    "                # Adding to the list\n",
    "                queue.append(neighbor)\n",
    "\n",
    "    # Return false if the destination is not reached\n",
    "    return False"
   ]
  },
  {
   "cell_type": "code",
   "execution_count": 129,
   "id": "23941680",
   "metadata": {
    "ExecuteTime": {
     "end_time": "2023-02-22T20:51:44.787332Z",
     "start_time": "2023-02-22T20:51:44.783822Z"
    }
   },
   "outputs": [
    {
     "name": "stdout",
     "output_type": "stream",
     "text": [
      "True Expected=True\n"
     ]
    }
   ],
   "source": [
    "print(validPath(10, [[4, 3], [1, 4], [4, 8], [1, 7], [6, 4], [\n",
    "      4, 2], [7, 4], [4, 0], [0, 9], [5, 4]], 5, 9), \"Expected=True\")\n"
   ]
  },
  {
   "cell_type": "markdown",
   "id": "29410d17",
   "metadata": {},
   "source": [
    "# Solution #3\n",
    "<hr style = \"border:2px solid black\" ></hr>"
   ]
  },
  {
   "cell_type": "markdown",
   "id": "c2dadbb2",
   "metadata": {},
   "source": [
    "<div class=\"alert alert-info\">\n",
    "<font color=black>\n",
    "\n",
    "- **Depth-first search (DFS)** is an algorithm for traversing or searching tree or graph data structures. The algorithm starts at the root node (selecting some arbitrary node as the root node in the case of a graph) and explores as far as possible along each branch before backtracking. \n",
    "\n",
    "- So the basic idea is to start from the root or any arbitrary node and mark the node and move to the adjacent unmarked node and continue this loop until there is no unmarked adjacent node. Then backtrack and check for other unmarked nodes and traverse them. Finally, print the nodes in the path.\n",
    "\n",
    "- This implementation has passed the LeetCode autograder.\n",
    "\n",
    "</font>\n",
    "</div>"
   ]
  },
  {
   "cell_type": "code",
   "execution_count": 145,
   "id": "34841fc4",
   "metadata": {
    "ExecuteTime": {
     "end_time": "2023-02-22T21:02:51.975922Z",
     "start_time": "2023-02-22T21:02:51.971317Z"
    }
   },
   "outputs": [],
   "source": [
    "from typing import List\n",
    "from collections import deque\n",
    "from collections import defaultdict\n",
    "\n",
    "def validPath(n: int, edges: List[List[int]], source: int, destination: int) -> bool:\n",
    "    \n",
    "    tree = defaultdict(set)\n",
    "    for u,v in edges:\n",
    "        tree[u].add(v)\n",
    "        tree[v].add(u)\n",
    "    \n",
    "    # Define a set, automatically delete duplicated\n",
    "    seen = {source}\n",
    "    # Define a stack - last in first out\n",
    "    stack = [source]\n",
    "    \n",
    "    while stack:\n",
    "        v = stack.pop()\n",
    "        if v == destination:\n",
    "            return True\n",
    "        for u in tree[v]:\n",
    "            if u not in seen:\n",
    "                seen.add(u)\n",
    "                stack.append(u)\n",
    "    return False"
   ]
  },
  {
   "cell_type": "code",
   "execution_count": 146,
   "id": "94b14afd",
   "metadata": {
    "ExecuteTime": {
     "end_time": "2023-02-22T21:02:52.408613Z",
     "start_time": "2023-02-22T21:02:52.405500Z"
    }
   },
   "outputs": [
    {
     "name": "stdout",
     "output_type": "stream",
     "text": [
      "True Expected=True\n"
     ]
    }
   ],
   "source": [
    "print(validPath(10, [[4, 3], [1, 4], [4, 8], [1, 7], [6, 4], [\n",
    "      4, 2], [7, 4], [4, 0], [0, 9], [5, 4]], 5, 9), \"Expected=True\")"
   ]
  },
  {
   "cell_type": "markdown",
   "id": "3224af2e",
   "metadata": {},
   "source": [
    "# Key concepts\n",
    "<hr style = \"border:2px solid black\" ></hr>"
   ]
  },
  {
   "cell_type": "markdown",
   "id": "bdb81a56",
   "metadata": {
    "ExecuteTime": {
     "end_time": "2023-02-23T07:52:51.400103Z",
     "start_time": "2023-02-23T07:52:51.396419Z"
    }
   },
   "source": [
    "<div class=\"alert alert-danger\">\n",
    "<font color=black>\n",
    "\n",
    "- Default dictionary\n",
    "- Queue and stack\n",
    "- DFS = Depth-First Search \n",
    "    \n",
    "</font>\n",
    "</div>"
   ]
  },
  {
   "cell_type": "markdown",
   "id": "2c286f67",
   "metadata": {},
   "source": [
    "# References\n",
    "<hr style = \"border:2px solid black\" ></hr>"
   ]
  },
  {
   "cell_type": "markdown",
   "id": "0402c0e4",
   "metadata": {},
   "source": [
    "<div class=\"alert alert-warning\">\n",
    "<font color=black>\n",
    "\n",
    "- https://leetcode.com\n",
    "- [Depth First Search or DFS for a Graph](https://www.geeksforgeeks.org/depth-first-search-or-dfs-for-a-graph/)\n",
    "    \n",
    "</font>\n",
    "</div>"
   ]
  },
  {
   "cell_type": "code",
   "execution_count": null,
   "id": "94a8e65c",
   "metadata": {},
   "outputs": [],
   "source": []
  }
 ],
 "metadata": {
  "kernelspec": {
   "display_name": "trainingAI",
   "language": "python",
   "name": "trainingai"
  },
  "language_info": {
   "codemirror_mode": {
    "name": "ipython",
    "version": 3
   },
   "file_extension": ".py",
   "mimetype": "text/x-python",
   "name": "python",
   "nbconvert_exporter": "python",
   "pygments_lexer": "ipython3",
   "version": "3.9.7"
  },
  "toc": {
   "base_numbering": 1,
   "nav_menu": {},
   "number_sections": true,
   "sideBar": true,
   "skip_h1_title": false,
   "title_cell": "Table of Contents",
   "title_sidebar": "Contents",
   "toc_cell": true,
   "toc_position": {
    "height": "calc(100% - 180px)",
    "left": "10px",
    "top": "150px",
    "width": "222px"
   },
   "toc_section_display": true,
   "toc_window_display": true
  },
  "varInspector": {
   "cols": {
    "lenName": 16,
    "lenType": 16,
    "lenVar": 40
   },
   "kernels_config": {
    "python": {
     "delete_cmd_postfix": "",
     "delete_cmd_prefix": "del ",
     "library": "var_list.py",
     "varRefreshCmd": "print(var_dic_list())"
    },
    "r": {
     "delete_cmd_postfix": ") ",
     "delete_cmd_prefix": "rm(",
     "library": "var_list.r",
     "varRefreshCmd": "cat(var_dic_list()) "
    }
   },
   "types_to_exclude": [
    "module",
    "function",
    "builtin_function_or_method",
    "instance",
    "_Feature"
   ],
   "window_display": false
  }
 },
 "nbformat": 4,
 "nbformat_minor": 5
}
