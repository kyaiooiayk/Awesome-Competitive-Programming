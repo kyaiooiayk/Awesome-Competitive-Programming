{
 "cells": [
  {
   "cell_type": "markdown",
   "id": "2459ed2a",
   "metadata": {
    "toc": true
   },
   "source": [
    "<h1>Table of Contents<span class=\"tocSkip\"></span></h1>\n",
    "<div class=\"toc\"><ul class=\"toc-item\"><li><span><a href=\"#Description\" data-toc-modified-id=\"Description-1\"><span class=\"toc-item-num\">1&nbsp;&nbsp;</span>Description</a></span></li><li><span><a href=\"#Start-up-code\" data-toc-modified-id=\"Start-up-code-2\"><span class=\"toc-item-num\">2&nbsp;&nbsp;</span>Start-up code</a></span></li><li><span><a href=\"#Comment---think-before-coding!\" data-toc-modified-id=\"Comment---think-before-coding!-3\"><span class=\"toc-item-num\">3&nbsp;&nbsp;</span>Comment - think before coding!</a></span></li><li><span><a href=\"#Solution-#1\" data-toc-modified-id=\"Solution-#1-4\"><span class=\"toc-item-num\">4&nbsp;&nbsp;</span>Solution #1</a></span></li><li><span><a href=\"#References\" data-toc-modified-id=\"References-5\"><span class=\"toc-item-num\">5&nbsp;&nbsp;</span>References</a></span></li></ul></div>"
   ]
  },
  {
   "cell_type": "markdown",
   "id": "40965ce3",
   "metadata": {},
   "source": [
    "# Description\n",
    "<hr style = \"border:2px solid black\" ></hr>"
   ]
  },
  {
   "cell_type": "markdown",
   "id": "02523a93",
   "metadata": {},
   "source": [
    "<div class=\"alert alert-warning\">\n",
    "<font color=black>\n",
    "\n",
    "- Given a sorted array of distinct integers and a target value, return the index if the target is found. If not, return the index where it would be if it were inserted in order.\n",
    "- You must write an algorithm with O(log n) runtime complexity.\n",
    "\n",
    "```\n",
    "Example 1:\n",
    "Input: nums = [1,3,5,6], target = 5\n",
    "Output: 2\n",
    "\n",
    "Example 2:\n",
    "Input: nums = [1,3,5,6], target = 2\n",
    "Output: 1\n",
    "\n",
    "Example 3:\n",
    "Input: nums = [1,3,5,6], target = 7\n",
    "Output: 4\n",
    "```\n",
    " \n",
    "</font>\n",
    "</div>"
   ]
  },
  {
   "cell_type": "markdown",
   "id": "f1daac75",
   "metadata": {},
   "source": [
    "# Start-up code\n",
    "<hr style = \"border:2px solid black\" ></hr>"
   ]
  },
  {
   "cell_type": "code",
   "execution_count": 5,
   "id": "cf0c5e3e",
   "metadata": {
    "ExecuteTime": {
     "end_time": "2022-12-21T14:44:59.296548Z",
     "start_time": "2022-12-21T14:44:59.292122Z"
    }
   },
   "outputs": [
    {
     "name": "stdout",
     "output_type": "stream",
     "text": [
      "None Expected=: 2\n",
      "None Expected=: 1\n",
      "None Expected=: 4\n"
     ]
    }
   ],
   "source": [
    "def searchInsert(nums: list[int], target: int) -> int:\n",
    "    return None\n",
    "\n",
    "print(searchInsert([1,3,5,6], 5), \"Expected=: 2\")\n",
    "print(searchInsert([1,3,5,6], 2), \"Expected=: 1\")\n",
    "print(searchInsert([1,3,5,6], 7), \"Expected=: 4\")\n"
   ]
  },
  {
   "cell_type": "markdown",
   "id": "9c423446",
   "metadata": {},
   "source": [
    "# Comment - think before coding!\n",
    "<hr style = \"border:2px solid black\" ></hr>"
   ]
  },
  {
   "cell_type": "markdown",
   "id": "83636a13",
   "metadata": {},
   "source": [
    "<div class=\"alert alert-info\">\n",
    "<font color=black>\n",
    "\n",
    "- **two sorted list give** hence no need to sort the inputs.\n",
    "- The run time complexity is given so a naive implementation that run in O(n) in time, would not work.\n",
    "- Remember that `print(list_a.append())` would return `None` if a number has been added succefully. Use `+` instead.\n",
    "\n",
    "</font>\n",
    "</div>"
   ]
  },
  {
   "cell_type": "markdown",
   "id": "fac0521e",
   "metadata": {},
   "source": [
    "# Solution #1\n",
    "<hr style = \"border:2px solid black\" ></hr>"
   ]
  },
  {
   "cell_type": "code",
   "execution_count": 27,
   "id": "abb8b8d8",
   "metadata": {
    "ExecuteTime": {
     "end_time": "2022-12-21T14:55:29.087693Z",
     "start_time": "2022-12-21T14:55:29.082640Z"
    }
   },
   "outputs": [
    {
     "name": "stdout",
     "output_type": "stream",
     "text": [
      "2 Expected=: 2\n",
      "1 Expected=: 1\n",
      "4 Expected=: 4\n"
     ]
    }
   ],
   "source": [
    "def searchInsert(nums: list[int], target: int) -> int:\n",
    "    if target in nums:\n",
    "        return nums.index(target)\n",
    "    else:\n",
    "        return sorted(nums + [target]).index(target) \n",
    "\n",
    "print(searchInsert([1,3,5,6], 5), \"Expected=: 2\")\n",
    "print(searchInsert([1,3,5,6], 2), \"Expected=: 1\")\n",
    "print(searchInsert([1,3,5,6], 7), \"Expected=: 4\")"
   ]
  },
  {
   "cell_type": "markdown",
   "id": "2c286f67",
   "metadata": {},
   "source": [
    "# References\n",
    "<hr style = \"border:2px solid black\" ></hr>"
   ]
  },
  {
   "cell_type": "markdown",
   "id": "0402c0e4",
   "metadata": {},
   "source": [
    "<div class=\"alert alert-warning\">\n",
    "<font color=black>\n",
    "\n",
    "- https://leetcode.com\n",
    "\n",
    "</font>\n",
    "</div>"
   ]
  },
  {
   "cell_type": "code",
   "execution_count": null,
   "id": "94a8e65c",
   "metadata": {},
   "outputs": [],
   "source": []
  }
 ],
 "metadata": {
  "kernelspec": {
   "display_name": "trainingAI",
   "language": "python",
   "name": "trainingai"
  },
  "language_info": {
   "codemirror_mode": {
    "name": "ipython",
    "version": 3
   },
   "file_extension": ".py",
   "mimetype": "text/x-python",
   "name": "python",
   "nbconvert_exporter": "python",
   "pygments_lexer": "ipython3",
   "version": "3.9.7"
  },
  "toc": {
   "base_numbering": 1,
   "nav_menu": {},
   "number_sections": true,
   "sideBar": true,
   "skip_h1_title": false,
   "title_cell": "Table of Contents",
   "title_sidebar": "Contents",
   "toc_cell": true,
   "toc_position": {
    "height": "calc(100% - 180px)",
    "left": "10px",
    "top": "150px",
    "width": "222px"
   },
   "toc_section_display": true,
   "toc_window_display": true
  },
  "varInspector": {
   "cols": {
    "lenName": 16,
    "lenType": 16,
    "lenVar": 40
   },
   "kernels_config": {
    "python": {
     "delete_cmd_postfix": "",
     "delete_cmd_prefix": "del ",
     "library": "var_list.py",
     "varRefreshCmd": "print(var_dic_list())"
    },
    "r": {
     "delete_cmd_postfix": ") ",
     "delete_cmd_prefix": "rm(",
     "library": "var_list.r",
     "varRefreshCmd": "cat(var_dic_list()) "
    }
   },
   "types_to_exclude": [
    "module",
    "function",
    "builtin_function_or_method",
    "instance",
    "_Feature"
   ],
   "window_display": false
  }
 },
 "nbformat": 4,
 "nbformat_minor": 5
}
