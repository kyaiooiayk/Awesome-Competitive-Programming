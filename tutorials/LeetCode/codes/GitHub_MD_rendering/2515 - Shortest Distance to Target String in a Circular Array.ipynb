{
 "cells": [
  {
   "cell_type": "markdown",
   "id": "2459ed2a",
   "metadata": {
    "toc": true
   },
   "source": [
    "<h1>Table of Contents<span class=\"tocSkip\"></span></h1>\n",
""   ]
  },
  {
   "cell_type": "markdown",
   "id": "40965ce3",
   "metadata": {},
   "source": [
    "# Description\n",
    "<hr style = \"border:2px solid black\" ></hr>"
   ]
  },
  {
   "cell_type": "markdown",
   "id": "7bc7852a",
   "metadata": {
    "ExecuteTime": {
     "end_time": "2023-02-27T09:59:15.825890Z",
     "start_time": "2023-02-27T09:59:15.822105Z"
    }
   },
   "source": [
    "\n",
    "- You are given a 0-indexed circular string array words and a string target. \n",
    "- A circular array means that the array's end connects to the array's beginning.\n",
    "- Formally, the next element of `words[i]` is `words[(i + 1) % n]` and the previous element of `words[i]` is `words[(i - 1 + n) % n]`, where `n` is the length of words.\n",
    "- Starting from startIndex, you can move to either the next word or the previous word with 1 step at a time.\n",
    "- Return the shortest distance needed to reach the string target. \n",
    "- If the string target does not exist in words, return `-1`.\n",
    "\n",
    "```\n",
    "#Example 1:\n",
    "Input: words = [\"hello\",\"i\",\"am\",\"leetcode\",\"hello\"], target = \"hello\", startIndex = 1\n",
    "Output: 1\n",
    "Explanation: We start from index 1 and can reach \"hello\" by\n",
    "- moving 3 units to the right to reach index 4.\n",
    "- moving 2 units to the left to reach index 4.\n",
    "- moving 4 units to the right to reach index 0.\n",
    "- moving 1 unit to the left to reach index 0.\n",
    "The shortest distance to reach \"hello\" is 1.\n",
    "\n",
    "#Example 2:\n",
    "Input: words = [\"a\",\"b\",\"leetcode\"], target = \"leetcode\", startIndex = 0\n",
    "Output: 1\n",
    "Explanation: We start from index 0 and can reach \"leetcode\" by\n",
    "- moving 2 units to the right to reach index 3.\n",
    "- moving 1 unit to the left to reach index 3.\n",
    "The shortest distance to reach \"leetcode\" is 1.\n",
    "    \n",
    "#Example 3:\n",
    "Input: words = [\"i\",\"eat\",\"leetcode\"], target = \"ate\", startIndex = 0\n",
    "Output: -1\n",
    "Explanation: Since \"ate\" does not exist in words, we return -1.\n",
    "```\n",
    "\n",
""   ]
  },
  {
   "cell_type": "markdown",
   "id": "5a99aaba",
   "metadata": {},
   "source": [
    "# Constraints\n",
    "<hr style = \"border:2px solid black\" ></hr>"
   ]
  },
  {
   "cell_type": "markdown",
   "id": "01bf5828",
   "metadata": {},
   "source": [
    "\n",
    "- `1 <= words.length <= 100`\n",
    "- `1 <= words[i].length <= 100`\n",
    "- `words[i]` and target consist of only lowercase English letters.\n",
    "- `0 <= startIndex < words.length`\n",
    "    \n",
""   ]
  },
  {
   "cell_type": "markdown",
   "id": "f1daac75",
   "metadata": {},
   "source": [
    "# Start-up code\n",
    "<hr style = \"border:2px solid black\" ></hr>"
   ]
  },
  {
   "cell_type": "code",
   "execution_count": 158,
   "id": "cf0c5e3e",
   "metadata": {
    "ExecuteTime": {
     "end_time": "2023-03-03T10:14:23.106295Z",
     "start_time": "2023-03-03T10:14:23.099568Z"
    }
   },
   "outputs": [
    {
     "name": "stdout",
     "output_type": "stream",
     "text": [
      "None =1\n",
      "None =1\n",
      "None =-1\n",
      "None =0\n",
      "None =1\n"
     ]
    }
   ],
   "source": [
    "from typing import List\n",
    "\n",
    "\n",
    "def closetTarget(words: List[str], target: str, startIndex: int) -> int:\n",
    "\n",
    "    return None\n",
    "\n",
    "\n",
    "print(closetTarget(\n",
    "    [\"hello\", \"i\", \"am\", \"leetcode\", \"hello\"], \"hello\", 1), \"=1\")\n",
    "\n",
    "print(closetTarget([\"a\", \"b\", \"leetcode\"], \"leetcode\", 0), \"=1\")\n",
    "print(closetTarget([\"i\", \"eat\", \"leetcode\"], \"ate\", 0), \"=-1\")\n",
    "print(closetTarget([\"i\", \"eat\", \"leetcode\"], \"eat\", 1), \"=0\")\n",
    "\n",
    "print(closetTarget([\"vieruszfqo\", \"ivgfhbopfy\", \"vfsymkzuio\", \"ryqtkehkov\", \"vfsymkzuio\",\n",
    "    \"vieruszfqo\", \"xnsacsqaad\", \"xnsacsqaad\", \"ryqtkehkov\", \"oxnuqvvyqx\"], \"ryqtkehkov\", 4), \"=1\")"
   ]
  },
  {
   "cell_type": "markdown",
   "id": "9c423446",
   "metadata": {},
   "source": [
    "# Comment - think before coding!\n",
    "<hr style = \"border:2px solid black\" ></hr>"
   ]
  },
  {
   "cell_type": "markdown",
   "id": "f208f584",
   "metadata": {},
   "source": [
    "\n",
    "- Keep in mind you are interested in the distance.\n",
    "- Thus, given an index we can unroll the list and make the words[startIndex] the head of a new string.\n",
    "- This will allow use to use the `string.index` method to get the index, which represents the distance.\n",
    "\n",
""   ]
  },
  {
   "cell_type": "markdown",
   "id": "df100eae",
   "metadata": {},
   "source": [
    "# Solution #1\n",
    "<hr style = \"border:2px solid black\" ></hr>"
   ]
  },
  {
   "cell_type": "code",
   "execution_count": 156,
   "id": "cde0e019",
   "metadata": {
    "ExecuteTime": {
     "end_time": "2023-03-03T10:12:20.483349Z",
     "start_time": "2023-03-03T10:12:20.478778Z"
    }
   },
   "outputs": [],
   "source": [
    "def closetTarget(words: List[str], target: str, startIndex: int) -> int:\n",
    "    \n",
    "    \n",
    "    if target not in words:\n",
    "        return -1\n",
    "    elif words[startIndex] == target:\n",
    "        return 0\n",
    "    else:\n",
    "        pos_words = words[startIndex:] + words[:startIndex]\n",
    "        #print(\"positive\", pos_words, pos_words.index(target))\n",
    "        neg_words = words[:startIndex+1][::-1] + words[startIndex+1:][::-1]\n",
    "        #print(\"negative\", neg_words, neg_words.index(target))\n",
    "        \n",
    "        return min([pos_words.index(target), neg_words.index(target)])\n",
    "        "
   ]
  },
  {
   "cell_type": "code",
   "execution_count": 157,
   "id": "3a188c6e",
   "metadata": {
    "ExecuteTime": {
     "end_time": "2023-03-03T10:12:20.883385Z",
     "start_time": "2023-03-03T10:12:20.878002Z"
    },
    "code_folding": []
   },
   "outputs": [
    {
     "name": "stdout",
     "output_type": "stream",
     "text": [
      "1 =1\n",
      "1 =1\n",
      "-1 =-1\n",
      "0 =0\n",
      "1 =1\n"
     ]
    }
   ],
   "source": [
    "print(closetTarget(\n",
    "    [\"hello\", \"i\", \"am\", \"leetcode\", \"hello\"], \"hello\", 1), \"=1\")\n",
    "\n",
    "print(closetTarget([\"a\", \"b\", \"leetcode\"], \"leetcode\", 0), \"=1\")\n",
    "print(closetTarget([\"i\", \"eat\", \"leetcode\"], \"ate\", 0), \"=-1\")\n",
    "print(closetTarget([\"i\", \"eat\", \"leetcode\"], \"eat\", 1), \"=0\")\n",
    "\n",
    "print(closetTarget([\"vieruszfqo\", \"ivgfhbopfy\", \"vfsymkzuio\", \"ryqtkehkov\", \"vfsymkzuio\",\n",
    "    \"vieruszfqo\", \"xnsacsqaad\", \"xnsacsqaad\", \"ryqtkehkov\", \"oxnuqvvyqx\"], \"ryqtkehkov\", 4), \"=1\")"
   ]
  },
  {
   "cell_type": "markdown",
   "id": "2c286f67",
   "metadata": {},
   "source": [
    "# References\n",
    "<hr style = \"border:2px solid black\" ></hr>"
   ]
  },
  {
   "cell_type": "markdown",
   "id": "0402c0e4",
   "metadata": {},
   "source": [
    "\n",
    "- https://leetcode.com\n",
    "    \n",
""   ]
  },
  {
   "cell_type": "code",
   "execution_count": null,
   "id": "78ec21b3",
   "metadata": {},
   "outputs": [],
   "source": []
  }
 ],
 "metadata": {
  "kernelspec": {
   "display_name": "trainingAI",
   "language": "python",
   "name": "trainingai"
  },
  "language_info": {
   "codemirror_mode": {
    "name": "ipython",
    "version": 3
   },
   "file_extension": ".py",
   "mimetype": "text/x-python",
   "name": "python",
   "nbconvert_exporter": "python",
   "pygments_lexer": "ipython3",
   "version": "3.9.7"
  },
  "toc": {
   "base_numbering": 1,
   "nav_menu": {},
   "number_sections": true,
   "sideBar": true,
   "skip_h1_title": false,
   "title_cell": "Table of Contents",
   "title_sidebar": "Contents",
   "toc_cell": true,
   "toc_position": {
    "height": "calc(100% - 180px)",
    "left": "10px",
    "top": "150px",
    "width": "222px"
   },
   "toc_section_display": true,
   "toc_window_display": true
  },
  "varInspector": {
   "cols": {
    "lenName": 16,
    "lenType": 16,
    "lenVar": 40
   },
   "kernels_config": {
    "python": {
     "delete_cmd_postfix": "",
     "delete_cmd_prefix": "del ",
     "library": "var_list.py",
     "varRefreshCmd": "print(var_dic_list())"
    },
    "r": {
     "delete_cmd_postfix": ") ",
     "delete_cmd_prefix": "rm(",
     "library": "var_list.r",
     "varRefreshCmd": "cat(var_dic_list()) "
    }
   },
   "types_to_exclude": [
    "module",
    "function",
    "builtin_function_or_method",
    "instance",
    "_Feature"
   ],
   "window_display": false
  }
 },
 "nbformat": 4,
 "nbformat_minor": 5
}
