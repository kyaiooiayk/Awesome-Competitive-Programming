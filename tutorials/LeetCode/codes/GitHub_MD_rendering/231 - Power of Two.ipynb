{
 "cells": [
  {
   "cell_type": "markdown",
   "id": "2459ed2a",
   "metadata": {
    "toc": true
   },
   "source": [
    "<h1>Table of Contents<span class=\"tocSkip\"></span></h1>\n",
""   ]
  },
  {
   "cell_type": "markdown",
   "id": "4cb22ddf",
   "metadata": {},
   "source": [
    "# Instruction\n",
    "<hr style = \"border:2px solid black\" ></hr>"
   ]
  },
  {
   "cell_type": "markdown",
   "id": "bef298f5",
   "metadata": {},
   "source": [
    "\n",
    "- Given an integer `n`, return `True` if it is a power of two. Otherwise, return `False`.\n",
    "- An integer `n` is a power of two, if there exists an integer `x` such that `n == 2^x`.\n",
    "\n",
    "```\n",
    "# Example 1:\n",
    "Input: n = 1\n",
    "Output: true\n",
    "Explanation: 2^0 = 1\n",
    "\n",
    "# Example 2:\n",
    "Input: n = 16\n",
    "Output: true\n",
    "Explanation: 2^4 = 16\n",
    "\n",
    "# Example 3:\n",
    "Input: n = 3\n",
    "Output: false\n",
    "\n",
    "```\n",
    "\n",
""   ]
  },
  {
   "cell_type": "markdown",
   "id": "f1daac75",
   "metadata": {},
   "source": [
    "# Start-up code\n",
    "<hr style = \"border:2px solid black\" ></hr>"
   ]
  },
  {
   "cell_type": "code",
   "execution_count": 2,
   "id": "cf0c5e3e",
   "metadata": {
    "ExecuteTime": {
     "end_time": "2023-02-18T14:59:08.456162Z",
     "start_time": "2023-02-18T14:59:08.452572Z"
    }
   },
   "outputs": [
    {
     "name": "stdout",
     "output_type": "stream",
     "text": [
      "None =False\n",
      "None =False\n",
      "None =False\n"
     ]
    }
   ],
   "source": [
    "def isPowerOfTwo(n: int) -> bool:\n",
    "\n",
    "    return None\n",
    "\n",
    "\n",
    "print(isPowerOfTwo(1), \"=False\")\n",
    "print(isPowerOfTwo(2), \"=False\")\n",
    "print(isPowerOfTwo(3), \"=False\")"
   ]
  },
  {
   "cell_type": "markdown",
   "id": "9c423446",
   "metadata": {},
   "source": [
    "# Comment - think before coding!\n",
    "<hr style = \"border:2px solid black\" ></hr>"
   ]
  },
  {
   "cell_type": "markdown",
   "id": "a71709d2",
   "metadata": {},
   "source": [
    "\n",
    "- `n` can take negative number.\n",
    "- Think about what the log in base 2 does\n",
    "    \n",
""   ]
  },
  {
   "cell_type": "markdown",
   "id": "f163751a",
   "metadata": {},
   "source": [
    "# Solution #1\n",
    "<hr style = \"border:2px solid black\" ></hr>"
   ]
  },
  {
   "cell_type": "code",
   "execution_count": 22,
   "id": "4dd5b7ad",
   "metadata": {
    "ExecuteTime": {
     "end_time": "2023-02-18T15:04:47.645396Z",
     "start_time": "2023-02-18T15:04:47.642236Z"
    }
   },
   "outputs": [],
   "source": [
    "def isPowerOfTwo(n: int) -> bool:\n",
    "    exp = -1\n",
    "    temp = -1\n",
    "    while temp <= n:\n",
    "        exp += 1\n",
    "        temp = 2**exp\n",
    "        if temp == n:\n",
    "            return True\n",
    "\n",
    "    return False"
   ]
  },
  {
   "cell_type": "code",
   "execution_count": 59,
   "id": "3dd191f3",
   "metadata": {
    "ExecuteTime": {
     "end_time": "2023-02-18T15:30:01.064918Z",
     "start_time": "2023-02-18T15:30:01.061596Z"
    }
   },
   "outputs": [
    {
     "name": "stdout",
     "output_type": "stream",
     "text": [
      "False =True\n",
      "True =True\n",
      "False =False\n"
     ]
    }
   ],
   "source": [
    "print(isPowerOfTwo(1), \"=True\")\n",
    "print(isPowerOfTwo(16), \"=True\")\n",
    "print(isPowerOfTwo(3), \"=False\")"
   ]
  },
  {
   "cell_type": "markdown",
   "id": "d6d067eb",
   "metadata": {
    "ExecuteTime": {
     "end_time": "2023-02-18T15:29:00.687230Z",
     "start_time": "2023-02-18T15:29:00.684078Z"
    }
   },
   "source": [
    "# Solution #2\n",
    "<hr style = \"border:2px solid black\" ></hr>"
   ]
  },
  {
   "cell_type": "code",
   "execution_count": 76,
   "id": "6cdece20",
   "metadata": {
    "ExecuteTime": {
     "end_time": "2023-02-18T15:45:02.396479Z",
     "start_time": "2023-02-18T15:45:02.393275Z"
    }
   },
   "outputs": [],
   "source": [
    "def isPowerOfTwo(n: int) -> bool:\n",
    "    exp = 0\n",
    "\n",
    "    # recursive call\n",
    "    def get_exponent(exp):\n",
    "\n",
    "        if 2**exp == n:\n",
    "            return True\n",
    "        elif 2**exp > n:\n",
    "            return False\n",
    "        else:\n",
    "            return get_exponent(exp+1)\n",
    "\n",
    "    return get_exponent(exp)"
   ]
  },
  {
   "cell_type": "code",
   "execution_count": 130,
   "id": "6b91e904",
   "metadata": {
    "ExecuteTime": {
     "end_time": "2023-02-18T16:10:34.352571Z",
     "start_time": "2023-02-18T16:10:34.349008Z"
    }
   },
   "outputs": [
    {
     "name": "stdout",
     "output_type": "stream",
     "text": [
      "True =True\n",
      "True =True\n",
      "False =False\n",
      "False =False\n"
     ]
    }
   ],
   "source": [
    "print(isPowerOfTwo(1), \"=True\")\n",
    "print(isPowerOfTwo(16), \"=True\")\n",
    "print(isPowerOfTwo(-16), \"=False\")\n",
    "print(isPowerOfTwo(3), \"=False\")"
   ]
  },
  {
   "cell_type": "markdown",
   "id": "f0029c65",
   "metadata": {
    "ExecuteTime": {
     "end_time": "2023-02-18T15:48:06.564634Z",
     "start_time": "2023-02-18T15:48:06.561683Z"
    }
   },
   "source": [
    "# Solution #3\n",
    "<hr style = \"border:2px solid black\" ></hr>"
   ]
  },
  {
   "cell_type": "code",
   "execution_count": 128,
   "id": "3881d304",
   "metadata": {
    "ExecuteTime": {
     "end_time": "2023-02-18T16:10:24.930434Z",
     "start_time": "2023-02-18T16:10:24.927598Z"
    }
   },
   "outputs": [],
   "source": [
    "import numpy as np\n",
    "\n",
    "\n",
    "def isPowerOfTwo(n: int) -> bool:\n",
    "    \n",
    "    # Check if the floating part while diviing by 1 is zero\n",
    "    return n>0 and np.log2(n)%1 == 0"
   ]
  },
  {
   "cell_type": "code",
   "execution_count": 129,
   "id": "f8819975",
   "metadata": {
    "ExecuteTime": {
     "end_time": "2023-02-18T16:10:28.084090Z",
     "start_time": "2023-02-18T16:10:28.080005Z"
    }
   },
   "outputs": [
    {
     "name": "stdout",
     "output_type": "stream",
     "text": [
      "True =True\n",
      "True =True\n",
      "False =False\n",
      "False =False\n",
      "True =True\n"
     ]
    }
   ],
   "source": [
    "print(isPowerOfTwo(1), \"=True\")\n",
    "print(isPowerOfTwo(16), \"=True\")\n",
    "print(isPowerOfTwo(-16), \"=False\")\n",
    "print(isPowerOfTwo(3), \"=False\")\n",
    "print(isPowerOfTwo(8), \"=True\")"
   ]
  },
  {
   "cell_type": "markdown",
   "id": "7cda2a6e",
   "metadata": {},
   "source": [
    "# Solution #4\n",
    "<hr style = \"border:2px solid black\" ></hr>"
   ]
  },
  {
   "cell_type": "markdown",
   "id": "1b38dc59",
   "metadata": {},
   "source": [
    "\n",
    "- If a number is power of 2, there exists 1 and only 1 bit-1 in the binary of this number, such as 0b10, 0b100, 0b1000.\n",
    "- Negative number will be assigned value False, because the exponent is even and it will alway return a positive value.\n",
    "\n",
""   ]
  },
  {
   "cell_type": "code",
   "execution_count": 131,
   "id": "b0493da0",
   "metadata": {
    "ExecuteTime": {
     "end_time": "2023-02-18T16:14:48.068326Z",
     "start_time": "2023-02-18T16:14:48.064551Z"
    }
   },
   "outputs": [
    {
     "name": "stdout",
     "output_type": "stream",
     "text": [
      "0b0\n",
      "0b1000\n",
      "0b10000\n",
      "-0b10000\n"
     ]
    }
   ],
   "source": [
    "print(bin(0))\n",
    "print(bin(8))\n",
    "print(bin(16))\n",
    "print(bin(-16))"
   ]
  },
  {
   "cell_type": "code",
   "execution_count": 120,
   "id": "fdb66453",
   "metadata": {
    "ExecuteTime": {
     "end_time": "2023-02-18T16:07:22.116580Z",
     "start_time": "2023-02-18T16:07:22.113827Z"
    }
   },
   "outputs": [],
   "source": [
    "def isPowerOfTwo(n: int) -> bool:\n",
    "\n",
    "    return bin(n).count('1') == 1"
   ]
  },
  {
   "cell_type": "code",
   "execution_count": 126,
   "id": "cc502518",
   "metadata": {
    "ExecuteTime": {
     "end_time": "2023-02-18T16:09:11.334891Z",
     "start_time": "2023-02-18T16:09:11.331142Z"
    }
   },
   "outputs": [
    {
     "name": "stdout",
     "output_type": "stream",
     "text": [
      "True =True\n",
      "True =True\n",
      "True =False\n",
      "False =False\n",
      "True =True\n"
     ]
    }
   ],
   "source": [
    "print(isPowerOfTwo(1), \"=True\")\n",
    "print(isPowerOfTwo(16), \"=True\")\n",
    "print(isPowerOfTwo(-16), \"=False\")\n",
    "print(isPowerOfTwo(3), \"=False\")\n",
    "print(isPowerOfTwo(8), \"=True\")"
   ]
  },
  {
   "cell_type": "markdown",
   "id": "364120bc",
   "metadata": {},
   "source": [
    "# References\n",
    "<hr style = \"border:2px solid black\" ></hr>"
   ]
  },
  {
   "cell_type": "markdown",
   "id": "79460adc",
   "metadata": {},
   "source": [
    "\n",
    "- [Leetcode](https://www.leetcode.com)\n",
    "\n",
""   ]
  },
  {
   "cell_type": "code",
   "execution_count": null,
   "id": "28738deb",
   "metadata": {},
   "outputs": [],
   "source": []
  }
 ],
 "metadata": {
  "kernelspec": {
   "display_name": "trainingAI",
   "language": "python",
   "name": "trainingai"
  },
  "language_info": {
   "codemirror_mode": {
    "name": "ipython",
    "version": 3
   },
   "file_extension": ".py",
   "mimetype": "text/x-python",
   "name": "python",
   "nbconvert_exporter": "python",
   "pygments_lexer": "ipython3",
   "version": "3.9.7"
  },
  "toc": {
   "base_numbering": 1,
   "nav_menu": {},
   "number_sections": true,
   "sideBar": true,
   "skip_h1_title": false,
   "title_cell": "Table of Contents",
   "title_sidebar": "Contents",
   "toc_cell": true,
   "toc_position": {
    "height": "calc(100% - 180px)",
    "left": "10px",
    "top": "150px",
    "width": "241.75px"
   },
   "toc_section_display": true,
   "toc_window_display": true
  },
  "varInspector": {
   "cols": {
    "lenName": 16,
    "lenType": 16,
    "lenVar": 40
   },
   "kernels_config": {
    "python": {
     "delete_cmd_postfix": "",
     "delete_cmd_prefix": "del ",
     "library": "var_list.py",
     "varRefreshCmd": "print(var_dic_list())"
    },
    "r": {
     "delete_cmd_postfix": ") ",
     "delete_cmd_prefix": "rm(",
     "library": "var_list.r",
     "varRefreshCmd": "cat(var_dic_list()) "
    }
   },
   "types_to_exclude": [
    "module",
    "function",
    "builtin_function_or_method",
    "instance",
    "_Feature"
   ],
   "window_display": false
  }
 },
 "nbformat": 4,
 "nbformat_minor": 5
}
