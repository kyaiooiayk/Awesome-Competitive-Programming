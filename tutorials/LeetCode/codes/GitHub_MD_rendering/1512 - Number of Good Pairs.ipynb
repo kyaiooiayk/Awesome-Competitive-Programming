{
 "cells": [
  {
   "cell_type": "markdown",
   "id": "2459ed2a",
   "metadata": {
    "toc": true
   },
   "source": [
    "<h1>Table of Contents<span class=\"tocSkip\"></span></h1>\n",
""   ]
  },
  {
   "cell_type": "markdown",
   "id": "4cb22ddf",
   "metadata": {},
   "source": [
    "# Instruction\n",
    "<hr style = \"border:2px solid black\" ></hr>"
   ]
  },
  {
   "cell_type": "markdown",
   "id": "bef298f5",
   "metadata": {},
   "source": [
    "\n",
    "- Given an array of integers nums, return the number of good pairs.\n",
    "- A pair `(i, j)` is called good if `nums[i] == nums[j]` and `i < j`.\n",
    "    \n",
    "```\n",
    "Example 1:\n",
    "Input: nums = [1,2,3,1,1,3]\n",
    "Output: 4\n",
    "Explanation: There are 4 good pairs (0,3), (0,4), (3,4), (2,5) 0-indexed.\n",
    "\n",
    "Example 2:\n",
    "Input: nums = [1,1,1,1]\n",
    "Output: 6\n",
    "Explanation: Each pair in the array are good.\n",
    "\n",
    "Example 3:\n",
    "Input: nums = [1,2,3]\n",
    "Output: 0\n",
    "```\n",
    "\n",
""   ]
  },
  {
   "cell_type": "markdown",
   "id": "f1daac75",
   "metadata": {},
   "source": [
    "# Start-up code\n",
    "<hr style = \"border:2px solid black\" ></hr>"
   ]
  },
  {
   "cell_type": "code",
   "execution_count": 2,
   "id": "cf0c5e3e",
   "metadata": {
    "ExecuteTime": {
     "end_time": "2023-01-23T07:50:35.166286Z",
     "start_time": "2023-01-23T07:50:35.162241Z"
    },
    "code_folding": []
   },
   "outputs": [
    {
     "name": "stdout",
     "output_type": "stream",
     "text": [
      "None Expected: 4\n",
      "None Expected: 6\n"
     ]
    }
   ],
   "source": [
    "from typing import List\n",
    "def numIdenticalPairs(nums: List[int]) -> int:\n",
    "    return None\n",
    "\n",
    "\n",
    "print(numIdenticalPairs([1,2,3,1,1,3]), \"Expected: 4\")\n",
    "print(numIdenticalPairs([1,1,1,1]), \"Expected: 6\")"
   ]
  },
  {
   "cell_type": "markdown",
   "id": "9c423446",
   "metadata": {},
   "source": [
    "# Comment - think before coding!\n",
    "<hr style = \"border:2px solid black\" ></hr>"
   ]
  },
  {
   "cell_type": "markdown",
   "id": "a71709d2",
   "metadata": {},
   "source": [
    "\n",
    "- None\n",
    "\n",
""   ]
  },
  {
   "cell_type": "markdown",
   "id": "f163751a",
   "metadata": {},
   "source": [
    "# Solution #1\n",
    "<hr style = \"border:2px solid black\" ></hr>"
   ]
  },
  {
   "cell_type": "code",
   "execution_count": 21,
   "id": "99fd92f8",
   "metadata": {
    "ExecuteTime": {
     "end_time": "2023-01-23T08:00:45.389287Z",
     "start_time": "2023-01-23T08:00:45.384057Z"
    }
   },
   "outputs": [
    {
     "name": "stdout",
     "output_type": "stream",
     "text": [
      "4 Expected: 4\n",
      "6 Expected: 6\n",
      "0 Expected: 0\n"
     ]
    }
   ],
   "source": [
    "from typing import List\n",
    "from itertools import combinations\n",
    "\n",
    "\n",
    "def numIdenticalPairs(nums: List[int]) -> int:\n",
    "    \"\"\"\n",
    "    A pair (i, j) is called good if nums[i] == nums[j] and i < j.\n",
    "    \"\"\"\n",
    "\n",
    "    unique_comb = list(combinations(list(range(len(nums))), 2))\n",
    "    counter = 0\n",
    "    for i, j in unique_comb:\n",
    "        if nums[i] == nums[j] and i < j:\n",
    "            counter += 1\n",
    "    return counter\n",
    "\n",
    "\n",
    "print(numIdenticalPairs([1, 2, 3, 1, 1, 3]), \"Expected: 4\")\n",
    "print(numIdenticalPairs([1, 1, 1, 1]), \"Expected: 6\")\n",
    "print(numIdenticalPairs([1, 2, 3]), \"Expected: 0\")"
   ]
  },
  {
   "cell_type": "markdown",
   "id": "364120bc",
   "metadata": {},
   "source": [
    "# References\n",
    "<hr style = \"border:2px solid black\" ></hr>"
   ]
  },
  {
   "cell_type": "markdown",
   "id": "6798661b",
   "metadata": {},
   "source": [
    "\n",
    "- [Leetcode](https://www.leetcode.com)\n",
    "   \n",
""   ]
  },
  {
   "cell_type": "code",
   "execution_count": null,
   "id": "df53caeb",
   "metadata": {},
   "outputs": [],
   "source": []
  }
 ],
 "metadata": {
  "kernelspec": {
   "display_name": "trainingAI",
   "language": "python",
   "name": "trainingai"
  },
  "language_info": {
   "codemirror_mode": {
    "name": "ipython",
    "version": 3
   },
   "file_extension": ".py",
   "mimetype": "text/x-python",
   "name": "python",
   "nbconvert_exporter": "python",
   "pygments_lexer": "ipython3",
   "version": "3.9.7"
  },
  "toc": {
   "base_numbering": 1,
   "nav_menu": {},
   "number_sections": true,
   "sideBar": true,
   "skip_h1_title": false,
   "title_cell": "Table of Contents",
   "title_sidebar": "Contents",
   "toc_cell": true,
   "toc_position": {},
   "toc_section_display": true,
   "toc_window_display": true
  },
  "varInspector": {
   "cols": {
    "lenName": 16,
    "lenType": 16,
    "lenVar": 40
   },
   "kernels_config": {
    "python": {
     "delete_cmd_postfix": "",
     "delete_cmd_prefix": "del ",
     "library": "var_list.py",
     "varRefreshCmd": "print(var_dic_list())"
    },
    "r": {
     "delete_cmd_postfix": ") ",
     "delete_cmd_prefix": "rm(",
     "library": "var_list.r",
     "varRefreshCmd": "cat(var_dic_list()) "
    }
   },
   "types_to_exclude": [
    "module",
    "function",
    "builtin_function_or_method",
    "instance",
    "_Feature"
   ],
   "window_display": false
  }
 },
 "nbformat": 4,
 "nbformat_minor": 5
}
