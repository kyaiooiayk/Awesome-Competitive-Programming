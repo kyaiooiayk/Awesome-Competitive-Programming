{
 "cells": [
  {
   "cell_type": "markdown",
   "id": "2459ed2a",
   "metadata": {
    "toc": true
   },
   "source": [
    "<h1>Table of Contents<span class=\"tocSkip\"></span></h1>\n",
""   ]
  },
  {
   "cell_type": "markdown",
   "id": "40965ce3",
   "metadata": {},
   "source": [
    "# Description\n",
    "<hr style = \"border:2px solid black\" ></hr>"
   ]
  },
  {
   "cell_type": "markdown",
   "id": "90ef2b26",
   "metadata": {
    "ExecuteTime": {
     "end_time": "2023-01-12T13:49:06.987434Z",
     "start_time": "2023-01-12T13:49:06.983575Z"
    }
   },
   "source": [
    "\n",
    "- A sentence is a list of words that are separated by a single space with no leading or trailing spaces. Each word consists of lowercase and uppercase English letters.\n",
    "- A sentence can be shuffled by appending the 1-indexed word position to each word then rearranging the words in the sentence.\n",
    "- For example, the sentence \"This is a sentence\" can be shuffled as \"sentence4 a3 is2 This1\" or \"is2 sentence4 This1 a3\".\n",
    "- Given a shuffled sentence s containing no more than 9 words, reconstruct and return the original sentence.\n",
    "\n",
    "```\n",
    "Example 1:\n",
    "Input: s = \"is2 sentence4 This1 a3\"\n",
    "Output: \"This is a sentence\"\n",
    "Explanation: Sort the words in s to their original positions \"This1 is2 a3 sentence4\", then remove the numbers.\n",
    "\n",
    "Example 2:\n",
    "Input: s = \"Myself2 Me1 I4 and3\"\n",
    "Output: \"Me Myself and I\"\n",
    "Explanation: Sort the words in s to their original positions \"Me1 Myself2 and3 I4\", then remove the numbers.\n",
    "```\n",
    "    \n",
""   ]
  },
  {
   "cell_type": "markdown",
   "id": "f1daac75",
   "metadata": {},
   "source": [
    "# Start-up code\n",
    "<hr style = \"border:2px solid black\" ></hr>"
   ]
  },
  {
   "cell_type": "code",
   "execution_count": null,
   "id": "cf0c5e3e",
   "metadata": {
    "ExecuteTime": {
     "end_time": "2023-01-12T13:49:06.993631Z",
     "start_time": "2023-01-12T13:49:06.993588Z"
    }
   },
   "outputs": [],
   "source": [
    "def sortSentence(s: str) -> str:\n",
    "    return None\n",
    "\n",
    "\n",
    "print(sortSentence(\"is2 sentence4 This1 a3\"), \"Expected=: This is a sentence\")\n",
    "print(sortSentence(\"Myself2 Me1 I4 and3\"), \"-> Expected=: Me Myself and I\")"
   ]
  },
  {
   "cell_type": "markdown",
   "id": "9c423446",
   "metadata": {},
   "source": [
    "# Comment - think before coding!\n",
    "<hr style = \"border:2px solid black\" ></hr>"
   ]
  },
  {
   "cell_type": "markdown",
   "id": "f94aff3a",
   "metadata": {
    "ExecuteTime": {
     "end_time": "2023-01-12T13:49:06.996579Z",
     "start_time": "2023-01-12T13:49:06.996545Z"
    }
   },
   "source": [
    "\n",
    "- No comments.\n",
    "\n",
""   ]
  },
  {
   "cell_type": "markdown",
   "id": "f163751a",
   "metadata": {},
   "source": [
    "# Solution #1\n",
    "<hr style = \"border:2px solid black\" ></hr>"
   ]
  },
  {
   "cell_type": "code",
   "execution_count": 2,
   "id": "06e3d39b",
   "metadata": {
    "ExecuteTime": {
     "end_time": "2023-01-12T13:49:31.570645Z",
     "start_time": "2023-01-12T13:49:31.565236Z"
    },
    "code_folding": []
   },
   "outputs": [
    {
     "name": "stdout",
     "output_type": "stream",
     "text": [
      "This is a sentence -> Expected=: This is a sentence\n",
      "Me Myself and I -> Expected=: Me Myself and I\n"
     ]
    }
   ],
   "source": [
    "import numpy as np\n",
    "\n",
    "\n",
    "def sortSentence(s: str) -> str:\n",
    "    #dict_1 = {key:value[-1] for key,value in enumerate(s.split())}\n",
    "    dict_1_invert = {value[-1]: key for key, value in enumerate(s.split())}\n",
    "\n",
    "    a = [s.split()[dict_1_invert[str(i)]][:-1]\n",
    "         for i in np.arange(1, len(s.split())+1)]\n",
    "\n",
    "    return \" \".join(a)\n",
    "\n",
    "\n",
    "print(sortSentence(\"is2 sentence4 This1 a3\"),\n",
    "      \"-> Expected=: This is a sentence\")\n",
    "print(sortSentence(\"Myself2 Me1 I4 and3\"), \"-> Expected=: Me Myself and I\")"
   ]
  },
  {
   "cell_type": "markdown",
   "id": "2c286f67",
   "metadata": {},
   "source": [
    "# References\n",
    "<hr style = \"border:2px solid black\" ></hr>"
   ]
  },
  {
   "cell_type": "markdown",
   "id": "2c1fd299",
   "metadata": {},
   "source": [
    "\n",
    "- [Leetcode](www.leetcode.com)\n",
    "\n",
""   ]
  },
  {
   "cell_type": "code",
   "execution_count": null,
   "id": "59ee41dd",
   "metadata": {},
   "outputs": [],
   "source": []
  }
 ],
 "metadata": {
  "kernelspec": {
   "display_name": "trainingAI",
   "language": "python",
   "name": "trainingai"
  },
  "language_info": {
   "codemirror_mode": {
    "name": "ipython",
    "version": 3
   },
   "file_extension": ".py",
   "mimetype": "text/x-python",
   "name": "python",
   "nbconvert_exporter": "python",
   "pygments_lexer": "ipython3",
   "version": "3.9.7"
  },
  "toc": {
   "base_numbering": 1,
   "nav_menu": {},
   "number_sections": true,
   "sideBar": true,
   "skip_h1_title": false,
   "title_cell": "Table of Contents",
   "title_sidebar": "Contents",
   "toc_cell": true,
   "toc_position": {},
   "toc_section_display": true,
   "toc_window_display": true
  },
  "varInspector": {
   "cols": {
    "lenName": 16,
    "lenType": 16,
    "lenVar": 40
   },
   "kernels_config": {
    "python": {
     "delete_cmd_postfix": "",
     "delete_cmd_prefix": "del ",
     "library": "var_list.py",
     "varRefreshCmd": "print(var_dic_list())"
    },
    "r": {
     "delete_cmd_postfix": ") ",
     "delete_cmd_prefix": "rm(",
     "library": "var_list.r",
     "varRefreshCmd": "cat(var_dic_list()) "
    }
   },
   "types_to_exclude": [
    "module",
    "function",
    "builtin_function_or_method",
    "instance",
    "_Feature"
   ],
   "window_display": false
  }
 },
 "nbformat": 4,
 "nbformat_minor": 5
}
