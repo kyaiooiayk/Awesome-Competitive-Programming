{
 "cells": [
  {
   "cell_type": "markdown",
   "id": "2459ed2a",
   "metadata": {
    "toc": true
   },
   "source": [
    "<h1>Table of Contents<span class=\"tocSkip\"></span></h1>\n",
""   ]
  },
  {
   "cell_type": "markdown",
   "id": "40965ce3",
   "metadata": {},
   "source": [
    "# Description\n",
    "<hr style = \"border:2px solid black\" ></hr>"
   ]
  },
  {
   "cell_type": "markdown",
   "id": "01bf5828",
   "metadata": {},
   "source": [
    "\n",
    "- You are given a license key represented as a string s that consists of only alphanumeric characters and dashes. The string is separated into n + 1 groups by n dashes. You are also given an integer k.\n",
    "- We want to reformat the string s such that each group contains exactly k characters, except for the first group, which could be shorter than k but still must contain at least one character. Furthermore, there must be a dash inserted between two groups, and you should convert all lowercase letters to uppercase.\n",
    "\n",
    "```\n",
    "# Example 1:\n",
    "Input: s = \"5F3Z-2e-9-w\", k = 4\n",
    "Output: \"5F3Z-2E9W\"\n",
    "Explanation: The string s has been split into two parts, each part has 4 characters.\n",
    "Note that the two extra dashes are not needed and can be removed.\n",
    "\n",
    "# Example 2:\n",
    "Input: s = \"2-5g-3-J\", k = 2\n",
    "Output: \"2-5G-3J\"\n",
    "Explanation: The string s has been split into three parts, each part has 2 characters except the first part as it could be shorter as mentioned above.\n",
    "```\n",
    "\n",
""   ]
  },
  {
   "cell_type": "markdown",
   "id": "5a99aaba",
   "metadata": {},
   "source": [
    "# Constraints\n",
    "<hr style = \"border:2px solid black\" ></hr>"
   ]
  },
  {
   "cell_type": "markdown",
   "id": "7bc7852a",
   "metadata": {
    "ExecuteTime": {
     "end_time": "2023-02-27T09:59:15.825890Z",
     "start_time": "2023-02-27T09:59:15.822105Z"
    }
   },
   "source": [
    "\n",
    "- `1 <= s.length <= 10^5`\n",
    "- `s` consists of English letters, digits, and dashes '-'.\n",
    "- `1 <= k <= 104`\n",
    "\n",
    "\n",
""   ]
  },
  {
   "cell_type": "markdown",
   "id": "f1daac75",
   "metadata": {},
   "source": [
    "# Start-up code\n",
    "<hr style = \"border:2px solid black\" ></hr>"
   ]
  },
  {
   "cell_type": "code",
   "execution_count": 40,
   "id": "cf0c5e3e",
   "metadata": {
    "ExecuteTime": {
     "end_time": "2023-02-27T10:09:12.920682Z",
     "start_time": "2023-02-27T10:09:12.917243Z"
    }
   },
   "outputs": [
    {
     "name": "stdout",
     "output_type": "stream",
     "text": [
      "None 5F3Z-2E9W\n",
      "None 2-5G-3J\n"
     ]
    }
   ],
   "source": [
    "def licenseKeyFormatting(s: str, k: int) -> str:\n",
    "    return None\n",
    "\n",
    "print(licenseKeyFormatting(\"5F3Z-2e-9-w\", 4), \"5F3Z-2E9W\")\n",
    "print(licenseKeyFormatting(\"2-5g-3-J\", 2), \"2-5G-3J\")"
   ]
  },
  {
   "cell_type": "markdown",
   "id": "9c423446",
   "metadata": {},
   "source": [
    "# Comment - think before coding!\n",
    "<hr style = \"border:2px solid black\" ></hr>"
   ]
  },
  {
   "cell_type": "markdown",
   "id": "f208f584",
   "metadata": {},
   "source": [
    "\n",
    "- Because, there is a an exception for the length of the first character, we can reverse the string and walk from tail to head. This will avoid checking for even chunks.\n",
    "    \n",
""   ]
  },
  {
   "cell_type": "markdown",
   "id": "df100eae",
   "metadata": {},
   "source": [
    "# Solution #1\n",
    "<hr style = \"border:2px solid black\" ></hr>"
   ]
  },
  {
   "cell_type": "code",
   "execution_count": 124,
   "id": "964f2217",
   "metadata": {
    "ExecuteTime": {
     "end_time": "2023-02-27T10:26:13.474887Z",
     "start_time": "2023-02-27T10:26:13.471348Z"
    }
   },
   "outputs": [],
   "source": [
    "def licenseKeyFormatting(s: str, k: int) -> str:\n",
    "\n",
    "    s_ = s.replace(\"-\", \"\").upper()[::-1]\n",
    "\n",
    "    a = []\n",
    "    i = -1\n",
    "    while i < (len(s_)/k)-1:\n",
    "        i += 1\n",
    "        a.append(\"-\"+s_[k*i: k*i+k])\n",
    "\n",
    "    return \"\".join(a)[1:][::-1]"
   ]
  },
  {
   "cell_type": "code",
   "execution_count": 125,
   "id": "72ed39c5",
   "metadata": {
    "ExecuteTime": {
     "end_time": "2023-02-27T10:26:13.806169Z",
     "start_time": "2023-02-27T10:26:13.803177Z"
    },
    "scrolled": true
   },
   "outputs": [
    {
     "name": "stdout",
     "output_type": "stream",
     "text": [
      "5F3Z-2E9W 5F3Z-2E9W\n",
      "2-5G-3J 2-5G-3J\n"
     ]
    }
   ],
   "source": [
    "print(licenseKeyFormatting(\"5F3Z-2e-9-w\", 4), \"5F3Z-2E9W\")\n",
    "print(licenseKeyFormatting(\"2-5g-3-J\", 2), \"2-5G-3J\")"
   ]
  },
  {
   "cell_type": "markdown",
   "id": "2c286f67",
   "metadata": {},
   "source": [
    "# References\n",
    "<hr style = \"border:2px solid black\" ></hr>"
   ]
  },
  {
   "cell_type": "markdown",
   "id": "0402c0e4",
   "metadata": {},
   "source": [
    "\n",
    "- https://leetcode.com\n",
    "    \n",
""   ]
  },
  {
   "cell_type": "code",
   "execution_count": null,
   "id": "94a8e65c",
   "metadata": {},
   "outputs": [],
   "source": []
  }
 ],
 "metadata": {
  "kernelspec": {
   "display_name": "trainingAI",
   "language": "python",
   "name": "trainingai"
  },
  "language_info": {
   "codemirror_mode": {
    "name": "ipython",
    "version": 3
   },
   "file_extension": ".py",
   "mimetype": "text/x-python",
   "name": "python",
   "nbconvert_exporter": "python",
   "pygments_lexer": "ipython3",
   "version": "3.9.7"
  },
  "toc": {
   "base_numbering": 1,
   "nav_menu": {},
   "number_sections": true,
   "sideBar": true,
   "skip_h1_title": false,
   "title_cell": "Table of Contents",
   "title_sidebar": "Contents",
   "toc_cell": true,
   "toc_position": {
    "height": "calc(100% - 180px)",
    "left": "10px",
    "top": "150px",
    "width": "222px"
   },
   "toc_section_display": true,
   "toc_window_display": true
  },
  "varInspector": {
   "cols": {
    "lenName": 16,
    "lenType": 16,
    "lenVar": 40
   },
   "kernels_config": {
    "python": {
     "delete_cmd_postfix": "",
     "delete_cmd_prefix": "del ",
     "library": "var_list.py",
     "varRefreshCmd": "print(var_dic_list())"
    },
    "r": {
     "delete_cmd_postfix": ") ",
     "delete_cmd_prefix": "rm(",
     "library": "var_list.r",
     "varRefreshCmd": "cat(var_dic_list()) "
    }
   },
   "types_to_exclude": [
    "module",
    "function",
    "builtin_function_or_method",
    "instance",
    "_Feature"
   ],
   "window_display": false
  }
 },
 "nbformat": 4,
 "nbformat_minor": 5
}
