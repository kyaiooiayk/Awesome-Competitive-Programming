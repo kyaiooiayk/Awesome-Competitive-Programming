{
 "cells": [
  {
   "cell_type": "markdown",
   "id": "2459ed2a",
   "metadata": {
    "toc": true
   },
   "source": [
    "<h1>Table of Contents<span class=\"tocSkip\"></span></h1>\n",
""   ]
  },
  {
   "cell_type": "markdown",
   "id": "4cb22ddf",
   "metadata": {},
   "source": [
    "# Instruction\n",
    "<hr style = \"border:2px solid black\" ></hr>"
   ]
  },
  {
   "cell_type": "markdown",
   "id": "bd2bf9db",
   "metadata": {},
   "source": [
    "\n",
    "- An ugly number is a positive integer whose prime factors are limited to 2, 3, and 5.\n",
    "- Given an integer n, return true if n is an ugly number.\n",
    "\n",
    "```\n",
    "Example 1:\n",
    "Input: n = 6\n",
    "Output: true\n",
    "Explanation: 6 = 2 × 3\n",
    "\n",
    "Example 2:\n",
    "Input: n = 1\n",
    "Output: true\n",
    "Explanation: 1 has no prime factors, therefore all of its prime factors are limited to 2, 3, and 5.\n",
    "\n",
    "Example 3:\n",
    "Input: n = 14\n",
    "Output: false\n",
    "Explanation: 14 is not ugly since it includes the prime factor 7.\n",
    "```\n",
    "\n",
""   ]
  },
  {
   "cell_type": "markdown",
   "id": "f1daac75",
   "metadata": {},
   "source": [
    "# Start-up code\n",
    "<hr style = \"border:2px solid black\" ></hr>"
   ]
  },
  {
   "cell_type": "code",
   "execution_count": 16,
   "id": "cf0c5e3e",
   "metadata": {
    "ExecuteTime": {
     "end_time": "2023-01-04T12:20:55.005504Z",
     "start_time": "2023-01-04T12:20:55.002348Z"
    }
   },
   "outputs": [
    {
     "name": "stdout",
     "output_type": "stream",
     "text": [
      "None Expected: True\n",
      "None Expected: True\n",
      "None Expected: False\n"
     ]
    }
   ],
   "source": [
    "def isUgly(n: int) -> bool:\n",
    "    return None\n",
    "\n",
    "\n",
    "print(isUgly(6), \"Expected: True\")\n",
    "print(isUgly(1), \"Expected: True\")\n",
    "print(isUgly(14), \"Expected: False\")"
   ]
  },
  {
   "cell_type": "markdown",
   "id": "f483ad6e",
   "metadata": {},
   "source": [
    "# Comments - think before coding!\n",
    "<hr style = \"border:2px solid black\" ></hr>"
   ]
  },
  {
   "cell_type": "markdown",
   "id": "27da5cce",
   "metadata": {},
   "source": [
    "\n",
    "- You must consider the case when `n` is a negative number. \n",
    "- You must consider the case when `n` is equal zero. \n",
    "- If number <= 0 it can not be ugly because 100% it has some (at least one) negative factor not in [2,3,5]\n",
    "- Solution #1 time out because for large number it takes too long. In fact we do not need to use this brute force approach.\n",
    "\n",
""   ]
  },
  {
   "cell_type": "markdown",
   "id": "30ed0591",
   "metadata": {},
   "source": [
    "# Solution #1\n",
    "<hr style = \"border:2px solid black\" ></hr>"
   ]
  },
  {
   "cell_type": "code",
   "execution_count": 40,
   "id": "f49b1c53",
   "metadata": {
    "ExecuteTime": {
     "end_time": "2023-01-04T12:43:05.572021Z",
     "start_time": "2023-01-04T12:43:05.565748Z"
    }
   },
   "outputs": [
    {
     "name": "stdout",
     "output_type": "stream",
     "text": [
      "True Expected: True\n",
      "True Expected: True\n",
      "False Expected: False\n",
      "False Expected: False\n",
      "False Expected False\n"
     ]
    }
   ],
   "source": [
    "def isUgly(n: int) -> bool:\n",
    "\n",
    "    if n <= 0:\n",
    "        return False\n",
    "\n",
    "    def get_prime_number_factor(n):\n",
    "        i = 1\n",
    "\n",
    "        prime_factors = []\n",
    "        while(i <= n):\n",
    "            c = 0\n",
    "            if(n % i == 0):\n",
    "                j = 1\n",
    "                while(j <= i):\n",
    "                    if(i % j == 0):\n",
    "                        c = c + 1\n",
    "                    j = j + 1\n",
    "\n",
    "                if c == 2:\n",
    "                    prime_factors.append(i)\n",
    "            i = i + 1\n",
    "        return prime_factors\n",
    "\n",
    "    prime_factors = get_prime_number_factor(n)\n",
    "\n",
    "    if prime_factors == []:\n",
    "        return True\n",
    "\n",
    "    #print(\"PFs\", prime_factors)\n",
    "    #print([i in [2, 3, 5] for i in prime_factors])\n",
    "\n",
    "    return all([i in [2, 3, 5] for i in prime_factors])\n",
    "\n",
    "\n",
    "print(isUgly(6), \"Expected: True\")\n",
    "print(isUgly(1), \"Expected: True\")\n",
    "print(isUgly(14), \"Expected: False\")\n",
    "print(isUgly(-14), \"Expected: False\")\n",
    "print(isUgly(0), \"Expected False\")"
   ]
  },
  {
   "cell_type": "markdown",
   "id": "90e4fabe",
   "metadata": {},
   "source": [
    "# Solution #2\n",
    "<hr style = \"border:2px solid black\" ></hr>"
   ]
  },
  {
   "cell_type": "markdown",
   "id": "bec95dfe",
   "metadata": {
    "ExecuteTime": {
     "end_time": "2023-01-04T13:03:20.497675Z",
     "start_time": "2023-01-04T13:03:20.494368Z"
    }
   },
   "source": [
    "\n",
    "```\n",
    "26 / 7 (you will get divisor, can be float value) -> 3.7142857142857144\n",
    "26 % 7 (you will get remainder) -> 5 =26-21=26-7*3=26-21=5\n",
    "26 // 7 (you will get divisor, only integer value) -> 3\n",
    "```\n",
    "\n",
""   ]
  },
  {
   "cell_type": "code",
   "execution_count": 72,
   "id": "5bea6065",
   "metadata": {
    "ExecuteTime": {
     "end_time": "2023-01-04T13:05:12.229192Z",
     "start_time": "2023-01-04T13:05:12.224374Z"
    }
   },
   "outputs": [
    {
     "name": "stdout",
     "output_type": "stream",
     "text": [
      "True Expected: True\n",
      "True Expected: True\n",
      "False Expected: False\n",
      "False Expected: False\n",
      "False Expected False\n"
     ]
    }
   ],
   "source": [
    "def isUgly(n: int) -> bool:\n",
    "    if n <= 0:\n",
    "        return False\n",
    "    factors = [5, 3, 2]\n",
    "    for factor in factors:\n",
    "        while n % factor == 0:\n",
    "            #n //= factor\n",
    "            n =n// factor\n",
    "    return n == 1\n",
    "\n",
    "print(isUgly(6), \"Expected: True\")\n",
    "print(isUgly(1), \"Expected: True\")\n",
    "print(isUgly(14), \"Expected: False\")\n",
    "print(isUgly(-14), \"Expected: False\")\n",
    "print(isUgly(0), \"Expected False\")"
   ]
  },
  {
   "cell_type": "markdown",
   "id": "880c499f",
   "metadata": {},
   "source": [
    "# References\n",
    "<hr style = \"border:2px solid black\" ></hr>"
   ]
  },
  {
   "cell_type": "markdown",
   "id": "c80946d1",
   "metadata": {},
   "source": [
    "\n",
    "- [Leetcode](https://www.leetcode.com)\n",
    "- [Find the division remainder of a number](https://stackoverflow.com/questions/5584586/find-the-division-remainder-of-a-number)\n",
    "\n",
""   ]
  },
  {
   "cell_type": "code",
   "execution_count": null,
   "id": "6defccdc",
   "metadata": {},
   "outputs": [],
   "source": []
  }
 ],
 "metadata": {
  "kernelspec": {
   "display_name": "trainingAI",
   "language": "python",
   "name": "trainingai"
  },
  "language_info": {
   "codemirror_mode": {
    "name": "ipython",
    "version": 3
   },
   "file_extension": ".py",
   "mimetype": "text/x-python",
   "name": "python",
   "nbconvert_exporter": "python",
   "pygments_lexer": "ipython3",
   "version": "3.9.7"
  },
  "toc": {
   "base_numbering": 1,
   "nav_menu": {},
   "number_sections": true,
   "sideBar": true,
   "skip_h1_title": false,
   "title_cell": "Table of Contents",
   "title_sidebar": "Contents",
   "toc_cell": true,
   "toc_position": {},
   "toc_section_display": true,
   "toc_window_display": true
  },
  "varInspector": {
   "cols": {
    "lenName": 16,
    "lenType": 16,
    "lenVar": 40
   },
   "kernels_config": {
    "python": {
     "delete_cmd_postfix": "",
     "delete_cmd_prefix": "del ",
     "library": "var_list.py",
     "varRefreshCmd": "print(var_dic_list())"
    },
    "r": {
     "delete_cmd_postfix": ") ",
     "delete_cmd_prefix": "rm(",
     "library": "var_list.r",
     "varRefreshCmd": "cat(var_dic_list()) "
    }
   },
   "types_to_exclude": [
    "module",
    "function",
    "builtin_function_or_method",
    "instance",
    "_Feature"
   ],
   "window_display": false
  }
 },
 "nbformat": 4,
 "nbformat_minor": 5
}
