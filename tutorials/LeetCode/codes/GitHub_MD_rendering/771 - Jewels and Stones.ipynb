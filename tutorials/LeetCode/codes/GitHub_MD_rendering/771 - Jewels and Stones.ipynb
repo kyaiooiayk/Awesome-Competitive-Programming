{
 "cells": [
  {
   "cell_type": "markdown",
   "id": "2459ed2a",
   "metadata": {
    "toc": true
   },
   "source": [
    "<h1>Table of Contents<span class=\"tocSkip\"></span></h1>\n",
""   ]
  },
  {
   "cell_type": "markdown",
   "id": "4cb22ddf",
   "metadata": {},
   "source": [
    "# Instruction\n",
    "<hr style = \"border:2px solid black\" ></hr>"
   ]
  },
  {
   "cell_type": "markdown",
   "id": "bef298f5",
   "metadata": {},
   "source": [
    "\n",
    "- You're given strings jewels representing the types of stones that are jewels, and stones representing the stones you have.\n",
    "- Each character in stones is a type of stone you have. You want to know how many of the stones you have are also jewels.\n",
    "- Letters are case sensitive, so \"a\" is considered a different type of stone from \"A\".  \n",
    "\n",
    "```\n",
    "Example 1:\n",
    "Input: jewels = \"aA\", stones = \"aAAbbbb\"\n",
    "Output: 3\n",
    "\n",
    "Example 2:\n",
    "Input: jewels = \"z\", stones = \"ZZ\"\n",
    "Output: 0\n",
    "```\n",
    "\n",
""   ]
  },
  {
   "cell_type": "markdown",
   "id": "f1daac75",
   "metadata": {},
   "source": [
    "# Start-up code\n",
    "<hr style = \"border:2px solid black\" ></hr>"
   ]
  },
  {
   "cell_type": "code",
   "execution_count": 3,
   "id": "cf0c5e3e",
   "metadata": {
    "ExecuteTime": {
     "end_time": "2023-01-24T08:10:14.833505Z",
     "start_time": "2023-01-24T08:10:14.830380Z"
    },
    "code_folding": []
   },
   "outputs": [
    {
     "name": "stdout",
     "output_type": "stream",
     "text": [
      "None Expected: 3\n"
     ]
    }
   ],
   "source": [
    "def numJewelsInStones(jewels: str, stones: str) -> int:\n",
    "    return None\n",
    "\n",
    "\n",
    "print(numJewelsInStones(\"aA\", \"aAAbbbb\"), \"Expected: 3\")\n",
    "print(numJewelsInStones(\"z\", \"ZZ\"), \"Expected: 0\")"
   ]
  },
  {
   "cell_type": "markdown",
   "id": "9c423446",
   "metadata": {},
   "source": [
    "# Comment - think before coding!\n",
    "<hr style = \"border:2px solid black\" ></hr>"
   ]
  },
  {
   "cell_type": "markdown",
   "id": "a71709d2",
   "metadata": {},
   "source": [
    "\n",
    "- Remember there are specialised built-in method for string.\n",
    "- One of this is `.count()` that returns the number of occurences in the string.\n",
    "\n",
""   ]
  },
  {
   "cell_type": "markdown",
   "id": "f163751a",
   "metadata": {},
   "source": [
    "# Solution #1\n",
    "<hr style = \"border:2px solid black\" ></hr>"
   ]
  },
  {
   "cell_type": "code",
   "execution_count": 10,
   "id": "99fd92f8",
   "metadata": {
    "ExecuteTime": {
     "end_time": "2023-01-24T08:12:39.229585Z",
     "start_time": "2023-01-24T08:12:39.226128Z"
    }
   },
   "outputs": [
    {
     "name": "stdout",
     "output_type": "stream",
     "text": [
      "3 Expected: 3\n",
      "0 Expected: 0\n"
     ]
    }
   ],
   "source": [
    "def numJewelsInStones(jewels: str, stones: str) -> int:\n",
    "    return sum([jewels.count(s_temp) for s_temp in stones])\n",
    "\n",
    "\n",
    "print(numJewelsInStones(\"aA\", \"aAAbbbb\"), \"Expected: 3\")\n",
    "print(numJewelsInStones(\"z\", \"ZZ\"), \"Expected: 0\")"
   ]
  },
  {
   "cell_type": "markdown",
   "id": "364120bc",
   "metadata": {},
   "source": [
    "# References\n",
    "<hr style = \"border:2px solid black\" ></hr>"
   ]
  },
  {
   "cell_type": "markdown",
   "id": "6798661b",
   "metadata": {},
   "source": [
    "\n",
    "- [Leetcode](https://www.leetcode.com)\n",
    "   \n",
""   ]
  },
  {
   "cell_type": "code",
   "execution_count": null,
   "id": "df53caeb",
   "metadata": {},
   "outputs": [],
   "source": []
  }
 ],
 "metadata": {
  "kernelspec": {
   "display_name": "trainingAI",
   "language": "python",
   "name": "trainingai"
  },
  "language_info": {
   "codemirror_mode": {
    "name": "ipython",
    "version": 3
   },
   "file_extension": ".py",
   "mimetype": "text/x-python",
   "name": "python",
   "nbconvert_exporter": "python",
   "pygments_lexer": "ipython3",
   "version": "3.9.7"
  },
  "toc": {
   "base_numbering": 1,
   "nav_menu": {},
   "number_sections": true,
   "sideBar": true,
   "skip_h1_title": false,
   "title_cell": "Table of Contents",
   "title_sidebar": "Contents",
   "toc_cell": true,
   "toc_position": {},
   "toc_section_display": true,
   "toc_window_display": true
  },
  "varInspector": {
   "cols": {
    "lenName": 16,
    "lenType": 16,
    "lenVar": 40
   },
   "kernels_config": {
    "python": {
     "delete_cmd_postfix": "",
     "delete_cmd_prefix": "del ",
     "library": "var_list.py",
     "varRefreshCmd": "print(var_dic_list())"
    },
    "r": {
     "delete_cmd_postfix": ") ",
     "delete_cmd_prefix": "rm(",
     "library": "var_list.r",
     "varRefreshCmd": "cat(var_dic_list()) "
    }
   },
   "types_to_exclude": [
    "module",
    "function",
    "builtin_function_or_method",
    "instance",
    "_Feature"
   ],
   "window_display": false
  }
 },
 "nbformat": 4,
 "nbformat_minor": 5
}
