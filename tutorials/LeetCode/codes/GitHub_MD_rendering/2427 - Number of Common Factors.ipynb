{
 "cells": [
  {
   "cell_type": "markdown",
   "id": "2459ed2a",
   "metadata": {
    "toc": true
   },
   "source": [
    "<h1>Table of Contents<span class=\"tocSkip\"></span></h1>\n",
""   ]
  },
  {
   "cell_type": "markdown",
   "id": "40965ce3",
   "metadata": {},
   "source": [
    "# Description\n",
    "<hr style = \"border:2px solid black\" ></hr>"
   ]
  },
  {
   "cell_type": "markdown",
   "id": "01bf5828",
   "metadata": {},
   "source": [
    "\n",
    "- Given two positive integers a and b, return the number of common factors of a and b.\n",
    "- An integer x is a common factor of a and b if x divides both a and b.\n",
    "    \n",
    "```\n",
    "# Example 1:\n",
    "Input: a = 12, b = 6\n",
    "Output: 4\n",
    "Explanation: The common factors of 12 and 6 are 1, 2, 3, 6.\n",
    "\n",
    "# Example 2:\n",
    "Input: a = 25, b = 30\n",
    "Output: 2\n",
    "Explanation: The common factors of 25 and 30 are 1, 5.\n",
    "\n",
    " \n",
    "```\n",
    " \n",
""   ]
  },
  {
   "cell_type": "markdown",
   "id": "f1daac75",
   "metadata": {},
   "source": [
    "# Start-up code\n",
    "<hr style = \"border:2px solid black\" ></hr>"
   ]
  },
  {
   "cell_type": "code",
   "execution_count": 2,
   "id": "cf0c5e3e",
   "metadata": {
    "ExecuteTime": {
     "end_time": "2023-02-20T09:04:31.433891Z",
     "start_time": "2023-02-20T09:04:31.430659Z"
    }
   },
   "outputs": [
    {
     "name": "stdout",
     "output_type": "stream",
     "text": [
      "None Expected=4\n"
     ]
    }
   ],
   "source": [
    "def commonFactors(a: int, b: int) -> int:\n",
    "\n",
    "    return None\n",
    "\n",
    "\n",
    "print(commonFactors(12, 6), \"Expected=4\")\n",
    "print(commonFactors(25, 30), \"Expected=2\")"
   ]
  },
  {
   "cell_type": "markdown",
   "id": "9c423446",
   "metadata": {},
   "source": [
    "# Comment - think before coding!\n",
    "<hr style = \"border:2px solid black\" ></hr>"
   ]
  },
  {
   "cell_type": "markdown",
   "id": "f208f584",
   "metadata": {},
   "source": [
    "\n",
    "- Avoid unnecessary computations.\n",
    "    \n",
""   ]
  },
  {
   "cell_type": "markdown",
   "id": "df100eae",
   "metadata": {},
   "source": [
    "# Solution #1\n",
    "<hr style = \"border:2px solid black\" ></hr>"
   ]
  },
  {
   "cell_type": "code",
   "execution_count": 30,
   "id": "abb8b8d8",
   "metadata": {
    "ExecuteTime": {
     "end_time": "2023-02-20T09:22:54.697924Z",
     "start_time": "2023-02-20T09:22:54.694738Z"
    }
   },
   "outputs": [],
   "source": [
    "def commonFactors(a: int, b: int) -> int:\n",
    "\n",
    "    # Get the minimum of the two number  and use it to limit the number of search\n",
    "    counter = 0\n",
    "    for i in range(1, min(a, b)+1, 1):\n",
    "        if a % i == 0 and b % i == 0:\n",
    "            counter += 1\n",
    "\n",
    "    return counter"
   ]
  },
  {
   "cell_type": "code",
   "execution_count": 31,
   "id": "68bdb96c",
   "metadata": {
    "ExecuteTime": {
     "end_time": "2023-02-20T09:22:55.330831Z",
     "start_time": "2023-02-20T09:22:55.327784Z"
    }
   },
   "outputs": [
    {
     "name": "stdout",
     "output_type": "stream",
     "text": [
      "4 Expected=4\n",
      "2 Expected=2\n"
     ]
    }
   ],
   "source": [
    "print(commonFactors(12, 6), \"Expected=4\")\n",
    "print(commonFactors(25, 30), \"Expected=2\")"
   ]
  },
  {
   "cell_type": "markdown",
   "id": "089e311c",
   "metadata": {},
   "source": [
    "# Solution #2\n",
    "<hr style = \"border:2px solid black\" ></hr>"
   ]
  },
  {
   "cell_type": "code",
   "execution_count": 25,
   "id": "599da0aa",
   "metadata": {
    "ExecuteTime": {
     "end_time": "2023-02-20T09:16:48.157193Z",
     "start_time": "2023-02-20T09:16:48.154430Z"
    }
   },
   "outputs": [],
   "source": [
    "def commonFactors(a: int, b: int) -> int:\n",
    "    # List comprehension\n",
    "    return sum(a % n == 0 and b % n == 0 for n in range(1, min(a, b) + 1))"
   ]
  },
  {
   "cell_type": "code",
   "execution_count": 26,
   "id": "2a2e4110",
   "metadata": {
    "ExecuteTime": {
     "end_time": "2023-02-20T09:16:52.630756Z",
     "start_time": "2023-02-20T09:16:52.627730Z"
    }
   },
   "outputs": [
    {
     "name": "stdout",
     "output_type": "stream",
     "text": [
      "4 Expected=4\n",
      "2 Expected=2\n"
     ]
    }
   ],
   "source": [
    "print(commonFactors(12, 6), \"Expected=4\")\n",
    "print(commonFactors(25, 30), \"Expected=2\")"
   ]
  },
  {
   "cell_type": "markdown",
   "id": "802b5891",
   "metadata": {},
   "source": [
    "# Solution #3\n",
    "<hr style = \"border:2px solid black\" ></hr>"
   ]
  },
  {
   "cell_type": "code",
   "execution_count": 42,
   "id": "7f7672e7",
   "metadata": {
    "ExecuteTime": {
     "end_time": "2023-02-20T09:32:38.011477Z",
     "start_time": "2023-02-20T09:32:38.008205Z"
    }
   },
   "outputs": [],
   "source": [
    "import math\n",
    "\n",
    "\n",
    "def commonFactors(a: int, b: int) -> int:\n",
    "    # greatest common divisor, this saves a lot of computation compared to min(a,b)\n",
    "    g = math.gcd(a, b)\n",
    "    print(math.gcd(a, b), min(a,b))\n",
    "    return sum(1 if g % k == 0 else 0 for k in range(1, g+1))"
   ]
  },
  {
   "cell_type": "code",
   "execution_count": 43,
   "id": "11aae349",
   "metadata": {
    "ExecuteTime": {
     "end_time": "2023-02-20T09:32:38.383549Z",
     "start_time": "2023-02-20T09:32:38.380684Z"
    }
   },
   "outputs": [
    {
     "name": "stdout",
     "output_type": "stream",
     "text": [
      "6 6\n",
      "4 Expected=4\n",
      "5 25\n",
      "2 Expected=2\n"
     ]
    }
   ],
   "source": [
    "print(commonFactors(12, 6), \"Expected=4\")\n",
    "print(commonFactors(25, 30), \"Expected=2\")"
   ]
  },
  {
   "cell_type": "markdown",
   "id": "2c286f67",
   "metadata": {},
   "source": [
    "# References\n",
    "<hr style = \"border:2px solid black\" ></hr>"
   ]
  },
  {
   "cell_type": "markdown",
   "id": "0402c0e4",
   "metadata": {},
   "source": [
    "\n",
    "- https://leetcode.com\n",
    "\n",
""   ]
  },
  {
   "cell_type": "code",
   "execution_count": null,
   "id": "94a8e65c",
   "metadata": {},
   "outputs": [],
   "source": []
  }
 ],
 "metadata": {
  "kernelspec": {
   "display_name": "trainingAI",
   "language": "python",
   "name": "trainingai"
  },
  "language_info": {
   "codemirror_mode": {
    "name": "ipython",
    "version": 3
   },
   "file_extension": ".py",
   "mimetype": "text/x-python",
   "name": "python",
   "nbconvert_exporter": "python",
   "pygments_lexer": "ipython3",
   "version": "3.9.7"
  },
  "toc": {
   "base_numbering": 1,
   "nav_menu": {},
   "number_sections": true,
   "sideBar": true,
   "skip_h1_title": false,
   "title_cell": "Table of Contents",
   "title_sidebar": "Contents",
   "toc_cell": true,
   "toc_position": {
    "height": "calc(100% - 180px)",
    "left": "10px",
    "top": "150px",
    "width": "222px"
   },
   "toc_section_display": true,
   "toc_window_display": true
  },
  "varInspector": {
   "cols": {
    "lenName": 16,
    "lenType": 16,
    "lenVar": 40
   },
   "kernels_config": {
    "python": {
     "delete_cmd_postfix": "",
     "delete_cmd_prefix": "del ",
     "library": "var_list.py",
     "varRefreshCmd": "print(var_dic_list())"
    },
    "r": {
     "delete_cmd_postfix": ") ",
     "delete_cmd_prefix": "rm(",
     "library": "var_list.r",
     "varRefreshCmd": "cat(var_dic_list()) "
    }
   },
   "types_to_exclude": [
    "module",
    "function",
    "builtin_function_or_method",
    "instance",
    "_Feature"
   ],
   "window_display": false
  }
 },
 "nbformat": 4,
 "nbformat_minor": 5
}
