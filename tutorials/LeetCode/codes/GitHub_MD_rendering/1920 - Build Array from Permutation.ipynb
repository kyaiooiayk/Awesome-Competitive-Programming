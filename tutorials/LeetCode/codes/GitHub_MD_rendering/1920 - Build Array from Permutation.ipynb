{
 "cells": [
  {
   "cell_type": "markdown",
   "id": "2459ed2a",
   "metadata": {
    "toc": true
   },
   "source": [
    "<h1>Table of Contents<span class=\"tocSkip\"></span></h1>\n",
""   ]
  },
  {
   "cell_type": "markdown",
   "id": "40965ce3",
   "metadata": {},
   "source": [
    "# Description\n",
    "<hr style = \"border:2px solid black\" ></hr>"
   ]
  },
  {
   "cell_type": "markdown",
   "id": "9e5bbb3e",
   "metadata": {},
   "source": [
    "\n",
    "- Given a zero-based permutation nums (0-indexed), build an array ans of the same length where ans[i] = nums[nums[i]] for each 0 <= i < nums.length and return it.\n",
    "- A **zero-based permutation** nums is an array of distinct integers from 0 to nums.length - 1 (inclusive).\n",
    "\n",
    "```\n",
    "Example 1:\n",
    "Input: nums = [0,2,1,5,3,4]\n",
    "Output: [0,1,2,4,5,3]\n",
    "Explanation: The array ans is built as follows: \n",
    "ans = [nums[nums[0]], nums[nums[1]], nums[nums[2]], nums[nums[3]], nums[nums[4]], nums[nums[5]]]\n",
    "    = [nums[0], nums[2], nums[1], nums[5], nums[3], nums[4]]\n",
    "    = [0,1,2,4,5,3]\n",
    "\n",
    "Example 2:\n",
    "Input: nums = [5,0,1,2,3,4]\n",
    "Output: [4,5,0,1,2,3]\n",
    "Explanation: The array ans is built as follows:\n",
    "ans = [nums[nums[0]], nums[nums[1]], nums[nums[2]], nums[nums[3]], nums[nums[4]], nums[nums[5]]]\n",
    "    = [nums[5], nums[0], nums[1], nums[2], nums[3], nums[4]]\n",
    "    = [4,5,0,1,2,3]\n",
    "```\n",
    "    \n",
""   ]
  },
  {
   "cell_type": "markdown",
   "id": "f1daac75",
   "metadata": {},
   "source": [
    "# Start-up code\n",
    "<hr style = \"border:2px solid black\" ></hr>"
   ]
  },
  {
   "cell_type": "code",
   "execution_count": 4,
   "id": "cf0c5e3e",
   "metadata": {
    "ExecuteTime": {
     "end_time": "2023-01-16T09:04:40.448173Z",
     "start_time": "2023-01-16T09:04:40.444149Z"
    }
   },
   "outputs": [
    {
     "name": "stdout",
     "output_type": "stream",
     "text": [
      "None Expected=: [0,1,2,4,5,3]\n",
      "None Expected=: [4,5,0,1,2,3]\n"
     ]
    }
   ],
   "source": [
    "def buildArray(nums: list[int]) -> list[int]:\n",
    "    return None\n",
    "\n",
    "print(buildArray([0,2,1,5,3,4]), \"Expected=: [0,1,2,4,5,3]\")\n",
    "print(buildArray([5,0,1,2,3,4]), \"Expected=: [4,5,0,1,2,3]\")\n"
   ]
  },
  {
   "cell_type": "markdown",
   "id": "9c423446",
   "metadata": {},
   "source": [
    "# Comment - think before coding!\n",
    "<hr style = \"border:2px solid black\" ></hr>"
   ]
  },
  {
   "cell_type": "markdown",
   "id": "06f4ee02",
   "metadata": {},
   "source": [
    "\n",
    "- **zero-based array** is just a fancy way to say that if we were to use the value of the list as indeces, we would not run out of element to retrieve.\n",
    "\n",
""   ]
  },
  {
   "cell_type": "markdown",
   "id": "559af330",
   "metadata": {},
   "source": [
    "# Solution #1\n",
    "<hr style = \"border:2px solid black\" ></hr>"
   ]
  },
  {
   "cell_type": "code",
   "execution_count": 20,
   "id": "064033a7",
   "metadata": {
    "ExecuteTime": {
     "end_time": "2023-01-16T09:11:50.896243Z",
     "start_time": "2023-01-16T09:11:50.891679Z"
    }
   },
   "outputs": [
    {
     "name": "stdout",
     "output_type": "stream",
     "text": [
      "[0, 1, 2, 4, 5, 3] Expected=: [0,1,2,4,5,3]\n",
      "[4, 5, 0, 1, 2, 3] Expected=: [4,5,0,1,2,3]\n"
     ]
    }
   ],
   "source": [
    "def buildArray(nums: list[int]) -> list[int]:\n",
    "\n",
    "    return [nums[value] for i, value in enumerate(nums)]\n",
    "\n",
    "print(buildArray([0, 2, 1, 5, 3, 4]), \"Expected=: [0,1,2,4,5,3]\")\n",
    "print(buildArray([5, 0, 1, 2, 3, 4]), \"Expected=: [4,5,0,1,2,3]\")"
   ]
  },
  {
   "cell_type": "markdown",
   "id": "6db0a0a7",
   "metadata": {},
   "source": [
    "# Solution #2\n",
    "<hr style = \"border:2px solid black\" ></hr>"
   ]
  },
  {
   "cell_type": "code",
   "execution_count": 22,
   "id": "c66a1a62",
   "metadata": {
    "ExecuteTime": {
     "end_time": "2023-01-16T09:17:41.532150Z",
     "start_time": "2023-01-16T09:17:41.527665Z"
    }
   },
   "outputs": [
    {
     "name": "stdout",
     "output_type": "stream",
     "text": [
      "[0, 1, 2, 4, 5, 3] Expected=: [0,1,2,4,5,3]\n",
      "[4, 5, 0, 1, 2, 3] Expected=: [4,5,0,1,2,3]\n"
     ]
    }
   ],
   "source": [
    "def buildArray(nums: list[int]) -> list[int]:\n",
    "    \n",
    "    # will not use extra space because it's a generator\n",
    "    return list(nums[i] for i in nums)\n",
    "\n",
    "\n",
    "print(buildArray([0, 2, 1, 5, 3, 4]), \"Expected=: [0,1,2,4,5,3]\")\n",
    "print(buildArray([5, 0, 1, 2, 3, 4]), \"Expected=: [4,5,0,1,2,3]\")"
   ]
  },
  {
   "cell_type": "markdown",
   "id": "2c286f67",
   "metadata": {},
   "source": [
    "# References\n",
    "<hr style = \"border:2px solid black\" ></hr>"
   ]
  },
  {
   "cell_type": "markdown",
   "id": "70294f99",
   "metadata": {},
   "source": [
    "\n",
    "- [LeetCode](www.leetcode.com)\n",
    "\n",
""   ]
  },
  {
   "cell_type": "code",
   "execution_count": null,
   "id": "59ee41dd",
   "metadata": {},
   "outputs": [],
   "source": []
  }
 ],
 "metadata": {
  "kernelspec": {
   "display_name": "trainingAI",
   "language": "python",
   "name": "trainingai"
  },
  "language_info": {
   "codemirror_mode": {
    "name": "ipython",
    "version": 3
   },
   "file_extension": ".py",
   "mimetype": "text/x-python",
   "name": "python",
   "nbconvert_exporter": "python",
   "pygments_lexer": "ipython3",
   "version": "3.9.7"
  },
  "toc": {
   "base_numbering": 1,
   "nav_menu": {},
   "number_sections": true,
   "sideBar": true,
   "skip_h1_title": false,
   "title_cell": "Table of Contents",
   "title_sidebar": "Contents",
   "toc_cell": true,
   "toc_position": {},
   "toc_section_display": true,
   "toc_window_display": true
  },
  "varInspector": {
   "cols": {
    "lenName": 16,
    "lenType": 16,
    "lenVar": 40
   },
   "kernels_config": {
    "python": {
     "delete_cmd_postfix": "",
     "delete_cmd_prefix": "del ",
     "library": "var_list.py",
     "varRefreshCmd": "print(var_dic_list())"
    },
    "r": {
     "delete_cmd_postfix": ") ",
     "delete_cmd_prefix": "rm(",
     "library": "var_list.r",
     "varRefreshCmd": "cat(var_dic_list()) "
    }
   },
   "types_to_exclude": [
    "module",
    "function",
    "builtin_function_or_method",
    "instance",
    "_Feature"
   ],
   "window_display": false
  }
 },
 "nbformat": 4,
 "nbformat_minor": 5
}
