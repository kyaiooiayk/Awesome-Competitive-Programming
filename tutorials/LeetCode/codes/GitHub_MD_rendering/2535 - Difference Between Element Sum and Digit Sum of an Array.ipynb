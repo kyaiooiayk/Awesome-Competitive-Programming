{
 "cells": [
  {
   "cell_type": "markdown",
   "id": "2459ed2a",
   "metadata": {
    "toc": true
   },
   "source": [
    "<h1>Table of Contents<span class=\"tocSkip\"></span></h1>\n",
""   ]
  },
  {
   "cell_type": "markdown",
   "id": "4cb22ddf",
   "metadata": {},
   "source": [
    "# Instruction\n",
    "<hr style = \"border:2px solid black\" ></hr>"
   ]
  },
  {
   "cell_type": "markdown",
   "id": "bef298f5",
   "metadata": {},
   "source": [
    "\n",
    "- You are given a positive integer array nums.\n",
    "- The element sum is the sum of all the elements in nums.\n",
    "- The digit sum is the sum of all the digits (not necessarily distinct) that appear in nums.\n",
    "- Return the absolute difference between the element sum and digit sum of nums.\n",
    "- Note that the absolute difference between two integers x and y is defined as |x - y|.\n",
    "\n",
    "```\n",
    "Example 1:\n",
    "Input: nums = [1,15,6,3]\n",
    "Output: 9\n",
    "Explanation: \n",
    "The element sum of nums is 1 + 15 + 6 + 3 = 25.\n",
    "The digit sum of nums is 1 + 1 + 5 + 6 + 3 = 16.\n",
    "The absolute difference between the element sum and digit sum is |25 - 16| = 9.\n",
    "\n",
    "Example 2:\n",
    "Input: nums = [1,2,3,4]\n",
    "Output: 0\n",
    "Explanation:\n",
    "The element sum of nums is 1 + 2 + 3 + 4 = 10.\n",
    "The digit sum of nums is 1 + 2 + 3 + 4 = 10.\n",
    "The absolute difference between the element sum and digit sum is |10 - 10| = 0.\n",
    "```\n",
    "\n",
""   ]
  },
  {
   "cell_type": "markdown",
   "id": "f1daac75",
   "metadata": {},
   "source": [
    "# Start-up code\n",
    "<hr style = \"border:2px solid black\" ></hr>"
   ]
  },
  {
   "cell_type": "code",
   "execution_count": 3,
   "id": "cf0c5e3e",
   "metadata": {
    "ExecuteTime": {
     "end_time": "2023-01-17T16:21:11.400869Z",
     "start_time": "2023-01-17T16:21:11.396742Z"
    }
   },
   "outputs": [
    {
     "name": "stdout",
     "output_type": "stream",
     "text": [
      "None Expected: 9\n"
     ]
    }
   ],
   "source": [
    "def differenceOfSum(nums: list[int]) -> int:\n",
    "    return None\n",
    "\n",
    "\n",
    "print(differenceOfSum([1,15,6,3]), \"Expected: 9\")\n"
   ]
  },
  {
   "cell_type": "markdown",
   "id": "9c423446",
   "metadata": {},
   "source": [
    "# Comment - think before coding!\n",
    "<hr style = \"border:2px solid black\" ></hr>"
   ]
  },
  {
   "cell_type": "markdown",
   "id": "a71709d2",
   "metadata": {},
   "source": [
    "\n",
    "- Keep in mind that `list(\"23\")` will split the digit for you!\n",
    "\n",
""   ]
  },
  {
   "cell_type": "code",
   "execution_count": 25,
   "id": "cf5e66fb",
   "metadata": {
    "ExecuteTime": {
     "end_time": "2023-01-17T16:33:22.109554Z",
     "start_time": "2023-01-17T16:33:22.105314Z"
    }
   },
   "outputs": [
    {
     "data": {
      "text/plain": [
       "['2', '3']"
      ]
     },
     "execution_count": 25,
     "metadata": {},
     "output_type": "execute_result"
    }
   ],
   "source": [
    "list(\"23\")"
   ]
  },
  {
   "cell_type": "markdown",
   "id": "f163751a",
   "metadata": {},
   "source": [
    "# Solution #1\n",
    "<hr style = \"border:2px solid black\" ></hr>"
   ]
  },
  {
   "cell_type": "code",
   "execution_count": 21,
   "id": "f49b1c53",
   "metadata": {
    "ExecuteTime": {
     "end_time": "2023-01-17T16:28:42.324555Z",
     "start_time": "2023-01-17T16:28:42.319525Z"
    },
    "cell_style": "center"
   },
   "outputs": [
    {
     "name": "stdout",
     "output_type": "stream",
     "text": [
      "9 Expected: 9\n",
      "0 Expected: 0\n"
     ]
    }
   ],
   "source": [
    "import numpy as np\n",
    "def differenceOfSum(nums: list[int]) -> int:\n",
    "    a = np.sum([i for i in nums])\n",
    "    b= np.sum([int(j) for i in nums for j in list(str(i))])\n",
    "    return abs(a-b)\n",
    "\n",
    "\n",
    "print(differenceOfSum([1,15,6,3]), \"Expected: 9\")\n",
    "print(differenceOfSum([1,2,3,4]), \"Expected: 0\")"
   ]
  },
  {
   "cell_type": "markdown",
   "id": "0cf21112",
   "metadata": {
    "ExecuteTime": {
     "end_time": "2023-01-17T16:30:59.653848Z",
     "start_time": "2023-01-17T16:30:59.650134Z"
    }
   },
   "source": [
    "# Solution #2\n",
    "<hr style = \"border:2px solid black\" ></hr>"
   ]
  },
  {
   "cell_type": "code",
   "execution_count": 24,
   "id": "717bbcec",
   "metadata": {
    "ExecuteTime": {
     "end_time": "2023-01-17T16:31:16.983689Z",
     "start_time": "2023-01-17T16:31:16.979255Z"
    }
   },
   "outputs": [
    {
     "name": "stdout",
     "output_type": "stream",
     "text": [
      "9 Expected: 9\n",
      "0 Expected: 0\n"
     ]
    }
   ],
   "source": [
    "def differenceOfSum(nums: list[int]) -> int:\n",
    "\n",
    "    digitSum = sum((map(int, list(''.join(map(str, nums))))))\n",
    "\n",
    "    return sum(nums) - digitSum\n",
    "\n",
    "\n",
    "print(differenceOfSum([1, 15, 6, 3]), \"Expected: 9\")\n",
    "print(differenceOfSum([1, 2, 3, 4]), \"Expected: 0\")"
   ]
  },
  {
   "cell_type": "markdown",
   "id": "364120bc",
   "metadata": {},
   "source": [
    "# References\n",
    "<hr style = \"border:2px solid black\" ></hr>"
   ]
  },
  {
   "cell_type": "markdown",
   "id": "79460adc",
   "metadata": {},
   "source": [
    "\n",
    "- [TestDome home page](https://www.testdome.com/tests/python-online-test/45)\n",
    "- [Solution #2](https://github.com/jozo/testdome-python-solutions/blob/master/07_two_sum.py)\n",
    "- [Two sum leet code explained!](https://siteinvokers.com/two-sum-leet-code/)\n",
    "- [Hash map](https://www.geeksforgeeks.org/hash-map-in-python/)\n",
    "   \n",
""   ]
  }
 ],
 "metadata": {
  "kernelspec": {
   "display_name": "trainingAI",
   "language": "python",
   "name": "trainingai"
  },
  "language_info": {
   "codemirror_mode": {
    "name": "ipython",
    "version": 3
   },
   "file_extension": ".py",
   "mimetype": "text/x-python",
   "name": "python",
   "nbconvert_exporter": "python",
   "pygments_lexer": "ipython3",
   "version": "3.9.7"
  },
  "toc": {
   "base_numbering": 1,
   "nav_menu": {},
   "number_sections": true,
   "sideBar": true,
   "skip_h1_title": false,
   "title_cell": "Table of Contents",
   "title_sidebar": "Contents",
   "toc_cell": true,
   "toc_position": {},
   "toc_section_display": true,
   "toc_window_display": true
  },
  "varInspector": {
   "cols": {
    "lenName": 16,
    "lenType": 16,
    "lenVar": 40
   },
   "kernels_config": {
    "python": {
     "delete_cmd_postfix": "",
     "delete_cmd_prefix": "del ",
     "library": "var_list.py",
     "varRefreshCmd": "print(var_dic_list())"
    },
    "r": {
     "delete_cmd_postfix": ") ",
     "delete_cmd_prefix": "rm(",
     "library": "var_list.r",
     "varRefreshCmd": "cat(var_dic_list()) "
    }
   },
   "types_to_exclude": [
    "module",
    "function",
    "builtin_function_or_method",
    "instance",
    "_Feature"
   ],
   "window_display": false
  }
 },
 "nbformat": 4,
 "nbformat_minor": 5
}
