{
 "cells": [
  {
   "cell_type": "markdown",
   "id": "2459ed2a",
   "metadata": {
    "toc": true
   },
   "source": [
    "<h1>Table of Contents<span class=\"tocSkip\"></span></h1>\n",
""   ]
  },
  {
   "cell_type": "markdown",
   "id": "4cb22ddf",
   "metadata": {},
   "source": [
    "# Instruction\n",
    "<hr style = \"border:2px solid black\" ></hr>"
   ]
  },
  {
   "cell_type": "markdown",
   "id": "bef298f5",
   "metadata": {},
   "source": [
    "\n",
    "- Given an array nums. We define a running sum of an array as `runningSum[i] = sum(nums[0]…nums[i])`.\n",
    "- Return the running sum of nums.\n",
    "    \n",
    "```\n",
    "Example 1:\n",
    "Input: nums = [1,2,3,4]\n",
    "Output: [1,3,6,10]\n",
    "Explanation: Running sum is obtained as follows: [1, 1+2, 1+2+3, 1+2+3+4].\n",
    "\n",
    "Example 2:\n",
    "Input: nums = [1,1,1,1,1]\n",
    "Output: [1,2,3,4,5]\n",
    "Explanation: Running sum is obtained as follows: [1, 1+1, 1+1+1, 1+1+1+1, 1+1+1+1+1].\n",
    "```\n",
    "\n",
""   ]
  },
  {
   "cell_type": "markdown",
   "id": "f1daac75",
   "metadata": {},
   "source": [
    "# Start-up code\n",
    "<hr style = \"border:2px solid black\" ></hr>"
   ]
  },
  {
   "cell_type": "code",
   "execution_count": 27,
   "id": "cf0c5e3e",
   "metadata": {
    "ExecuteTime": {
     "end_time": "2023-01-22T12:06:02.413664Z",
     "start_time": "2023-01-22T12:06:02.409439Z"
    },
    "code_folding": []
   },
   "outputs": [
    {
     "name": "stdout",
     "output_type": "stream",
     "text": [
      "None Expected: [1,3,6,10]\n",
      "None Expected: [1,2,3,4,5]\n"
     ]
    }
   ],
   "source": [
    "from typing import List\n",
    "def runningSum(nums: List[int]) -> List[int]:\n",
    "    return None\n",
    "\n",
    "\n",
    "print(runningSum([1,2,3,4]), \"Expected: [1,3,6,10]\")\n",
    "print(runningSum([1, 1, 1, 1]), \"Expected: [1,2,3,4,5]\")"
   ]
  },
  {
   "cell_type": "markdown",
   "id": "9c423446",
   "metadata": {},
   "source": [
    "# Comment - think before coding!\n",
    "<hr style = \"border:2px solid black\" ></hr>"
   ]
  },
  {
   "cell_type": "markdown",
   "id": "a71709d2",
   "metadata": {},
   "source": [
    "\n",
    "- None\n",
    "\n",
""   ]
  },
  {
   "cell_type": "markdown",
   "id": "f163751a",
   "metadata": {},
   "source": [
    "# Solution #1\n",
    "<hr style = \"border:2px solid black\" ></hr>"
   ]
  },
  {
   "cell_type": "code",
   "execution_count": 26,
   "id": "9e9163f4",
   "metadata": {
    "ExecuteTime": {
     "end_time": "2023-01-22T12:05:24.579369Z",
     "start_time": "2023-01-22T12:05:24.574725Z"
    }
   },
   "outputs": [
    {
     "name": "stdout",
     "output_type": "stream",
     "text": [
      "[1, 3, 6, 10] Expected: [1,3,6,10]\n",
      "[1, 2, 3, 4] Expected: [1,2,3,4,5]\n"
     ]
    }
   ],
   "source": [
    "from typing import List\n",
    "\n",
    "\n",
    "def runningSum(nums: List[int]) -> List[int]:\n",
    "    a = 0\n",
    "    b = []\n",
    "    for i in nums:\n",
    "        a += i\n",
    "        b.append(a)\n",
    "\n",
    "    return b\n",
    "\n",
    "\n",
    "print(runningSum([1, 2, 3, 4]), \"Expected: [1,3,6,10]\")\n",
    "print(runningSum([1, 1, 1, 1]), \"Expected: [1,2,3,4,5]\")"
   ]
  },
  {
   "cell_type": "markdown",
   "id": "ae50a20f",
   "metadata": {},
   "source": [
    "# Solution #2\n",
    "<hr style = \"border:2px solid black\" ></hr>"
   ]
  },
  {
   "cell_type": "code",
   "execution_count": 24,
   "id": "144e190b",
   "metadata": {
    "ExecuteTime": {
     "end_time": "2023-01-22T12:05:15.593259Z",
     "start_time": "2023-01-22T12:05:15.589218Z"
    }
   },
   "outputs": [
    {
     "name": "stdout",
     "output_type": "stream",
     "text": [
      "[1, 3, 6, 10] Expected: [1,3,6,10]\n",
      "[1, 2, 3, 4] Expected: [1,2,3,4,5]\n"
     ]
    }
   ],
   "source": [
    "from typing import List\n",
    "\n",
    "\n",
    "def runningSum(nums: List[int]) -> List[int]:\n",
    "    return [sum(nums[:i+1]) for i in range(len(nums))]\n",
    "\n",
    "\n",
    "print(runningSum([1, 2, 3, 4]), \"Expected: [1,3,6,10]\")\n",
    "print(runningSum([1, 1, 1, 1]), \"Expected: [1,2,3,4,5]\")"
   ]
  },
  {
   "cell_type": "markdown",
   "id": "e7cdedad",
   "metadata": {},
   "source": [
    "# Solution #3\n",
    "<hr style = \"border:2px solid black\" ></hr>"
   ]
  },
  {
   "cell_type": "code",
   "execution_count": 25,
   "id": "2917e946",
   "metadata": {
    "ExecuteTime": {
     "end_time": "2023-01-22T12:05:20.742978Z",
     "start_time": "2023-01-22T12:05:20.738531Z"
    }
   },
   "outputs": [
    {
     "name": "stdout",
     "output_type": "stream",
     "text": [
      "[1, 3, 6, 10] Expected: [1,3,6,10]\n",
      "[1, 2, 3, 4] Expected: [1,2,3,4,5]\n"
     ]
    }
   ],
   "source": [
    "from itertools import accumulate\n",
    "\n",
    "from typing import List\n",
    "\n",
    "\n",
    "def runningSum(nums: List[int]) -> List[int]:\n",
    "    return list(accumulate(nums))\n",
    "\n",
    "\n",
    "print(runningSum([1, 2, 3, 4]), \"Expected: [1,3,6,10]\")\n",
    "print(runningSum([1, 1, 1, 1]), \"Expected: [1,2,3,4,5]\")"
   ]
  },
  {
   "cell_type": "markdown",
   "id": "364120bc",
   "metadata": {},
   "source": [
    "# References\n",
    "<hr style = \"border:2px solid black\" ></hr>"
   ]
  },
  {
   "cell_type": "markdown",
   "id": "6798661b",
   "metadata": {},
   "source": [
    "\n",
    "- [Leetcode](https://www.leetcode.com)\n",
    "   \n",
""   ]
  },
  {
   "cell_type": "code",
   "execution_count": null,
   "id": "df53caeb",
   "metadata": {},
   "outputs": [],
   "source": []
  }
 ],
 "metadata": {
  "kernelspec": {
   "display_name": "trainingAI",
   "language": "python",
   "name": "trainingai"
  },
  "language_info": {
   "codemirror_mode": {
    "name": "ipython",
    "version": 3
   },
   "file_extension": ".py",
   "mimetype": "text/x-python",
   "name": "python",
   "nbconvert_exporter": "python",
   "pygments_lexer": "ipython3",
   "version": "3.9.7"
  },
  "toc": {
   "base_numbering": 1,
   "nav_menu": {},
   "number_sections": true,
   "sideBar": true,
   "skip_h1_title": false,
   "title_cell": "Table of Contents",
   "title_sidebar": "Contents",
   "toc_cell": true,
   "toc_position": {},
   "toc_section_display": true,
   "toc_window_display": true
  },
  "varInspector": {
   "cols": {
    "lenName": 16,
    "lenType": 16,
    "lenVar": 40
   },
   "kernels_config": {
    "python": {
     "delete_cmd_postfix": "",
     "delete_cmd_prefix": "del ",
     "library": "var_list.py",
     "varRefreshCmd": "print(var_dic_list())"
    },
    "r": {
     "delete_cmd_postfix": ") ",
     "delete_cmd_prefix": "rm(",
     "library": "var_list.r",
     "varRefreshCmd": "cat(var_dic_list()) "
    }
   },
   "types_to_exclude": [
    "module",
    "function",
    "builtin_function_or_method",
    "instance",
    "_Feature"
   ],
   "window_display": false
  }
 },
 "nbformat": 4,
 "nbformat_minor": 5
}
