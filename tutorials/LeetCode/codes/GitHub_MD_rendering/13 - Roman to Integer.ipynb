{
 "cells": [
  {
   "cell_type": "markdown",
   "id": "2459ed2a",
   "metadata": {
    "toc": true
   },
   "source": [
    "<h1>Table of Contents<span class=\"tocSkip\"></span></h1>\n",
""   ]
  },
  {
   "cell_type": "markdown",
   "id": "4cb22ddf",
   "metadata": {},
   "source": [
    "# Instruction\n",
    "<hr style = \"border:2px solid black\" ></hr>"
   ]
  },
  {
   "cell_type": "markdown",
   "id": "fcfa9bfd",
   "metadata": {},
   "source": [
    "\n",
    "-Roman numerals are represented by seven different symbols: I, V, X, L, C, D and M.\n",
    "```\n",
    "Symbol       Value\n",
    "I             1\n",
    "V             5\n",
    "X             10\n",
    "L             50\n",
    "C             100\n",
    "D             500\n",
    "M             1000\n",
    "```\n",
    "- For example, 2 is written as II in Roman numeral, just two ones added together. 12 is written as XII, which is simply X + II. The number 27 is written as XXVII, which is XX + V + II.\n",
    "- Roman numerals are usually written largest to smallest from left to right. However, the numeral for four is not IIII. Instead, the number four is written as IV. Because the one is before the five we subtract it making four. The same principle applies to the number nine, which is written as IX.\n",
    "- There are six instances where subtraction is used:\n",
    "    - I can be placed before V (5) and X (10) to make 4 and 9. \n",
    "    - X can be placed before L (50) and C (100) to make 40 and 90. \n",
    "    - C can be placed before D (500) and M (1000) to make 400 and 900.\n",
    "- Given a roman numeral, convert it to an integer.\n",
    "\n",
""   ]
  },
  {
   "cell_type": "markdown",
   "id": "f1daac75",
   "metadata": {},
   "source": [
    "# Start-up code\n",
    "<hr style = \"border:2px solid black\" ></hr>"
   ]
  },
  {
   "cell_type": "code",
   "execution_count": 1,
   "id": "cf0c5e3e",
   "metadata": {
    "ExecuteTime": {
     "end_time": "2022-12-29T07:39:38.926546Z",
     "start_time": "2022-12-29T07:39:38.921920Z"
    }
   },
   "outputs": [
    {
     "name": "stdout",
     "output_type": "stream",
     "text": [
      "None Expected: 3\n",
      "None Expected: 58\n",
      "None Expected: 1994\n"
     ]
    }
   ],
   "source": [
    "def romanToInt(s: str) -> int:\n",
    "    return None\n",
    "\n",
    "print(romanToInt(\"III\"), \"Expected: 3\")\n",
    "print(romanToInt(\"LVIII\"), \"Expected: 58\")\n",
    "print(romanToInt(\"MCMXCIV\"), \"Expected: 1994\")"
   ]
  },
  {
   "cell_type": "markdown",
   "id": "9c423446",
   "metadata": {},
   "source": [
    "# Comment - think before coding!\n",
    "<hr style = \"border:2px solid black\" ></hr>"
   ]
  },
  {
   "cell_type": "markdown",
   "id": "8c54f1f0",
   "metadata": {},
   "source": [
    "\n",
    "- There are only **6** special cases, anything outside this falls back to general rule of summing the value associated to each letter.\n",
    "\n",
""   ]
  },
  {
   "cell_type": "markdown",
   "id": "f163751a",
   "metadata": {},
   "source": [
    "# Solution #1\n",
    "<hr style = \"border:2px solid black\" ></hr>"
   ]
  },
  {
   "cell_type": "code",
   "execution_count": 2,
   "id": "79cd014c",
   "metadata": {
    "ExecuteTime": {
     "end_time": "2022-12-29T07:39:38.934523Z",
     "start_time": "2022-12-29T07:39:38.928523Z"
    }
   },
   "outputs": [],
   "source": [
    "def romanToInt(s: str) -> int:\n",
    "\n",
    "    # Edge cases -> staight to return\n",
    "    if len(s) == 0:\n",
    "        return 0\n",
    "\n",
    "    roman = \"I V X L C D M\".split()\n",
    "    decimal = [1, 5, 10, 50, 100, 500, 1000]\n",
    "\n",
    "    roman_to_decimal = zip(roman, decimal)\n",
    "\n",
    "    dict_roman = dict(roman_to_decimal)\n",
    "    \n",
    "    \n",
    "    sum = 0\n",
    "\n",
    "    # Loop while considering the 6 listed edge cases\n",
    "    for i in range(0, len(s)):\n",
    "        # Cases for 4 and 9\n",
    "        if (s[i-1:i+1] in \"IV IX\".split()):\n",
    "            sum = sum - 2\n",
    "\n",
    "        # Cases for 40 and 90\n",
    "        elif (s[i-1:i+1] in \"XL XC\".split()):\n",
    "            sum = sum - 20\n",
    "\n",
    "        # Case for 400 and 900\n",
    "        elif (s[i-1:i+1] in \"CD CM\".split()):\n",
    "            sum = sum - 200\n",
    "        \n",
    "        # in all other cases\n",
    "        sum = sum + dict_roman[s[i]]\n",
    "\n",
    "    return sum"
   ]
  },
  {
   "cell_type": "code",
   "execution_count": 3,
   "id": "963f7c2c",
   "metadata": {
    "ExecuteTime": {
     "end_time": "2022-12-29T07:39:38.941439Z",
     "start_time": "2022-12-29T07:39:38.937572Z"
    }
   },
   "outputs": [
    {
     "name": "stdout",
     "output_type": "stream",
     "text": [
      "3 Expected: 3\n",
      "58 Expected: 58\n",
      "1994 Expected: 1994\n"
     ]
    }
   ],
   "source": [
    "print(romanToInt(\"III\"), \"Expected: 3\")\n",
    "print(romanToInt(\"LVIII\"), \"Expected: 58\")\n",
    "print(romanToInt(\"MCMXCIV\"), \"Expected: 1994\")"
   ]
  },
  {
   "cell_type": "markdown",
   "id": "364120bc",
   "metadata": {},
   "source": [
    "# References\n",
    "<hr style = \"border:2px solid black\" ></hr>"
   ]
  },
  {
   "cell_type": "markdown",
   "id": "0cf3c0eb",
   "metadata": {},
   "source": [
    "\n",
    "- [Leetcode](www.leetcode.come)\n",
    "\n",
""   ]
  },
  {
   "cell_type": "code",
   "execution_count": null,
   "id": "0643bd01",
   "metadata": {},
   "outputs": [],
   "source": []
  }
 ],
 "metadata": {
  "kernelspec": {
   "display_name": "trainingAI",
   "language": "python",
   "name": "trainingai"
  },
  "language_info": {
   "codemirror_mode": {
    "name": "ipython",
    "version": 3
   },
   "file_extension": ".py",
   "mimetype": "text/x-python",
   "name": "python",
   "nbconvert_exporter": "python",
   "pygments_lexer": "ipython3",
   "version": "3.9.7"
  },
  "toc": {
   "base_numbering": 1,
   "nav_menu": {},
   "number_sections": true,
   "sideBar": true,
   "skip_h1_title": false,
   "title_cell": "Table of Contents",
   "title_sidebar": "Contents",
   "toc_cell": true,
   "toc_position": {},
   "toc_section_display": true,
   "toc_window_display": true
  },
  "varInspector": {
   "cols": {
    "lenName": 16,
    "lenType": 16,
    "lenVar": 40
   },
   "kernels_config": {
    "python": {
     "delete_cmd_postfix": "",
     "delete_cmd_prefix": "del ",
     "library": "var_list.py",
     "varRefreshCmd": "print(var_dic_list())"
    },
    "r": {
     "delete_cmd_postfix": ") ",
     "delete_cmd_prefix": "rm(",
     "library": "var_list.r",
     "varRefreshCmd": "cat(var_dic_list()) "
    }
   },
   "types_to_exclude": [
    "module",
    "function",
    "builtin_function_or_method",
    "instance",
    "_Feature"
   ],
   "window_display": false
  }
 },
 "nbformat": 4,
 "nbformat_minor": 5
}
