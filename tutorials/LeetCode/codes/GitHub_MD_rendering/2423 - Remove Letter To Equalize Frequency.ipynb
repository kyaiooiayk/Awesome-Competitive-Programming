{
 "cells": [
  {
   "cell_type": "markdown",
   "id": "2459ed2a",
   "metadata": {
    "toc": true
   },
   "source": [
    "<h1>Table of Contents<span class=\"tocSkip\"></span></h1>\n",
""   ]
  },
  {
   "cell_type": "markdown",
   "id": "4cb22ddf",
   "metadata": {},
   "source": [
    "# Instruction\n",
    "<hr style = \"border:2px solid black\" ></hr>"
   ]
  },
  {
   "cell_type": "markdown",
   "id": "80ed27ee",
   "metadata": {},
   "source": [
    "\n",
    "- You are given a 0-indexed string word, consisting of lowercase English letters. You need to select one index and remove the letter at that index from word so that the frequency of every letter present in word is equal.\n",
    "- Return true if it is possible to remove one letter so that the frequency of all letters in word are equal, and false otherwise.\n",
    "- Note:\n",
    "    - The frequency of a letter x is the number of times it occurs in the string.\n",
    "    - You must remove exactly one letter and cannot chose to do nothing.\n",
    "\n",
    "\n",
    "```\n",
    "Example 1:\n",
    "Input: word = \"abcc\"\n",
    "Output: true\n",
    "Explanation: Select index 3 and delete it: word becomes \"abc\" and each character has a frequency of 1.\n",
    "\n",
    "Example 2:\n",
    "Input: word = \"aazz\"\n",
    "Output: false\n",
    "Explanation: We must delete a character, so either the frequency of \"a\" is 1 and the frequency of \"z\" is 2, or vice versa. It is impossible to make all present letters have equal frequency.\n",
    "```\n",
    "\n",
""   ]
  },
  {
   "cell_type": "markdown",
   "id": "f1daac75",
   "metadata": {},
   "source": [
    "# Start-up code\n",
    "<hr style = \"border:2px solid black\" ></hr>"
   ]
  },
  {
   "cell_type": "code",
   "execution_count": 2,
   "id": "cf0c5e3e",
   "metadata": {
    "ExecuteTime": {
     "end_time": "2023-01-30T13:13:33.868659Z",
     "start_time": "2023-01-30T13:13:33.864890Z"
    }
   },
   "outputs": [
    {
     "name": "stdout",
     "output_type": "stream",
     "text": [
      "None =True\n",
      "None =False\n"
     ]
    }
   ],
   "source": [
    "def equalFrequency(word: str) -> bool:\n",
    "\n",
    "    return None\n",
    "\n",
    "print(equalFrequency(\"abcc\"), \"=True\")\n",
    "print(equalFrequency(\"aazz\"), \"=False\")"
   ]
  },
  {
   "cell_type": "markdown",
   "id": "9c423446",
   "metadata": {},
   "source": [
    "# Comment - think before coding!\n",
    "<hr style = \"border:2px solid black\" ></hr>"
   ]
  },
  {
   "cell_type": "markdown",
   "id": "90eebf5b",
   "metadata": {},
   "source": [
    "\n",
    "- You can only remove **one** letter. This means it make sense to check the frequency for each word first.\n",
    "- It is **not** said that there'll always be at least one letter which frequency is higher than 1.\n",
    "- Write your own test function so to help visualise all the edge cases.\n",
    "    \n",
""   ]
  },
  {
   "cell_type": "markdown",
   "id": "f163751a",
   "metadata": {},
   "source": [
    "# Solution #1\n",
    "<hr style = \"border:2px solid black\" ></hr>"
   ]
  },
  {
   "cell_type": "code",
   "execution_count": 203,
   "id": "bd9319c1",
   "metadata": {
    "ExecuteTime": {
     "end_time": "2023-01-30T15:09:41.134936Z",
     "start_time": "2023-01-30T15:09:41.131090Z"
    }
   },
   "outputs": [],
   "source": [
    "from collections import Counter\n",
    "\n",
    "\n",
    "def equalFrequency(word: str) -> bool:\n",
    "\n",
    "    # Create a dict word to freq\n",
    "    dict_word_count = dict(Counter(list(word)))\n",
    "\n",
    "    # Loop trhough each word\n",
    "    for word_temp in dict_word_count:\n",
    "\n",
    "        word_ = list(word)\n",
    "\n",
    "        # Give the list of the first element, even if there are more than one!\n",
    "        index = list(word).index(word_temp)\n",
    "\n",
    "        # Remove one value\n",
    "        word_.pop(index)\n",
    "\n",
    "        # Count again the words and see if the have the same frequency\n",
    "        if len(set(Counter(word_).values())) == 1:\n",
    "            return True\n",
    "\n",
    "    return False"
   ]
  },
  {
   "cell_type": "code",
   "execution_count": 204,
   "id": "709ddf88",
   "metadata": {
    "ExecuteTime": {
     "end_time": "2023-01-30T15:09:41.726536Z",
     "start_time": "2023-01-30T15:09:41.722290Z"
    }
   },
   "outputs": [
    {
     "name": "stdout",
     "output_type": "stream",
     "text": [
      "True =True\n",
      "False =False\n",
      "True =True\n",
      "True =True\n",
      "True =True\n",
      "False =False\n",
      "True =True\n"
     ]
    }
   ],
   "source": [
    "print(equalFrequency(\"abcc\"), \"=True\")\n",
    "print(equalFrequency(\"aazz\"), \"=False\")\n",
    "print(equalFrequency(\"bac\"), \"=True\")\n",
    "print(equalFrequency(\"zz\"), \"=True\")\n",
    "print(equalFrequency(\"cccaa\"), \"=True\")\n",
    "print(equalFrequency(\"ddaccb\"), \"=False\")\n",
    "print(equalFrequency(\"abbcc\"), \"=True\")"
   ]
  },
  {
   "cell_type": "markdown",
   "id": "3fd86389",
   "metadata": {},
   "source": [
    "# References\n",
    "<hr style = \"border:2px solid black\" ></hr>"
   ]
  },
  {
   "cell_type": "markdown",
   "id": "d18a4645",
   "metadata": {},
   "source": [
    "\n",
    "- [Leetcode](www.leetcode.com)\n",
    "\n",
""   ]
  },
  {
   "cell_type": "code",
   "execution_count": null,
   "id": "3c63e8ba",
   "metadata": {},
   "outputs": [],
   "source": []
  }
 ],
 "metadata": {
  "kernelspec": {
   "display_name": "trainingAI",
   "language": "python",
   "name": "trainingai"
  },
  "language_info": {
   "codemirror_mode": {
    "name": "ipython",
    "version": 3
   },
   "file_extension": ".py",
   "mimetype": "text/x-python",
   "name": "python",
   "nbconvert_exporter": "python",
   "pygments_lexer": "ipython3",
   "version": "3.9.7"
  },
  "toc": {
   "base_numbering": 1,
   "nav_menu": {},
   "number_sections": true,
   "sideBar": true,
   "skip_h1_title": false,
   "title_cell": "Table of Contents",
   "title_sidebar": "Contents",
   "toc_cell": true,
   "toc_position": {},
   "toc_section_display": true,
   "toc_window_display": true
  },
  "varInspector": {
   "cols": {
    "lenName": 16,
    "lenType": 16,
    "lenVar": 40
   },
   "kernels_config": {
    "python": {
     "delete_cmd_postfix": "",
     "delete_cmd_prefix": "del ",
     "library": "var_list.py",
     "varRefreshCmd": "print(var_dic_list())"
    },
    "r": {
     "delete_cmd_postfix": ") ",
     "delete_cmd_prefix": "rm(",
     "library": "var_list.r",
     "varRefreshCmd": "cat(var_dic_list()) "
    }
   },
   "types_to_exclude": [
    "module",
    "function",
    "builtin_function_or_method",
    "instance",
    "_Feature"
   ],
   "window_display": false
  }
 },
 "nbformat": 4,
 "nbformat_minor": 5
}
