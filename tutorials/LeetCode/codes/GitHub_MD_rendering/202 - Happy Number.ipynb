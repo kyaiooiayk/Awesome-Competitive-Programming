{
 "cells": [
  {
   "cell_type": "markdown",
   "id": "2459ed2a",
   "metadata": {
    "toc": true
   },
   "source": [
    "<h1>Table of Contents<span class=\"tocSkip\"></span></h1>\n",
""   ]
  },
  {
   "cell_type": "markdown",
   "id": "4cb22ddf",
   "metadata": {},
   "source": [
    "# Instruction\n",
    "<hr style = \"border:2px solid black\" ></hr>"
   ]
  },
  {
   "cell_type": "markdown",
   "id": "c48272b7",
   "metadata": {},
   "source": [
    "\n",
    "- Write an algorithm to determine if a number n is happy.\n",
    "- A happy number is a number defined by the following process:\n",
    "    - Starting with any positive integer, replace the number by the sum of the squares of its digits.\n",
    "    - Repeat the process until the number equals 1 (where it will stay), or it loops endlessly in a cycle which does not include 1.\n",
    "    - Those numbers for which this process ends in 1 are happy.\n",
    "- Return true if n is a happy number, and false if not. \n",
    "\n",
    "```\n",
    "Example 1:\n",
    "Input: n = 19\n",
    "Output: true\n",
    "Explanation:\n",
    "1^2 + 9^2 = 82\n",
    "8^2 + 2^2 = 68\n",
    "6^2 + 8^2 = 100\n",
    "1^2 + 0^2 + 0^2 = 1\n",
    "\n",
    "Example 2:\n",
    "Input: n = 2\n",
    "Output: false\n",
    "```\n",
    "\n",
""   ]
  },
  {
   "cell_type": "markdown",
   "id": "f1daac75",
   "metadata": {},
   "source": [
    "# Start-up code\n",
    "<hr style = \"border:2px solid black\" ></hr>"
   ]
  },
  {
   "cell_type": "code",
   "execution_count": 1,
   "id": "cf0c5e3e",
   "metadata": {
    "ExecuteTime": {
     "end_time": "2022-12-31T08:30:22.745715Z",
     "start_time": "2022-12-31T08:30:22.741801Z"
    }
   },
   "outputs": [
    {
     "name": "stdout",
     "output_type": "stream",
     "text": [
      "None Expected: True\n",
      "None Expected: False\n"
     ]
    }
   ],
   "source": [
    "def isHappy(n: int) -> bool:\n",
    "    return None\n",
    "\n",
    "\n",
    "print(isHappy(19), \"Expected: True\")\n",
    "print(isHappy(11), \"Expected: False\")\n",
    "print(isHappy(1111111), \"Expected: True\")\n",
    "print(isHappy(2), \"Expected: False\")"
   ]
  },
  {
   "cell_type": "markdown",
   "id": "f483ad6e",
   "metadata": {},
   "source": [
    "# Comments - think before coding!\n",
    "<hr style = \"border:2px solid black\" ></hr>"
   ]
  },
  {
   "cell_type": "markdown",
   "id": "83f816e5",
   "metadata": {},
   "source": [
    "\n",
    "- The description talks about looping endlessly, which is a warning that a naive implementation may keep on looping.\n",
    "- Nevertheless the fact the it either return True or False, means it has to stop somewhere.\n",
    "- The smallest number fed into the algorithm is 1, so there is no need to check for negative number of for an input equal zero.\n",
    "\n",
""   ]
  },
  {
   "cell_type": "markdown",
   "id": "6a300232",
   "metadata": {},
   "source": [
    "# Solution #1\n",
    "<hr style = \"border:2px solid black\" ></hr>"
   ]
  },
  {
   "cell_type": "code",
   "execution_count": 86,
   "id": "e72bd82b",
   "metadata": {
    "ExecuteTime": {
     "end_time": "2022-12-31T09:40:34.534237Z",
     "start_time": "2022-12-31T09:40:34.528134Z"
    }
   },
   "outputs": [
    {
     "name": "stdout",
     "output_type": "stream",
     "text": [
      "True Expected: True\n",
      "False Expected: False\n",
      "True Expected: True\n",
      "False Expected: False\n"
     ]
    }
   ],
   "source": [
    "import numpy as np\n",
    "\n",
    "def isHappy(n: int) -> bool:\n",
    "\n",
    "    str_ = str(n)\n",
    "    squared = 1.e6\n",
    "    len_ = 1.e6\n",
    "\n",
    "    seen = set()\n",
    "    # keep on looping as long as squared >1 and squared in not seen\n",
    "    while squared > 1:\n",
    "        squared = np.sum(np.array([int(i)**2 for i in str_]))\n",
    "        #print(squared, seen)\n",
    "        \n",
    "        \n",
    "        str_ = str(squared)\n",
    "        len_ = len(str_)\n",
    "        \n",
    "        if squared in seen:\n",
    "            return False\n",
    "        seen.add(squared)\n",
    "        \n",
    "    return squared == 1\n",
    "\n",
    "print(isHappy(19), \"Expected: True\")\n",
    "print(isHappy(11), \"Expected: False\")\n",
    "print(isHappy(1111111), \"Expected: True\")\n",
    "print(isHappy(2), \"Expected: False\")"
   ]
  },
  {
   "cell_type": "markdown",
   "id": "1327f2d9",
   "metadata": {},
   "source": [
    "# Solution #2\n",
    "<hr style = \"border:2px solid black\" ></hr>"
   ]
  },
  {
   "cell_type": "code",
   "execution_count": 89,
   "id": "e1891504",
   "metadata": {
    "ExecuteTime": {
     "end_time": "2022-12-31T09:58:45.342065Z",
     "start_time": "2022-12-31T09:58:45.336529Z"
    }
   },
   "outputs": [
    {
     "name": "stdout",
     "output_type": "stream",
     "text": [
      "True Expected: True\n",
      "False Expected: False\n",
      "True Expected: True\n",
      "False Expected: False\n"
     ]
    }
   ],
   "source": [
    "import numpy as np\n",
    "\n",
    "\n",
    "def isHappy(n: int) -> bool:\n",
    "\n",
    "    for i in range(6):\n",
    "        n = sum([int(i)*int(i) for i in str(n)])\n",
    "        if n == 1:\n",
    "            return True\n",
    "    return False\n",
    "\n",
    "\n",
    "print(isHappy(19), \"Expected: True\")\n",
    "print(isHappy(11), \"Expected: False\")\n",
    "print(isHappy(1111111), \"Expected: True\")\n",
    "print(isHappy(2), \"Expected: False\")"
   ]
  },
  {
   "cell_type": "markdown",
   "id": "364120bc",
   "metadata": {},
   "source": [
    "# References\n",
    "<hr style = \"border:2px solid black\" ></hr>"
   ]
  },
  {
   "cell_type": "markdown",
   "id": "372fcd5e",
   "metadata": {},
   "source": [
    "\n",
    "- [Leetcode](https://www.leetcode.com)\n",
    "\n",
""   ]
  },
  {
   "cell_type": "code",
   "execution_count": null,
   "id": "6defccdc",
   "metadata": {},
   "outputs": [],
   "source": []
  },
  {
   "cell_type": "code",
   "execution_count": null,
   "id": "27a31c01",
   "metadata": {},
   "outputs": [],
   "source": []
  }
 ],
 "metadata": {
  "kernelspec": {
   "display_name": "trainingAI",
   "language": "python",
   "name": "trainingai"
  },
  "language_info": {
   "codemirror_mode": {
    "name": "ipython",
    "version": 3
   },
   "file_extension": ".py",
   "mimetype": "text/x-python",
   "name": "python",
   "nbconvert_exporter": "python",
   "pygments_lexer": "ipython3",
   "version": "3.9.7"
  },
  "toc": {
   "base_numbering": 1,
   "nav_menu": {},
   "number_sections": true,
   "sideBar": true,
   "skip_h1_title": false,
   "title_cell": "Table of Contents",
   "title_sidebar": "Contents",
   "toc_cell": true,
   "toc_position": {},
   "toc_section_display": true,
   "toc_window_display": true
  },
  "varInspector": {
   "cols": {
    "lenName": 16,
    "lenType": 16,
    "lenVar": 40
   },
   "kernels_config": {
    "python": {
     "delete_cmd_postfix": "",
     "delete_cmd_prefix": "del ",
     "library": "var_list.py",
     "varRefreshCmd": "print(var_dic_list())"
    },
    "r": {
     "delete_cmd_postfix": ") ",
     "delete_cmd_prefix": "rm(",
     "library": "var_list.r",
     "varRefreshCmd": "cat(var_dic_list()) "
    }
   },
   "types_to_exclude": [
    "module",
    "function",
    "builtin_function_or_method",
    "instance",
    "_Feature"
   ],
   "window_display": false
  }
 },
 "nbformat": 4,
 "nbformat_minor": 5
}
