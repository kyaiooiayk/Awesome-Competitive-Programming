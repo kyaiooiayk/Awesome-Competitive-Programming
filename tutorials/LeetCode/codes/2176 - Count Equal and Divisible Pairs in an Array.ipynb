{
 "cells": [
  {
   "cell_type": "markdown",
   "id": "2459ed2a",
   "metadata": {
    "toc": true
   },
   "source": [
    "<h1>Table of Contents<span class=\"tocSkip\"></span></h1>\n",
    "<div class=\"toc\"><ul class=\"toc-item\"><li><span><a href=\"#Description\" data-toc-modified-id=\"Description-1\"><span class=\"toc-item-num\">1&nbsp;&nbsp;</span>Description</a></span></li><li><span><a href=\"#Start-up-code\" data-toc-modified-id=\"Start-up-code-2\"><span class=\"toc-item-num\">2&nbsp;&nbsp;</span>Start-up code</a></span></li><li><span><a href=\"#Comment---think-before-coding!\" data-toc-modified-id=\"Comment---think-before-coding!-3\"><span class=\"toc-item-num\">3&nbsp;&nbsp;</span>Comment - think before coding!</a></span></li><li><span><a href=\"#Solution-#1\" data-toc-modified-id=\"Solution-#1-4\"><span class=\"toc-item-num\">4&nbsp;&nbsp;</span>Solution #1</a></span></li><li><span><a href=\"#References\" data-toc-modified-id=\"References-5\"><span class=\"toc-item-num\">5&nbsp;&nbsp;</span>References</a></span></li></ul></div>"
   ]
  },
  {
   "cell_type": "markdown",
   "id": "40965ce3",
   "metadata": {},
   "source": [
    "# Description\n",
    "<hr style = \"border:2px solid black\" ></hr>"
   ]
  },
  {
   "cell_type": "markdown",
   "id": "01bf5828",
   "metadata": {},
   "source": [
    "<div class=\"alert alert-warning\">\n",
    "<font color=black>\n",
    "\n",
    "- Given a 0-indexed integer array nums of length n and an integer `k`, return the number of pairs `(i, j)` where `0 <= i < j < n`, such that `nums[i] == nums[j]` and `(i * j)` is divisible by `k`. \n",
    "    \n",
    "```\n",
    "# Example 1:\n",
    "Input: nums = [3,1,2,2,2,1,3], k = 2\n",
    "Output: 4\n",
    "Explanation:\n",
    "There are 4 pairs that meet all the requirements:\n",
    "- nums[0] == nums[6], and 0 * 6 == 0, which is divisible by 2.\n",
    "- nums[2] == nums[3], and 2 * 3 == 6, which is divisible by 2.\n",
    "- nums[2] == nums[4], and 2 * 4 == 8, which is divisible by 2.\n",
    "- nums[3] == nums[4], and 3 * 4 == 12, which is divisible by 2.\n",
    "\n",
    "# Example 2:\n",
    "Input: nums = [1,2,3,4], k = 1\n",
    "Output: 0\n",
    "Explanation: Since no value in nums is repeated, there are no pairs (i,j) that meet all the requirements.\n",
    "\n",
    "```\n",
    " \n",
    "</font>\n",
    "</div>"
   ]
  },
  {
   "cell_type": "markdown",
   "id": "f1daac75",
   "metadata": {},
   "source": [
    "# Start-up code\n",
    "<hr style = \"border:2px solid black\" ></hr>"
   ]
  },
  {
   "cell_type": "code",
   "execution_count": 7,
   "id": "cf0c5e3e",
   "metadata": {
    "ExecuteTime": {
     "end_time": "2023-02-21T12:32:07.903045Z",
     "start_time": "2023-02-21T12:32:07.898752Z"
    }
   },
   "outputs": [
    {
     "name": "stdout",
     "output_type": "stream",
     "text": [
      "None Expected=4\n",
      "None Expected=0\n"
     ]
    }
   ],
   "source": [
    "from typing import List\n",
    "def countPairs(nums: List[int], k: int) -> int:\n",
    "\n",
    "    return None\n",
    "\n",
    "\n",
    "print(countPairs([3,1,2,2,2,1,3], 2), \"Expected=4\")\n",
    "print(countPairs([1,2,3,4], 1), \"Expected=0\")"
   ]
  },
  {
   "cell_type": "markdown",
   "id": "9c423446",
   "metadata": {},
   "source": [
    "# Comment - think before coding!\n",
    "<hr style = \"border:2px solid black\" ></hr>"
   ]
  },
  {
   "cell_type": "markdown",
   "id": "f208f584",
   "metadata": {},
   "source": [
    "<div class=\"alert alert-info\">\n",
    "<font color=black>\n",
    "\n",
    "- The trick here is to remember that combinations, will return all the tuple (i,j) where i <j!\n",
    "    \n",
    "</font>\n",
    "</div>"
   ]
  },
  {
   "cell_type": "markdown",
   "id": "df100eae",
   "metadata": {},
   "source": [
    "# Solution #1\n",
    "<hr style = \"border:2px solid black\" ></hr>"
   ]
  },
  {
   "cell_type": "code",
   "execution_count": 43,
   "id": "280e523a",
   "metadata": {
    "ExecuteTime": {
     "end_time": "2023-02-21T12:40:54.029810Z",
     "start_time": "2023-02-21T12:40:54.026027Z"
    }
   },
   "outputs": [],
   "source": [
    "from typing import List\n",
    "\n",
    "\n",
    "def countPairs(nums: List[int], k: int) -> int:\n",
    "    \"\"\"\n",
    "    return the number of pairs (i, j) where 0 <= i < j < n, \n",
    "    such that nums[i] == nums[j]\n",
    "    (i * j) is divisible by k. \n",
    "    \"\"\"\n",
    "    \n",
    "    # all parts (i,j) so that i<j\n",
    "    comb = list(combinations(range(len(nums)), 2))\n",
    "    \n",
    "    # all pair where nums[i] == nums[j]\n",
    "    pair_eq_val = [(i,j) for i,j in comb if nums[i] == nums[j]]\n",
    "\n",
    "    # return the sum of all pai where (i * j) is divisible by k\n",
    "    return sum([ 1 for i,j in pair_eq_val if (i*j)%k==0])"
   ]
  },
  {
   "cell_type": "code",
   "execution_count": 44,
   "id": "55a86585",
   "metadata": {
    "ExecuteTime": {
     "end_time": "2023-02-21T12:40:54.371474Z",
     "start_time": "2023-02-21T12:40:54.368255Z"
    }
   },
   "outputs": [
    {
     "name": "stdout",
     "output_type": "stream",
     "text": [
      "4 Expected=4\n",
      "0 Expected=0\n"
     ]
    }
   ],
   "source": [
    "print(countPairs([3,1,2,2,2,1,3], 2), \"Expected=4\")\n",
    "print(countPairs([1,2,3,4], 1), \"Expected=0\")"
   ]
  },
  {
   "cell_type": "markdown",
   "id": "2c286f67",
   "metadata": {},
   "source": [
    "# References\n",
    "<hr style = \"border:2px solid black\" ></hr>"
   ]
  },
  {
   "cell_type": "markdown",
   "id": "0402c0e4",
   "metadata": {},
   "source": [
    "<div class=\"alert alert-warning\">\n",
    "<font color=black>\n",
    "\n",
    "- https://leetcode.com\n",
    "\n",
    "</font>\n",
    "</div>"
   ]
  },
  {
   "cell_type": "code",
   "execution_count": null,
   "id": "94a8e65c",
   "metadata": {},
   "outputs": [],
   "source": []
  }
 ],
 "metadata": {
  "kernelspec": {
   "display_name": "trainingAI",
   "language": "python",
   "name": "trainingai"
  },
  "language_info": {
   "codemirror_mode": {
    "name": "ipython",
    "version": 3
   },
   "file_extension": ".py",
   "mimetype": "text/x-python",
   "name": "python",
   "nbconvert_exporter": "python",
   "pygments_lexer": "ipython3",
   "version": "3.9.7"
  },
  "toc": {
   "base_numbering": 1,
   "nav_menu": {},
   "number_sections": true,
   "sideBar": true,
   "skip_h1_title": false,
   "title_cell": "Table of Contents",
   "title_sidebar": "Contents",
   "toc_cell": true,
   "toc_position": {
    "height": "calc(100% - 180px)",
    "left": "10px",
    "top": "150px",
    "width": "222px"
   },
   "toc_section_display": true,
   "toc_window_display": true
  },
  "varInspector": {
   "cols": {
    "lenName": 16,
    "lenType": 16,
    "lenVar": 40
   },
   "kernels_config": {
    "python": {
     "delete_cmd_postfix": "",
     "delete_cmd_prefix": "del ",
     "library": "var_list.py",
     "varRefreshCmd": "print(var_dic_list())"
    },
    "r": {
     "delete_cmd_postfix": ") ",
     "delete_cmd_prefix": "rm(",
     "library": "var_list.r",
     "varRefreshCmd": "cat(var_dic_list()) "
    }
   },
   "types_to_exclude": [
    "module",
    "function",
    "builtin_function_or_method",
    "instance",
    "_Feature"
   ],
   "window_display": false
  }
 },
 "nbformat": 4,
 "nbformat_minor": 5
}
