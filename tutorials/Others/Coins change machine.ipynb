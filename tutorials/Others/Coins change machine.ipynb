{
 "cells": [
  {
   "cell_type": "markdown",
   "id": "b6216b16",
   "metadata": {
    "toc": true
   },
   "source": [
    "<h1>Table of Contents<span class=\"tocSkip\"></span></h1>\n",
    "<div class=\"toc\"><ul class=\"toc-item\"><li><span><a href=\"#Introduction\" data-toc-modified-id=\"Introduction-1\"><span class=\"toc-item-num\">1&nbsp;&nbsp;</span>Introduction</a></span></li><li><span><a href=\"#Instruction\" data-toc-modified-id=\"Instruction-2\"><span class=\"toc-item-num\">2&nbsp;&nbsp;</span>Instruction</a></span></li><li><span><a href=\"#Extra\" data-toc-modified-id=\"Extra-3\"><span class=\"toc-item-num\">3&nbsp;&nbsp;</span>Extra</a></span></li><li><span><a href=\"#Execution-instructions\" data-toc-modified-id=\"Execution-instructions-4\"><span class=\"toc-item-num\">4&nbsp;&nbsp;</span>Execution instructions</a></span></li><li><span><a href=\"#Observation\" data-toc-modified-id=\"Observation-5\"><span class=\"toc-item-num\">5&nbsp;&nbsp;</span>Observation</a></span></li><li><span><a href=\"#Helper-functions\" data-toc-modified-id=\"Helper-functions-6\"><span class=\"toc-item-num\">6&nbsp;&nbsp;</span>Helper functions</a></span></li><li><span><a href=\"#Main\" data-toc-modified-id=\"Main-7\"><span class=\"toc-item-num\">7&nbsp;&nbsp;</span>Main</a></span></li><li><span><a href=\"#Solutions\" data-toc-modified-id=\"Solutions-8\"><span class=\"toc-item-num\">8&nbsp;&nbsp;</span>Solutions</a></span><ul class=\"toc-item\"><li><span><a href=\"#£0-5\" data-toc-modified-id=\"£0-5-8.1\"><span class=\"toc-item-num\">8.1&nbsp;&nbsp;</span>£0-5</a></span></li><li><span><a href=\"#£0-50\" data-toc-modified-id=\"£0-50-8.2\"><span class=\"toc-item-num\">8.2&nbsp;&nbsp;</span>£0-50</a></span></li><li><span><a href=\"#£2-0\" data-toc-modified-id=\"£2-0-8.3\"><span class=\"toc-item-num\">8.3&nbsp;&nbsp;</span>£2-0</a></span></li><li><span><a href=\"#£10-0---too-long\" data-toc-modified-id=\"£10-0---too-long-8.4\"><span class=\"toc-item-num\">8.4&nbsp;&nbsp;</span>£10-0 - too long</a></span></li><li><span><a href=\"#£100-0---too-long\" data-toc-modified-id=\"£100-0---too-long-8.5\"><span class=\"toc-item-num\">8.5&nbsp;&nbsp;</span>£100-0 - too long</a></span></li></ul></li></ul></div>"
   ]
  },
  {
   "cell_type": "markdown",
   "id": "2e53260e",
   "metadata": {},
   "source": [
    "# Introduction\n",
    "<hr style=\"border:2px solid black\"> </hr>"
   ]
  },
  {
   "cell_type": "markdown",
   "id": "d533f877",
   "metadata": {},
   "source": [
    "**What?** Coin change machine"
   ]
  },
  {
   "cell_type": "markdown",
   "id": "f67b0f7b",
   "metadata": {},
   "source": [
    "# Instruction\n",
    "<hr style=\"border:2px solid black\"> </hr>"
   ]
  },
  {
   "cell_type": "markdown",
   "id": "12e95ce9",
   "metadata": {},
   "source": [
    "- You are asked to write a coin change algorithm for a new coin machine, which accepts any amount of notes or coins, and dispensing equal value of coins for change.\n",
    "- The coins available in this machine are:\n",
    "    - Two Pounds\n",
    "    - One Pound\n",
    "    - 50 Pence\n",
    "    - 20 Pence\n",
    "    - 10 Pence\n",
    "    - 5 Pence\n",
    "    - 2 Pence \n",
    "    - 1 Pence. \n",
    "- The quantity of each type of coin is unlimited.\n",
    "Write a function in Python, which computes solutions of coin combination. The order of coins does not matter.\n",
    "Input: a STRING represents money value in below format:\n",
    "£{Pound}-{Pence}\n",
    "For Example, £2-30\n",
    "Output: The number of solutions, which has odd coin count.\n",
    "\n",
    "```\n",
    "For Example\n",
    "£0-5 can be changed to below\n",
    "[£0-1, £0-1, £0-1, £0-1, £0-1]\n",
    "[£0-1, £0-1, £0-1, £0-2]\n",
    "[£0-1, £0-2, £0-2]\n",
    "{£0-5}\n",
    "Therefore, the Output for £0-5 must be 3.\n",
    "```\n",
    "\n",
    "- Compute follow inputs: £0-50, £2-, £10-\n",
    "\n"
   ]
  },
  {
   "cell_type": "markdown",
   "id": "5177272c",
   "metadata": {},
   "source": [
    "# Observation\n",
    "<hr style=\"border:2px solid black\"> </hr>"
   ]
  },
  {
   "cell_type": "markdown",
   "id": "43e21c99",
   "metadata": {},
   "source": [
    "- **Obeservation #1**:\n",
    "    - £2-30 -> must be understood as 2 pound and 30 pence\n",
    "    - £2-3 -> must be understood as 2 pound and 3 pence and not as `£2.3`!\n",
    "- **Observation #2**:\n",
    "    - Output: The number of solutions, which has odd coin count.\n",
    "    - This means the output is an integer which tell the user how many option he/she has in terms of odd coins coiunt."
   ]
  },
  {
   "cell_type": "markdown",
   "id": "7329eafa",
   "metadata": {
    "ExecuteTime": {
     "end_time": "2023-01-31T12:38:32.067528Z",
     "start_time": "2023-01-31T12:38:32.064108Z"
    }
   },
   "source": [
    "# Helper functions\n",
    "<hr style=\"border:2px solid black\"> </hr>"
   ]
  },
  {
   "cell_type": "markdown",
   "id": "ba3588cc",
   "metadata": {
    "ExecuteTime": {
     "end_time": "2023-02-05T15:36:38.212972Z",
     "start_time": "2023-02-05T15:36:38.207586Z"
    }
   },
   "source": [
    "- The algorithm implemented follows this intuition:\n",
    "    \n",
    "```\n",
    "£0-5 can be changed to below\n",
    "[£0-1, £0-1, £0-1, £0-1, £0-1] 5/1 -> 5 which is max number of times 1 penny can be use to construct that list\n",
    "[£0-1, £0-1, £0-1, £0-2] 5/2 = 2.5 -> 2\n",
    "[£0-1, £0-2, £0-2] 5/2 = 2.5 -> 2\n",
    "{£0-5} 5/5 = 1\n",
    "```\n",
    "- An equation is then built to check for `50*n+20*m+10*l+5*k+2*j+1*i == target`\n",
    "- The same equation is used to count the number of coins: `eq_lst = [50]*n+[20]*m+[10]*l+[5]*k+[2]*j+[1]*i`\n",
    "- At this point, a check for odd and even coins is performed and the loop continues."
   ]
  },
  {
   "cell_type": "code",
   "execution_count": 1,
   "id": "1aa711d3",
   "metadata": {
    "ExecuteTime": {
     "end_time": "2023-02-05T17:45:39.446230Z",
     "start_time": "2023-02-05T17:45:39.438502Z"
    },
    "code_folding": [
     0
    ]
   },
   "outputs": [],
   "source": [
    "def get_expensive_pence_loop(target, in_pounds):\n",
    "    \"\"\"Get expensive pence loop.\n",
    "\n",
    "    Expensive is here used to flag the fact this naive\n",
    "    implementation do not scale well.\n",
    "\n",
    "    Parameters\n",
    "    ----------\n",
    "    targets : int\n",
    "        Value of the target coin\n",
    "    in_pounds : bool\n",
    "        Wether the value is in pound or pence\n",
    "\n",
    "    Returns\n",
    "    -------\n",
    "    list_even : list[list]\n",
    "        Each list in the list has a number of even coins\n",
    "    list_odd : list[list]\n",
    "        Each list in the listhas a number of odd coins\n",
    "    \"\"\"\n",
    "\n",
    "    if in_pounds:\n",
    "        target *= 100\n",
    "\n",
    "    list_odd = []\n",
    "    list_even = []\n",
    "\n",
    "    for n in range(0, 1+target//50):\n",
    "        remainder_n = target - 50*n\n",
    "\n",
    "        for m in range(0, 1+remainder_n//20):\n",
    "            remainder_m = remainder_n - 20*m\n",
    "\n",
    "            for l in range(0, 1+remainder_m//10):\n",
    "                remainder_l = remainder_m - 10*l\n",
    "\n",
    "                for k in range(0, 1+remainder_l//5):\n",
    "                    remainder_k = remainder_l - 5*k\n",
    "\n",
    "                    for j in range(0, 1+remainder_k//2):\n",
    "                        remainder_j = remainder_k - 2*j\n",
    "\n",
    "                        for i in range(0, 1+remainder_j//1):\n",
    "                            remainder_i = remainder_j - 1*i\n",
    "\n",
    "                            # Build equation\n",
    "                            eq = 50*n+20*m+10*l+5*k+2*j+1*i\n",
    "\n",
    "                            # Turn equation into a list: [1,1,1,1,1] for 5 pence\n",
    "                            eq_lst = [50]*n+[20]*m+[10]*l+[5]*k+[2]*j+[1]*i\n",
    "\n",
    "                            # Check if target is met\n",
    "                            if eq == target:\n",
    "                                # Check for even\n",
    "                                if len(eq_lst) % 2 == 0:\n",
    "                                    list_even.append(eq_lst)\n",
    "                                else:\n",
    "                                    # must be odd\n",
    "                                    list_odd.append(eq_lst)\n",
    "\n",
    "    return list_even, list_odd"
   ]
  },
  {
   "cell_type": "code",
   "execution_count": 2,
   "id": "f2d57aa7",
   "metadata": {
    "ExecuteTime": {
     "end_time": "2023-02-05T17:45:39.453060Z",
     "start_time": "2023-02-05T17:45:39.448281Z"
    },
    "code_folding": [
     0
    ]
   },
   "outputs": [],
   "source": [
    "def get_expensive_pound_loop(target):\n",
    "    \"\"\"Get expesnive pound loop.\n",
    "\n",
    "\n",
    "    Expensive is here used to flag the fact this naive\n",
    "    implementation do not scale well.\n",
    "\n",
    "    Parameters\n",
    "    ----------\n",
    "    targets : int\n",
    "        Value of the target coin\n",
    "\n",
    "    Returns\n",
    "    -------\n",
    "    list_even : list[list]\n",
    "        Each list in the list has a number of even coins\n",
    "    list_odd : list[list]\n",
    "        Each list in the list has a number of odd coins \n",
    "    \"\"\"\n",
    "\n",
    "    # Initialise odd and even coins count list\n",
    "    list_odd = []\n",
    "    list_even = []\n",
    "\n",
    "    for j in range(0, 1+target//2):\n",
    "        remainder_j = target - 2*j\n",
    "\n",
    "        for i in range(0, 1+remainder_j//1):\n",
    "            remainder_i = remainder_j - 1*i\n",
    "\n",
    "            # Equations\n",
    "            eq = 2*j + 1*i\n",
    "\n",
    "            # Turn equation into a list containing coins: [1,1] for 2 pounds\n",
    "            eq_lst = [2]*j + [1]*i\n",
    "\n",
    "            if eq == target:\n",
    "                if len(eq_lst) % 2 == 0:\n",
    "                    list_even.append(eq_lst)\n",
    "                else:\n",
    "                    list_odd.append(eq_lst)\n",
    "\n",
    "    return list_even, list_odd"
   ]
  },
  {
   "cell_type": "code",
   "execution_count": 3,
   "id": "31a16772",
   "metadata": {
    "ExecuteTime": {
     "end_time": "2023-02-05T17:45:39.461012Z",
     "start_time": "2023-02-05T17:45:39.456143Z"
    },
    "code_folding": [
     0
    ]
   },
   "outputs": [],
   "source": [
    "def get_pence_combinations(target, in_pounds=False, verbose=True):\n",
    "    \"\"\"Get pence combinations.\n",
    "\n",
    "    Parameters\n",
    "    ----------\n",
    "    target : int\n",
    "        Value of accepted pence : 1,2,5,10,20,50\n",
    "    in_pounds : Bool, Default to False\n",
    "        Whether to consider the target in pounds\n",
    "    verbose : Bool, default True\n",
    "        Whether to print on console or not\n",
    "\n",
    "    Returns\n",
    "    -------\n",
    "    list_even_no : int\n",
    "        No of even coins combinations\n",
    "    list_odd_no : int\n",
    "        No of odd coins combinations\n",
    "    \"\"\"\n",
    "\n",
    "    target_ = target\n",
    "    if in_pounds:\n",
    "        target_ *= 100\n",
    "\n",
    "    if verbose:\n",
    "        print(\"\\nPence coin vs. loop:\")\n",
    "        print(\"50 is searched No of times:\", target_//50)\n",
    "        print(\"20 is searched No of times:\", target_//20)\n",
    "        print(\"10 is searched No of times:\", target_//10)\n",
    "        print(\"5 is searched No of times:\", target_//5)\n",
    "        print(\"2 is searched No of times:\", target_//2)\n",
    "        print(\"1 is searched No of times:\", target_//1)\n",
    "\n",
    "    # Get the list of even or odd coins combinations\n",
    "    list_even, list_odd = get_expensive_pence_loop(target, in_pounds)\n",
    "\n",
    "    if verbose:\n",
    "        print(\"No combinations having odd No of coins: \", len(list_odd))\n",
    "        print(\"No combinations having even No of coins: \", len(list_even), \"\\n\")\n",
    "\n",
    "    list_even_no = len(list_even)\n",
    "    list_odd_no = len(list_odd)\n",
    "\n",
    "    return list_even_no, list_odd_no"
   ]
  },
  {
   "cell_type": "code",
   "execution_count": 4,
   "id": "2dc8b509",
   "metadata": {
    "ExecuteTime": {
     "end_time": "2023-02-05T17:45:39.469018Z",
     "start_time": "2023-02-05T17:45:39.464460Z"
    },
    "code_folding": [
     0
    ]
   },
   "outputs": [],
   "source": [
    "def get_pound_combinations(target, verbose=True):\n",
    "    \"\"\"Get pound combinations.\n",
    "\n",
    "    Parameters\n",
    "    ----------\n",
    "    target : int\n",
    "        Value of accepte pounds: 1,2\n",
    "    verbose : Bool, default True\n",
    "        Whether to print on console or not\n",
    "\n",
    "    Returns\n",
    "    -------\n",
    "    list_even_no : int\n",
    "        No of even coins combinations\n",
    "    list_odd_no : int\n",
    "        No of odd coins combinations\n",
    "    \"\"\"\n",
    "\n",
    "    combinations = 0\n",
    "\n",
    "    if verbose:\n",
    "        print(\"\\nPound coin vs. loop:\")\n",
    "        print(\"2 is searched no:\", target//2)\n",
    "        print(\"1 is searched no:\", target//1)\n",
    "\n",
    "    # Get list of even and odd coins combinations\n",
    "    list_even, list_odd = get_expensive_pound_loop(target)\n",
    "\n",
    "    if verbose:\n",
    "        print(\"No combinations having odd No of coins: \", len(list_odd))\n",
    "        print(\"No combinations having even No of coins: \", len(list_even), \"\\n\")\n",
    "\n",
    "    list_even_no = len(list_even)\n",
    "    list_odd_no = len(list_odd)\n",
    "\n",
    "    return list_even_no, list_odd_no"
   ]
  },
  {
   "cell_type": "code",
   "execution_count": 5,
   "id": "c57307ed",
   "metadata": {
    "ExecuteTime": {
     "end_time": "2023-02-05T17:45:39.477476Z",
     "start_time": "2023-02-05T17:45:39.471036Z"
    },
    "code_folding": [
     0
    ]
   },
   "outputs": [],
   "source": [
    "def get_clean_inputs(value_in, verbose=True):\n",
    "    \"\"\"Get clean inputs.\n",
    "\n",
    "    Parameters\n",
    "    ----------\n",
    "    value_in : £x-y\n",
    "        Input formats £1-1\n",
    "    verbose : Bool, default True\n",
    "        Whether to print on console or not\n",
    "\n",
    "    Returns\n",
    "    -------\n",
    "    pound : int\n",
    "        Value in pounds\n",
    "    pence : int\n",
    "        Value in pence\n",
    "    \"\"\"\n",
    "\n",
    "    # Check if first character is th pound symbol\n",
    "    if value_in[0] != \"£\":\n",
    "        raise ValueError(\n",
    "            \"First character must be currency £, Allowed format is: £1:1\")\n",
    "\n",
    "    # Check is the hyphen in the input\n",
    "    if \"-\" not in list(value_in):\n",
    "        raise ValueError(\"Pound and pence must be separated by a hyphen '-'!\")\n",
    "\n",
    "    # Get value of pounds and pence\n",
    "    pounds = int(value_in[1:].split(\"-\")[0])\n",
    "    pence = int(value_in[1:].split(\"-\")[1])\n",
    "\n",
    "    # Check for minimum amount of amount >0\n",
    "    if not pounds and not pence:\n",
    "        raise ValueError(\n",
    "            \"No money to change! Please enter at least one value in pound or pence. \\\n",
    "            Allowed formats are: £1-0: or £0:1\")\n",
    "\n",
    "    if verbose:\n",
    "        print(\"Money-in: Pounds:\", pounds, \"| Pence:\", pence)\n",
    "\n",
    "    return pounds, pence"
   ]
  },
  {
   "cell_type": "markdown",
   "id": "8c0f942b",
   "metadata": {},
   "source": [
    "# Main\n",
    "<hr style=\"border:2px solid black\"> </hr>"
   ]
  },
  {
   "cell_type": "code",
   "execution_count": 6,
   "id": "cf2db6aa",
   "metadata": {
    "ExecuteTime": {
     "end_time": "2023-02-05T17:45:39.484032Z",
     "start_time": "2023-02-05T17:45:39.479709Z"
    },
    "code_folding": [
     0
    ]
   },
   "outputs": [],
   "source": [
    "def get_odd_coin_change(value_in, verbose=True):\n",
    "    \"\"\"Get number of odd count change combinations.\n",
    "\n",
    "    Parameters\n",
    "    ----------\n",
    "    value_in : £xx:xx\n",
    "        Input formats £1:1\n",
    "    verbose : Bool, default True\n",
    "        Whether to print on console or not\n",
    "\n",
    "    Returns\n",
    "    -------\n",
    "    odd_count_counter : int\n",
    "        No of odd count counter\n",
    "    \"\"\"\n",
    "\n",
    "    # Get working inputs\n",
    "    pounds, pence = get_clean_inputs(value_in, verbose=verbose)\n",
    "\n",
    "    # Initialise counter\n",
    "    odd_count_counter = 0\n",
    "\n",
    "    # Get combinations for value in pounds\n",
    "    if pounds != 0:\n",
    "        even_no_pounds, odd_no_pounds = get_pound_combinations(\n",
    "            pounds, verbose=verbose)\n",
    "        even_no_pence, odd_no_pence = get_pence_combinations(\n",
    "            pounds, in_pounds=True, verbose=verbose)\n",
    "        odd_count_counter += odd_no_pounds + odd_no_pence\n",
    "\n",
    "    # Get combinations for value in pence\n",
    "    if pence != 0:\n",
    "        even_no_pence, odd_no_pence = get_pence_combinations(\n",
    "            pence, verbose=verbose)\n",
    "        odd_count_counter += odd_no_pence\n",
    "\n",
    "    return odd_count_counter"
   ]
  },
  {
   "cell_type": "markdown",
   "id": "fa20e756",
   "metadata": {},
   "source": [
    "# Solutions\n",
    "<hr style=\"border:2px solid black\"> </hr>"
   ]
  },
  {
   "cell_type": "markdown",
   "id": "80cc9ecb",
   "metadata": {},
   "source": [
    "## £0-5"
   ]
  },
  {
   "cell_type": "code",
   "execution_count": 7,
   "id": "5d906fdf",
   "metadata": {
    "ExecuteTime": {
     "end_time": "2023-02-05T17:45:39.490478Z",
     "start_time": "2023-02-05T17:45:39.486913Z"
    },
    "scrolled": false
   },
   "outputs": [
    {
     "name": "stdout",
     "output_type": "stream",
     "text": [
      "Money-in: Pounds: 0 | Pence: 5\n",
      "\n",
      "Pence coin vs. loop:\n",
      "50 is searched No of times: 0\n",
      "20 is searched No of times: 0\n",
      "10 is searched No of times: 0\n",
      "5 is searched No of times: 1\n",
      "2 is searched No of times: 2\n",
      "1 is searched No of times: 5\n",
      "No combinations having odd No of coins:  3\n",
      "No combinations having even No of coins:  1 \n",
      "\n",
      "No of solutions which have odd coins count:  3\n"
     ]
    }
   ],
   "source": [
    "print(\"No of solutions which have odd coins count: \",\n",
    "      get_odd_coin_change(\"£0-5\", verbose=True))"
   ]
  },
  {
   "cell_type": "markdown",
   "id": "163d9551",
   "metadata": {
    "ExecuteTime": {
     "end_time": "2023-02-05T13:48:33.661025Z",
     "start_time": "2023-02-05T13:48:33.658479Z"
    }
   },
   "source": [
    "## £0-50"
   ]
  },
  {
   "cell_type": "code",
   "execution_count": 8,
   "id": "a142d5b3",
   "metadata": {
    "ExecuteTime": {
     "end_time": "2023-02-05T17:45:39.504717Z",
     "start_time": "2023-02-05T17:45:39.492561Z"
    }
   },
   "outputs": [
    {
     "name": "stdout",
     "output_type": "stream",
     "text": [
      "Money-in: Pounds: 0 | Pence: 50\n",
      "\n",
      "Pence coin vs. loop:\n",
      "50 is searched No of times: 1\n",
      "20 is searched No of times: 2\n",
      "10 is searched No of times: 5\n",
      "5 is searched No of times: 10\n",
      "2 is searched No of times: 25\n",
      "1 is searched No of times: 50\n",
      "No combinations having odd No of coins:  225\n",
      "No combinations having even No of coins:  226 \n",
      "\n",
      "No of solutions which have odd coins count:  225\n"
     ]
    }
   ],
   "source": [
    "print(\"No of solutions which have odd coins count: \",\n",
    "      get_odd_coin_change(\"£0-50\", verbose=True))"
   ]
  },
  {
   "cell_type": "markdown",
   "id": "d9c20b2e",
   "metadata": {},
   "source": [
    "## £2-0"
   ]
  },
  {
   "cell_type": "code",
   "execution_count": 9,
   "id": "1f6dadcf",
   "metadata": {
    "ExecuteTime": {
     "end_time": "2023-02-05T17:45:43.101124Z",
     "start_time": "2023-02-05T17:45:39.511165Z"
    }
   },
   "outputs": [
    {
     "name": "stdout",
     "output_type": "stream",
     "text": [
      "Money-in: Pounds: 2 | Pence: 0\n",
      "\n",
      "Pound coin vs. loop:\n",
      "2 is searched no: 1\n",
      "1 is searched no: 2\n",
      "No combinations having odd No of coins:  1\n",
      "No combinations having even No of coins:  1 \n",
      "\n",
      "\n",
      "Pence coin vs. loop:\n",
      "50 is searched No of times: 4\n",
      "20 is searched No of times: 10\n",
      "10 is searched No of times: 20\n",
      "5 is searched No of times: 40\n",
      "2 is searched No of times: 100\n",
      "1 is searched No of times: 200\n",
      "No combinations having odd No of coins:  34557\n",
      "No combinations having even No of coins:  34561 \n",
      "\n",
      "No of solutions which have odd coins count:  34558\n"
     ]
    }
   ],
   "source": [
    "print(\"No of solutions which have odd coins count: \",\n",
    "      get_odd_coin_change(\"£2-0\", verbose=True))"
   ]
  },
  {
   "cell_type": "markdown",
   "id": "20d5f4f1",
   "metadata": {},
   "source": [
    "## £10-0 - too long"
   ]
  },
  {
   "cell_type": "code",
   "execution_count": 10,
   "id": "fb08dc90",
   "metadata": {
    "ExecuteTime": {
     "end_time": "2023-02-05T17:45:43.105539Z",
     "start_time": "2023-02-05T17:45:43.103069Z"
    }
   },
   "outputs": [],
   "source": [
    "# print(\"No of solutions which have odd coin count: \", get_odd_coin_change(\"£10-0\", verbose=True))"
   ]
  },
  {
   "cell_type": "markdown",
   "id": "e0908d12",
   "metadata": {},
   "source": [
    "## £100-0 - too long"
   ]
  },
  {
   "cell_type": "code",
   "execution_count": 11,
   "id": "fb61b07a",
   "metadata": {
    "ExecuteTime": {
     "end_time": "2023-02-05T17:45:43.109817Z",
     "start_time": "2023-02-05T17:45:43.107555Z"
    }
   },
   "outputs": [],
   "source": [
    "#print(\"No of solutions which have odd coin count: \", get_odd_coin_change(\"£100-0\", verbose=True))"
   ]
  },
  {
   "cell_type": "code",
   "execution_count": null,
   "id": "8d5e84bb",
   "metadata": {},
   "outputs": [],
   "source": []
  }
 ],
 "metadata": {
  "kernelspec": {
   "display_name": "teststat",
   "language": "python",
   "name": "teststat"
  },
  "language_info": {
   "codemirror_mode": {
    "name": "ipython",
    "version": 3
   },
   "file_extension": ".py",
   "mimetype": "text/x-python",
   "name": "python",
   "nbconvert_exporter": "python",
   "pygments_lexer": "ipython3",
   "version": "3.7.0"
  },
  "toc": {
   "base_numbering": 1,
   "nav_menu": {},
   "number_sections": true,
   "sideBar": true,
   "skip_h1_title": false,
   "title_cell": "Table of Contents",
   "title_sidebar": "Contents",
   "toc_cell": true,
   "toc_position": {
    "height": "calc(100% - 180px)",
    "left": "10px",
    "top": "150px",
    "width": "215.75px"
   },
   "toc_section_display": true,
   "toc_window_display": true
  },
  "varInspector": {
   "cols": {
    "lenName": 16,
    "lenType": 16,
    "lenVar": 40
   },
   "kernels_config": {
    "python": {
     "delete_cmd_postfix": "",
     "delete_cmd_prefix": "del ",
     "library": "var_list.py",
     "varRefreshCmd": "print(var_dic_list())"
    },
    "r": {
     "delete_cmd_postfix": ") ",
     "delete_cmd_prefix": "rm(",
     "library": "var_list.r",
     "varRefreshCmd": "cat(var_dic_list()) "
    }
   },
   "types_to_exclude": [
    "module",
    "function",
    "builtin_function_or_method",
    "instance",
    "_Feature"
   ],
   "window_display": false
  }
 },
 "nbformat": 4,
 "nbformat_minor": 5
}
